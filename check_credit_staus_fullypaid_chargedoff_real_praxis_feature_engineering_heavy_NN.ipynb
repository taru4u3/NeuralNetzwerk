{
  "nbformat": 4,
  "nbformat_minor": 0,
  "metadata": {
    "colab": {
      "provenance": [],
      "authorship_tag": "ABX9TyNAnCbXfApmquUw28BpVOpk",
      "include_colab_link": true
    },
    "kernelspec": {
      "name": "python3",
      "display_name": "Python 3"
    },
    "language_info": {
      "name": "python"
    },
    "accelerator": "TPU"
  },
  "cells": [
    {
      "cell_type": "markdown",
      "metadata": {
        "id": "view-in-github",
        "colab_type": "text"
      },
      "source": [
        "<a href=\"https://colab.research.google.com/github/taru4u3/NeuralNetzwerk/blob/main/check_credit_staus_fullypaid_chargedoff_real_praxis_feature_engineering_heavy_NN.ipynb\" target=\"_parent\"><img src=\"https://colab.research.google.com/assets/colab-badge.svg\" alt=\"Open In Colab\"/></a>"
      ]
    },
    {
      "cell_type": "code",
      "execution_count": 52,
      "metadata": {
        "id": "URl98M9MTaAK"
      },
      "outputs": [],
      "source": [
        "import pandas as pd\n",
        "import numpy as np\n",
        "import seaborn as sns\n",
        "import matplotlib.pyplot as plt\n",
        "%matplotlib inline"
      ]
    },
    {
      "cell_type": "markdown",
      "source": [
        "Download first csv which contains column names with description"
      ],
      "metadata": {
        "id": "IYQtQZO9YkWS"
      }
    },
    {
      "cell_type": "code",
      "source": [
        "data_info = pd.read_csv('./lending_club_info.csv',index_col='LoanStatNew')\n",
        "#index_col : int or sequence, default 0\n",
        "#defines which Column to use for index."
      ],
      "metadata": {
        "id": "iTybsSJBUsay"
      },
      "execution_count": 53,
      "outputs": []
    },
    {
      "cell_type": "code",
      "source": [
        "data_info.head()"
      ],
      "metadata": {
        "colab": {
          "base_uri": "https://localhost:8080/",
          "height": 238
        },
        "id": "pkTnyHU9Uz0W",
        "outputId": "25749d47-8441-4708-fdc2-2660be47c227"
      },
      "execution_count": 54,
      "outputs": [
        {
          "output_type": "execute_result",
          "data": {
            "text/plain": [
              "                                                   Description\n",
              "LoanStatNew                                                   \n",
              "loan_amnt    The listed amount of the loan applied for by t...\n",
              "term         The number of payments on the loan. Values are...\n",
              "int_rate                             Interest Rate on the loan\n",
              "installment  The monthly payment owed by the borrower if th...\n",
              "grade                                   LC assigned loan grade"
            ],
            "text/html": [
              "\n",
              "  <div id=\"df-35e0a767-9bf4-48f4-a03f-e1b22f9bef73\" class=\"colab-df-container\">\n",
              "    <div>\n",
              "<style scoped>\n",
              "    .dataframe tbody tr th:only-of-type {\n",
              "        vertical-align: middle;\n",
              "    }\n",
              "\n",
              "    .dataframe tbody tr th {\n",
              "        vertical-align: top;\n",
              "    }\n",
              "\n",
              "    .dataframe thead th {\n",
              "        text-align: right;\n",
              "    }\n",
              "</style>\n",
              "<table border=\"1\" class=\"dataframe\">\n",
              "  <thead>\n",
              "    <tr style=\"text-align: right;\">\n",
              "      <th></th>\n",
              "      <th>Description</th>\n",
              "    </tr>\n",
              "    <tr>\n",
              "      <th>LoanStatNew</th>\n",
              "      <th></th>\n",
              "    </tr>\n",
              "  </thead>\n",
              "  <tbody>\n",
              "    <tr>\n",
              "      <th>loan_amnt</th>\n",
              "      <td>The listed amount of the loan applied for by t...</td>\n",
              "    </tr>\n",
              "    <tr>\n",
              "      <th>term</th>\n",
              "      <td>The number of payments on the loan. Values are...</td>\n",
              "    </tr>\n",
              "    <tr>\n",
              "      <th>int_rate</th>\n",
              "      <td>Interest Rate on the loan</td>\n",
              "    </tr>\n",
              "    <tr>\n",
              "      <th>installment</th>\n",
              "      <td>The monthly payment owed by the borrower if th...</td>\n",
              "    </tr>\n",
              "    <tr>\n",
              "      <th>grade</th>\n",
              "      <td>LC assigned loan grade</td>\n",
              "    </tr>\n",
              "  </tbody>\n",
              "</table>\n",
              "</div>\n",
              "    <div class=\"colab-df-buttons\">\n",
              "\n",
              "  <div class=\"colab-df-container\">\n",
              "    <button class=\"colab-df-convert\" onclick=\"convertToInteractive('df-35e0a767-9bf4-48f4-a03f-e1b22f9bef73')\"\n",
              "            title=\"Convert this dataframe to an interactive table.\"\n",
              "            style=\"display:none;\">\n",
              "\n",
              "  <svg xmlns=\"http://www.w3.org/2000/svg\" height=\"24px\" viewBox=\"0 -960 960 960\">\n",
              "    <path d=\"M120-120v-720h720v720H120Zm60-500h600v-160H180v160Zm220 220h160v-160H400v160Zm0 220h160v-160H400v160ZM180-400h160v-160H180v160Zm440 0h160v-160H620v160ZM180-180h160v-160H180v160Zm440 0h160v-160H620v160Z\"/>\n",
              "  </svg>\n",
              "    </button>\n",
              "\n",
              "  <style>\n",
              "    .colab-df-container {\n",
              "      display:flex;\n",
              "      gap: 12px;\n",
              "    }\n",
              "\n",
              "    .colab-df-convert {\n",
              "      background-color: #E8F0FE;\n",
              "      border: none;\n",
              "      border-radius: 50%;\n",
              "      cursor: pointer;\n",
              "      display: none;\n",
              "      fill: #1967D2;\n",
              "      height: 32px;\n",
              "      padding: 0 0 0 0;\n",
              "      width: 32px;\n",
              "    }\n",
              "\n",
              "    .colab-df-convert:hover {\n",
              "      background-color: #E2EBFA;\n",
              "      box-shadow: 0px 1px 2px rgba(60, 64, 67, 0.3), 0px 1px 3px 1px rgba(60, 64, 67, 0.15);\n",
              "      fill: #174EA6;\n",
              "    }\n",
              "\n",
              "    .colab-df-buttons div {\n",
              "      margin-bottom: 4px;\n",
              "    }\n",
              "\n",
              "    [theme=dark] .colab-df-convert {\n",
              "      background-color: #3B4455;\n",
              "      fill: #D2E3FC;\n",
              "    }\n",
              "\n",
              "    [theme=dark] .colab-df-convert:hover {\n",
              "      background-color: #434B5C;\n",
              "      box-shadow: 0px 1px 3px 1px rgba(0, 0, 0, 0.15);\n",
              "      filter: drop-shadow(0px 1px 2px rgba(0, 0, 0, 0.3));\n",
              "      fill: #FFFFFF;\n",
              "    }\n",
              "  </style>\n",
              "\n",
              "    <script>\n",
              "      const buttonEl =\n",
              "        document.querySelector('#df-35e0a767-9bf4-48f4-a03f-e1b22f9bef73 button.colab-df-convert');\n",
              "      buttonEl.style.display =\n",
              "        google.colab.kernel.accessAllowed ? 'block' : 'none';\n",
              "\n",
              "      async function convertToInteractive(key) {\n",
              "        const element = document.querySelector('#df-35e0a767-9bf4-48f4-a03f-e1b22f9bef73');\n",
              "        const dataTable =\n",
              "          await google.colab.kernel.invokeFunction('convertToInteractive',\n",
              "                                                    [key], {});\n",
              "        if (!dataTable) return;\n",
              "\n",
              "        const docLinkHtml = 'Like what you see? Visit the ' +\n",
              "          '<a target=\"_blank\" href=https://colab.research.google.com/notebooks/data_table.ipynb>data table notebook</a>'\n",
              "          + ' to learn more about interactive tables.';\n",
              "        element.innerHTML = '';\n",
              "        dataTable['output_type'] = 'display_data';\n",
              "        await google.colab.output.renderOutput(dataTable, element);\n",
              "        const docLink = document.createElement('div');\n",
              "        docLink.innerHTML = docLinkHtml;\n",
              "        element.appendChild(docLink);\n",
              "      }\n",
              "    </script>\n",
              "  </div>\n",
              "\n",
              "\n",
              "<div id=\"df-e734d266-11d9-433d-af51-fce11863671e\">\n",
              "  <button class=\"colab-df-quickchart\" onclick=\"quickchart('df-e734d266-11d9-433d-af51-fce11863671e')\"\n",
              "            title=\"Suggest charts\"\n",
              "            style=\"display:none;\">\n",
              "\n",
              "<svg xmlns=\"http://www.w3.org/2000/svg\" height=\"24px\"viewBox=\"0 0 24 24\"\n",
              "     width=\"24px\">\n",
              "    <g>\n",
              "        <path d=\"M19 3H5c-1.1 0-2 .9-2 2v14c0 1.1.9 2 2 2h14c1.1 0 2-.9 2-2V5c0-1.1-.9-2-2-2zM9 17H7v-7h2v7zm4 0h-2V7h2v10zm4 0h-2v-4h2v4z\"/>\n",
              "    </g>\n",
              "</svg>\n",
              "  </button>\n",
              "\n",
              "<style>\n",
              "  .colab-df-quickchart {\n",
              "      --bg-color: #E8F0FE;\n",
              "      --fill-color: #1967D2;\n",
              "      --hover-bg-color: #E2EBFA;\n",
              "      --hover-fill-color: #174EA6;\n",
              "      --disabled-fill-color: #AAA;\n",
              "      --disabled-bg-color: #DDD;\n",
              "  }\n",
              "\n",
              "  [theme=dark] .colab-df-quickchart {\n",
              "      --bg-color: #3B4455;\n",
              "      --fill-color: #D2E3FC;\n",
              "      --hover-bg-color: #434B5C;\n",
              "      --hover-fill-color: #FFFFFF;\n",
              "      --disabled-bg-color: #3B4455;\n",
              "      --disabled-fill-color: #666;\n",
              "  }\n",
              "\n",
              "  .colab-df-quickchart {\n",
              "    background-color: var(--bg-color);\n",
              "    border: none;\n",
              "    border-radius: 50%;\n",
              "    cursor: pointer;\n",
              "    display: none;\n",
              "    fill: var(--fill-color);\n",
              "    height: 32px;\n",
              "    padding: 0;\n",
              "    width: 32px;\n",
              "  }\n",
              "\n",
              "  .colab-df-quickchart:hover {\n",
              "    background-color: var(--hover-bg-color);\n",
              "    box-shadow: 0 1px 2px rgba(60, 64, 67, 0.3), 0 1px 3px 1px rgba(60, 64, 67, 0.15);\n",
              "    fill: var(--button-hover-fill-color);\n",
              "  }\n",
              "\n",
              "  .colab-df-quickchart-complete:disabled,\n",
              "  .colab-df-quickchart-complete:disabled:hover {\n",
              "    background-color: var(--disabled-bg-color);\n",
              "    fill: var(--disabled-fill-color);\n",
              "    box-shadow: none;\n",
              "  }\n",
              "\n",
              "  .colab-df-spinner {\n",
              "    border: 2px solid var(--fill-color);\n",
              "    border-color: transparent;\n",
              "    border-bottom-color: var(--fill-color);\n",
              "    animation:\n",
              "      spin 1s steps(1) infinite;\n",
              "  }\n",
              "\n",
              "  @keyframes spin {\n",
              "    0% {\n",
              "      border-color: transparent;\n",
              "      border-bottom-color: var(--fill-color);\n",
              "      border-left-color: var(--fill-color);\n",
              "    }\n",
              "    20% {\n",
              "      border-color: transparent;\n",
              "      border-left-color: var(--fill-color);\n",
              "      border-top-color: var(--fill-color);\n",
              "    }\n",
              "    30% {\n",
              "      border-color: transparent;\n",
              "      border-left-color: var(--fill-color);\n",
              "      border-top-color: var(--fill-color);\n",
              "      border-right-color: var(--fill-color);\n",
              "    }\n",
              "    40% {\n",
              "      border-color: transparent;\n",
              "      border-right-color: var(--fill-color);\n",
              "      border-top-color: var(--fill-color);\n",
              "    }\n",
              "    60% {\n",
              "      border-color: transparent;\n",
              "      border-right-color: var(--fill-color);\n",
              "    }\n",
              "    80% {\n",
              "      border-color: transparent;\n",
              "      border-right-color: var(--fill-color);\n",
              "      border-bottom-color: var(--fill-color);\n",
              "    }\n",
              "    90% {\n",
              "      border-color: transparent;\n",
              "      border-bottom-color: var(--fill-color);\n",
              "    }\n",
              "  }\n",
              "</style>\n",
              "\n",
              "  <script>\n",
              "    async function quickchart(key) {\n",
              "      const quickchartButtonEl =\n",
              "        document.querySelector('#' + key + ' button');\n",
              "      quickchartButtonEl.disabled = true;  // To prevent multiple clicks.\n",
              "      quickchartButtonEl.classList.add('colab-df-spinner');\n",
              "      try {\n",
              "        const charts = await google.colab.kernel.invokeFunction(\n",
              "            'suggestCharts', [key], {});\n",
              "      } catch (error) {\n",
              "        console.error('Error during call to suggestCharts:', error);\n",
              "      }\n",
              "      quickchartButtonEl.classList.remove('colab-df-spinner');\n",
              "      quickchartButtonEl.classList.add('colab-df-quickchart-complete');\n",
              "    }\n",
              "    (() => {\n",
              "      let quickchartButtonEl =\n",
              "        document.querySelector('#df-e734d266-11d9-433d-af51-fce11863671e button');\n",
              "      quickchartButtonEl.style.display =\n",
              "        google.colab.kernel.accessAllowed ? 'block' : 'none';\n",
              "    })();\n",
              "  </script>\n",
              "</div>\n",
              "    </div>\n",
              "  </div>\n"
            ]
          },
          "metadata": {},
          "execution_count": 54
        }
      ]
    },
    {
      "cell_type": "code",
      "source": [
        "print(data_info.loc['term']['Description'])"
      ],
      "metadata": {
        "colab": {
          "base_uri": "https://localhost:8080/"
        },
        "id": "5BZXRms5U162",
        "outputId": "f35cd956-0b9c-46b2-82ee-e16afff04d2d"
      },
      "execution_count": 55,
      "outputs": [
        {
          "output_type": "stream",
          "name": "stdout",
          "text": [
            "The number of payments on the loan. Values are in months and can be either 36 or 60.\n"
          ]
        }
      ]
    },
    {
      "cell_type": "markdown",
      "source": [
        "Define a function, that is handy to read description of any column"
      ],
      "metadata": {
        "id": "5sMOYy0eYsIb"
      }
    },
    {
      "cell_type": "code",
      "source": [
        "def feature_info(col_name):\n",
        "  print(data_info.loc[col_name]['Description'])"
      ],
      "metadata": {
        "id": "pZAWFFjbXfVE"
      },
      "execution_count": 56,
      "outputs": []
    },
    {
      "cell_type": "code",
      "source": [
        "feature_info('grade')"
      ],
      "metadata": {
        "colab": {
          "base_uri": "https://localhost:8080/"
        },
        "id": "xYGlldx3Xvnl",
        "outputId": "808de02e-07fa-487d-c49b-338e72e8377a"
      },
      "execution_count": 57,
      "outputs": [
        {
          "output_type": "stream",
          "name": "stdout",
          "text": [
            "LC assigned loan grade\n"
          ]
        }
      ]
    },
    {
      "cell_type": "markdown",
      "source": [
        "Download second csv containing the column data"
      ],
      "metadata": {
        "id": "fd4EZ1RRYzup"
      }
    },
    {
      "cell_type": "code",
      "source": [
        "df = pd.read_csv('./lending_club_loan_two.csv')"
      ],
      "metadata": {
        "id": "CuBY8TwRX8sE"
      },
      "execution_count": 58,
      "outputs": []
    },
    {
      "cell_type": "code",
      "source": [
        "df.head(5)"
      ],
      "metadata": {
        "colab": {
          "base_uri": "https://localhost:8080/",
          "height": 429
        },
        "id": "X2G3xEpnYGzz",
        "outputId": "032047ee-bb0c-47fc-91f4-45cc9d4ce37f"
      },
      "execution_count": 59,
      "outputs": [
        {
          "output_type": "execute_result",
          "data": {
            "text/plain": [
              "   loan_amnt        term  int_rate  installment grade sub_grade  \\\n",
              "0    10000.0   36 months     11.44       329.48     B        B4   \n",
              "1     8000.0   36 months     11.99       265.68     B        B5   \n",
              "2    15600.0   36 months     10.49       506.97     B        B3   \n",
              "3     7200.0   36 months      6.49       220.65     A        A2   \n",
              "4    24375.0   60 months     17.27       609.33     C        C5   \n",
              "\n",
              "                 emp_title emp_length home_ownership  annual_inc  ...  \\\n",
              "0                Marketing  10+ years           RENT    117000.0  ...   \n",
              "1          Credit analyst     4 years       MORTGAGE     65000.0  ...   \n",
              "2             Statistician   < 1 year           RENT     43057.0  ...   \n",
              "3          Client Advocate    6 years           RENT     54000.0  ...   \n",
              "4  Destiny Management Inc.    9 years       MORTGAGE     55000.0  ...   \n",
              "\n",
              "  open_acc pub_rec revol_bal revol_util total_acc  initial_list_status  \\\n",
              "0     16.0     0.0   36369.0       41.8      25.0                    w   \n",
              "1     17.0     0.0   20131.0       53.3      27.0                    f   \n",
              "2     13.0     0.0   11987.0       92.2      26.0                    f   \n",
              "3      6.0     0.0    5472.0       21.5      13.0                    f   \n",
              "4     13.0     0.0   24584.0       69.8      43.0                    f   \n",
              "\n",
              "  application_type  mort_acc  pub_rec_bankruptcies  \\\n",
              "0       INDIVIDUAL       0.0                   0.0   \n",
              "1       INDIVIDUAL       3.0                   0.0   \n",
              "2       INDIVIDUAL       0.0                   0.0   \n",
              "3       INDIVIDUAL       0.0                   0.0   \n",
              "4       INDIVIDUAL       1.0                   0.0   \n",
              "\n",
              "                                           address  \n",
              "0     0174 Michelle Gateway\\nMendozaberg, OK 22690  \n",
              "1  1076 Carney Fort Apt. 347\\nLoganmouth, SD 05113  \n",
              "2  87025 Mark Dale Apt. 269\\nNew Sabrina, WV 05113  \n",
              "3            823 Reid Ford\\nDelacruzside, MA 00813  \n",
              "4             679 Luna Roads\\nGreggshire, VA 11650  \n",
              "\n",
              "[5 rows x 27 columns]"
            ],
            "text/html": [
              "\n",
              "  <div id=\"df-b4b48a11-f7ac-458c-9c77-af3b6e4898ff\" class=\"colab-df-container\">\n",
              "    <div>\n",
              "<style scoped>\n",
              "    .dataframe tbody tr th:only-of-type {\n",
              "        vertical-align: middle;\n",
              "    }\n",
              "\n",
              "    .dataframe tbody tr th {\n",
              "        vertical-align: top;\n",
              "    }\n",
              "\n",
              "    .dataframe thead th {\n",
              "        text-align: right;\n",
              "    }\n",
              "</style>\n",
              "<table border=\"1\" class=\"dataframe\">\n",
              "  <thead>\n",
              "    <tr style=\"text-align: right;\">\n",
              "      <th></th>\n",
              "      <th>loan_amnt</th>\n",
              "      <th>term</th>\n",
              "      <th>int_rate</th>\n",
              "      <th>installment</th>\n",
              "      <th>grade</th>\n",
              "      <th>sub_grade</th>\n",
              "      <th>emp_title</th>\n",
              "      <th>emp_length</th>\n",
              "      <th>home_ownership</th>\n",
              "      <th>annual_inc</th>\n",
              "      <th>...</th>\n",
              "      <th>open_acc</th>\n",
              "      <th>pub_rec</th>\n",
              "      <th>revol_bal</th>\n",
              "      <th>revol_util</th>\n",
              "      <th>total_acc</th>\n",
              "      <th>initial_list_status</th>\n",
              "      <th>application_type</th>\n",
              "      <th>mort_acc</th>\n",
              "      <th>pub_rec_bankruptcies</th>\n",
              "      <th>address</th>\n",
              "    </tr>\n",
              "  </thead>\n",
              "  <tbody>\n",
              "    <tr>\n",
              "      <th>0</th>\n",
              "      <td>10000.0</td>\n",
              "      <td>36 months</td>\n",
              "      <td>11.44</td>\n",
              "      <td>329.48</td>\n",
              "      <td>B</td>\n",
              "      <td>B4</td>\n",
              "      <td>Marketing</td>\n",
              "      <td>10+ years</td>\n",
              "      <td>RENT</td>\n",
              "      <td>117000.0</td>\n",
              "      <td>...</td>\n",
              "      <td>16.0</td>\n",
              "      <td>0.0</td>\n",
              "      <td>36369.0</td>\n",
              "      <td>41.8</td>\n",
              "      <td>25.0</td>\n",
              "      <td>w</td>\n",
              "      <td>INDIVIDUAL</td>\n",
              "      <td>0.0</td>\n",
              "      <td>0.0</td>\n",
              "      <td>0174 Michelle Gateway\\nMendozaberg, OK 22690</td>\n",
              "    </tr>\n",
              "    <tr>\n",
              "      <th>1</th>\n",
              "      <td>8000.0</td>\n",
              "      <td>36 months</td>\n",
              "      <td>11.99</td>\n",
              "      <td>265.68</td>\n",
              "      <td>B</td>\n",
              "      <td>B5</td>\n",
              "      <td>Credit analyst</td>\n",
              "      <td>4 years</td>\n",
              "      <td>MORTGAGE</td>\n",
              "      <td>65000.0</td>\n",
              "      <td>...</td>\n",
              "      <td>17.0</td>\n",
              "      <td>0.0</td>\n",
              "      <td>20131.0</td>\n",
              "      <td>53.3</td>\n",
              "      <td>27.0</td>\n",
              "      <td>f</td>\n",
              "      <td>INDIVIDUAL</td>\n",
              "      <td>3.0</td>\n",
              "      <td>0.0</td>\n",
              "      <td>1076 Carney Fort Apt. 347\\nLoganmouth, SD 05113</td>\n",
              "    </tr>\n",
              "    <tr>\n",
              "      <th>2</th>\n",
              "      <td>15600.0</td>\n",
              "      <td>36 months</td>\n",
              "      <td>10.49</td>\n",
              "      <td>506.97</td>\n",
              "      <td>B</td>\n",
              "      <td>B3</td>\n",
              "      <td>Statistician</td>\n",
              "      <td>&lt; 1 year</td>\n",
              "      <td>RENT</td>\n",
              "      <td>43057.0</td>\n",
              "      <td>...</td>\n",
              "      <td>13.0</td>\n",
              "      <td>0.0</td>\n",
              "      <td>11987.0</td>\n",
              "      <td>92.2</td>\n",
              "      <td>26.0</td>\n",
              "      <td>f</td>\n",
              "      <td>INDIVIDUAL</td>\n",
              "      <td>0.0</td>\n",
              "      <td>0.0</td>\n",
              "      <td>87025 Mark Dale Apt. 269\\nNew Sabrina, WV 05113</td>\n",
              "    </tr>\n",
              "    <tr>\n",
              "      <th>3</th>\n",
              "      <td>7200.0</td>\n",
              "      <td>36 months</td>\n",
              "      <td>6.49</td>\n",
              "      <td>220.65</td>\n",
              "      <td>A</td>\n",
              "      <td>A2</td>\n",
              "      <td>Client Advocate</td>\n",
              "      <td>6 years</td>\n",
              "      <td>RENT</td>\n",
              "      <td>54000.0</td>\n",
              "      <td>...</td>\n",
              "      <td>6.0</td>\n",
              "      <td>0.0</td>\n",
              "      <td>5472.0</td>\n",
              "      <td>21.5</td>\n",
              "      <td>13.0</td>\n",
              "      <td>f</td>\n",
              "      <td>INDIVIDUAL</td>\n",
              "      <td>0.0</td>\n",
              "      <td>0.0</td>\n",
              "      <td>823 Reid Ford\\nDelacruzside, MA 00813</td>\n",
              "    </tr>\n",
              "    <tr>\n",
              "      <th>4</th>\n",
              "      <td>24375.0</td>\n",
              "      <td>60 months</td>\n",
              "      <td>17.27</td>\n",
              "      <td>609.33</td>\n",
              "      <td>C</td>\n",
              "      <td>C5</td>\n",
              "      <td>Destiny Management Inc.</td>\n",
              "      <td>9 years</td>\n",
              "      <td>MORTGAGE</td>\n",
              "      <td>55000.0</td>\n",
              "      <td>...</td>\n",
              "      <td>13.0</td>\n",
              "      <td>0.0</td>\n",
              "      <td>24584.0</td>\n",
              "      <td>69.8</td>\n",
              "      <td>43.0</td>\n",
              "      <td>f</td>\n",
              "      <td>INDIVIDUAL</td>\n",
              "      <td>1.0</td>\n",
              "      <td>0.0</td>\n",
              "      <td>679 Luna Roads\\nGreggshire, VA 11650</td>\n",
              "    </tr>\n",
              "  </tbody>\n",
              "</table>\n",
              "<p>5 rows × 27 columns</p>\n",
              "</div>\n",
              "    <div class=\"colab-df-buttons\">\n",
              "\n",
              "  <div class=\"colab-df-container\">\n",
              "    <button class=\"colab-df-convert\" onclick=\"convertToInteractive('df-b4b48a11-f7ac-458c-9c77-af3b6e4898ff')\"\n",
              "            title=\"Convert this dataframe to an interactive table.\"\n",
              "            style=\"display:none;\">\n",
              "\n",
              "  <svg xmlns=\"http://www.w3.org/2000/svg\" height=\"24px\" viewBox=\"0 -960 960 960\">\n",
              "    <path d=\"M120-120v-720h720v720H120Zm60-500h600v-160H180v160Zm220 220h160v-160H400v160Zm0 220h160v-160H400v160ZM180-400h160v-160H180v160Zm440 0h160v-160H620v160ZM180-180h160v-160H180v160Zm440 0h160v-160H620v160Z\"/>\n",
              "  </svg>\n",
              "    </button>\n",
              "\n",
              "  <style>\n",
              "    .colab-df-container {\n",
              "      display:flex;\n",
              "      gap: 12px;\n",
              "    }\n",
              "\n",
              "    .colab-df-convert {\n",
              "      background-color: #E8F0FE;\n",
              "      border: none;\n",
              "      border-radius: 50%;\n",
              "      cursor: pointer;\n",
              "      display: none;\n",
              "      fill: #1967D2;\n",
              "      height: 32px;\n",
              "      padding: 0 0 0 0;\n",
              "      width: 32px;\n",
              "    }\n",
              "\n",
              "    .colab-df-convert:hover {\n",
              "      background-color: #E2EBFA;\n",
              "      box-shadow: 0px 1px 2px rgba(60, 64, 67, 0.3), 0px 1px 3px 1px rgba(60, 64, 67, 0.15);\n",
              "      fill: #174EA6;\n",
              "    }\n",
              "\n",
              "    .colab-df-buttons div {\n",
              "      margin-bottom: 4px;\n",
              "    }\n",
              "\n",
              "    [theme=dark] .colab-df-convert {\n",
              "      background-color: #3B4455;\n",
              "      fill: #D2E3FC;\n",
              "    }\n",
              "\n",
              "    [theme=dark] .colab-df-convert:hover {\n",
              "      background-color: #434B5C;\n",
              "      box-shadow: 0px 1px 3px 1px rgba(0, 0, 0, 0.15);\n",
              "      filter: drop-shadow(0px 1px 2px rgba(0, 0, 0, 0.3));\n",
              "      fill: #FFFFFF;\n",
              "    }\n",
              "  </style>\n",
              "\n",
              "    <script>\n",
              "      const buttonEl =\n",
              "        document.querySelector('#df-b4b48a11-f7ac-458c-9c77-af3b6e4898ff button.colab-df-convert');\n",
              "      buttonEl.style.display =\n",
              "        google.colab.kernel.accessAllowed ? 'block' : 'none';\n",
              "\n",
              "      async function convertToInteractive(key) {\n",
              "        const element = document.querySelector('#df-b4b48a11-f7ac-458c-9c77-af3b6e4898ff');\n",
              "        const dataTable =\n",
              "          await google.colab.kernel.invokeFunction('convertToInteractive',\n",
              "                                                    [key], {});\n",
              "        if (!dataTable) return;\n",
              "\n",
              "        const docLinkHtml = 'Like what you see? Visit the ' +\n",
              "          '<a target=\"_blank\" href=https://colab.research.google.com/notebooks/data_table.ipynb>data table notebook</a>'\n",
              "          + ' to learn more about interactive tables.';\n",
              "        element.innerHTML = '';\n",
              "        dataTable['output_type'] = 'display_data';\n",
              "        await google.colab.output.renderOutput(dataTable, element);\n",
              "        const docLink = document.createElement('div');\n",
              "        docLink.innerHTML = docLinkHtml;\n",
              "        element.appendChild(docLink);\n",
              "      }\n",
              "    </script>\n",
              "  </div>\n",
              "\n",
              "\n",
              "<div id=\"df-430dedfd-a3cf-4f32-a356-642f0572d55d\">\n",
              "  <button class=\"colab-df-quickchart\" onclick=\"quickchart('df-430dedfd-a3cf-4f32-a356-642f0572d55d')\"\n",
              "            title=\"Suggest charts\"\n",
              "            style=\"display:none;\">\n",
              "\n",
              "<svg xmlns=\"http://www.w3.org/2000/svg\" height=\"24px\"viewBox=\"0 0 24 24\"\n",
              "     width=\"24px\">\n",
              "    <g>\n",
              "        <path d=\"M19 3H5c-1.1 0-2 .9-2 2v14c0 1.1.9 2 2 2h14c1.1 0 2-.9 2-2V5c0-1.1-.9-2-2-2zM9 17H7v-7h2v7zm4 0h-2V7h2v10zm4 0h-2v-4h2v4z\"/>\n",
              "    </g>\n",
              "</svg>\n",
              "  </button>\n",
              "\n",
              "<style>\n",
              "  .colab-df-quickchart {\n",
              "      --bg-color: #E8F0FE;\n",
              "      --fill-color: #1967D2;\n",
              "      --hover-bg-color: #E2EBFA;\n",
              "      --hover-fill-color: #174EA6;\n",
              "      --disabled-fill-color: #AAA;\n",
              "      --disabled-bg-color: #DDD;\n",
              "  }\n",
              "\n",
              "  [theme=dark] .colab-df-quickchart {\n",
              "      --bg-color: #3B4455;\n",
              "      --fill-color: #D2E3FC;\n",
              "      --hover-bg-color: #434B5C;\n",
              "      --hover-fill-color: #FFFFFF;\n",
              "      --disabled-bg-color: #3B4455;\n",
              "      --disabled-fill-color: #666;\n",
              "  }\n",
              "\n",
              "  .colab-df-quickchart {\n",
              "    background-color: var(--bg-color);\n",
              "    border: none;\n",
              "    border-radius: 50%;\n",
              "    cursor: pointer;\n",
              "    display: none;\n",
              "    fill: var(--fill-color);\n",
              "    height: 32px;\n",
              "    padding: 0;\n",
              "    width: 32px;\n",
              "  }\n",
              "\n",
              "  .colab-df-quickchart:hover {\n",
              "    background-color: var(--hover-bg-color);\n",
              "    box-shadow: 0 1px 2px rgba(60, 64, 67, 0.3), 0 1px 3px 1px rgba(60, 64, 67, 0.15);\n",
              "    fill: var(--button-hover-fill-color);\n",
              "  }\n",
              "\n",
              "  .colab-df-quickchart-complete:disabled,\n",
              "  .colab-df-quickchart-complete:disabled:hover {\n",
              "    background-color: var(--disabled-bg-color);\n",
              "    fill: var(--disabled-fill-color);\n",
              "    box-shadow: none;\n",
              "  }\n",
              "\n",
              "  .colab-df-spinner {\n",
              "    border: 2px solid var(--fill-color);\n",
              "    border-color: transparent;\n",
              "    border-bottom-color: var(--fill-color);\n",
              "    animation:\n",
              "      spin 1s steps(1) infinite;\n",
              "  }\n",
              "\n",
              "  @keyframes spin {\n",
              "    0% {\n",
              "      border-color: transparent;\n",
              "      border-bottom-color: var(--fill-color);\n",
              "      border-left-color: var(--fill-color);\n",
              "    }\n",
              "    20% {\n",
              "      border-color: transparent;\n",
              "      border-left-color: var(--fill-color);\n",
              "      border-top-color: var(--fill-color);\n",
              "    }\n",
              "    30% {\n",
              "      border-color: transparent;\n",
              "      border-left-color: var(--fill-color);\n",
              "      border-top-color: var(--fill-color);\n",
              "      border-right-color: var(--fill-color);\n",
              "    }\n",
              "    40% {\n",
              "      border-color: transparent;\n",
              "      border-right-color: var(--fill-color);\n",
              "      border-top-color: var(--fill-color);\n",
              "    }\n",
              "    60% {\n",
              "      border-color: transparent;\n",
              "      border-right-color: var(--fill-color);\n",
              "    }\n",
              "    80% {\n",
              "      border-color: transparent;\n",
              "      border-right-color: var(--fill-color);\n",
              "      border-bottom-color: var(--fill-color);\n",
              "    }\n",
              "    90% {\n",
              "      border-color: transparent;\n",
              "      border-bottom-color: var(--fill-color);\n",
              "    }\n",
              "  }\n",
              "</style>\n",
              "\n",
              "  <script>\n",
              "    async function quickchart(key) {\n",
              "      const quickchartButtonEl =\n",
              "        document.querySelector('#' + key + ' button');\n",
              "      quickchartButtonEl.disabled = true;  // To prevent multiple clicks.\n",
              "      quickchartButtonEl.classList.add('colab-df-spinner');\n",
              "      try {\n",
              "        const charts = await google.colab.kernel.invokeFunction(\n",
              "            'suggestCharts', [key], {});\n",
              "      } catch (error) {\n",
              "        console.error('Error during call to suggestCharts:', error);\n",
              "      }\n",
              "      quickchartButtonEl.classList.remove('colab-df-spinner');\n",
              "      quickchartButtonEl.classList.add('colab-df-quickchart-complete');\n",
              "    }\n",
              "    (() => {\n",
              "      let quickchartButtonEl =\n",
              "        document.querySelector('#df-430dedfd-a3cf-4f32-a356-642f0572d55d button');\n",
              "      quickchartButtonEl.style.display =\n",
              "        google.colab.kernel.accessAllowed ? 'block' : 'none';\n",
              "    })();\n",
              "  </script>\n",
              "</div>\n",
              "    </div>\n",
              "  </div>\n"
            ]
          },
          "metadata": {},
          "execution_count": 59
        }
      ]
    },
    {
      "cell_type": "code",
      "source": [
        "df.info()"
      ],
      "metadata": {
        "colab": {
          "base_uri": "https://localhost:8080/"
        },
        "id": "uXFVjYyFYRmr",
        "outputId": "3fc44e47-b1db-449f-d5bd-ab25623a6e14"
      },
      "execution_count": 60,
      "outputs": [
        {
          "output_type": "stream",
          "name": "stdout",
          "text": [
            "<class 'pandas.core.frame.DataFrame'>\n",
            "RangeIndex: 216904 entries, 0 to 216903\n",
            "Data columns (total 27 columns):\n",
            " #   Column                Non-Null Count   Dtype  \n",
            "---  ------                --------------   -----  \n",
            " 0   loan_amnt             216904 non-null  float64\n",
            " 1   term                  216904 non-null  object \n",
            " 2   int_rate              216904 non-null  float64\n",
            " 3   installment           216904 non-null  float64\n",
            " 4   grade                 216904 non-null  object \n",
            " 5   sub_grade             216904 non-null  object \n",
            " 6   emp_title             204376 non-null  object \n",
            " 7   emp_length            206863 non-null  object \n",
            " 8   home_ownership        216904 non-null  object \n",
            " 9   annual_inc            216904 non-null  float64\n",
            " 10  verification_status   216904 non-null  object \n",
            " 11  issue_d               216904 non-null  object \n",
            " 12  loan_status           216904 non-null  object \n",
            " 13  purpose               216904 non-null  object \n",
            " 14  title                 215938 non-null  object \n",
            " 15  dti                   216904 non-null  float64\n",
            " 16  earliest_cr_line      216904 non-null  object \n",
            " 17  open_acc              216904 non-null  float64\n",
            " 18  pub_rec               216904 non-null  float64\n",
            " 19  revol_bal             216904 non-null  float64\n",
            " 20  revol_util            216752 non-null  float64\n",
            " 21  total_acc             216904 non-null  float64\n",
            " 22  initial_list_status   216904 non-null  object \n",
            " 23  application_type      216904 non-null  object \n",
            " 24  mort_acc              196137 non-null  float64\n",
            " 25  pub_rec_bankruptcies  216602 non-null  float64\n",
            " 26  address               216903 non-null  object \n",
            "dtypes: float64(12), object(15)\n",
            "memory usage: 44.7+ MB\n"
          ]
        }
      ]
    },
    {
      "cell_type": "code",
      "source": [
        "sns.countplot(x=df['loan_status'], color='r')"
      ],
      "metadata": {
        "colab": {
          "base_uri": "https://localhost:8080/",
          "height": 468
        },
        "id": "5jMb-rVHYeo1",
        "outputId": "c08614ee-6c34-43a1-a364-fae17fe9fa7f"
      },
      "execution_count": 61,
      "outputs": [
        {
          "output_type": "execute_result",
          "data": {
            "text/plain": [
              "<Axes: xlabel='loan_status', ylabel='count'>"
            ]
          },
          "metadata": {},
          "execution_count": 61
        },
        {
          "output_type": "display_data",
          "data": {
            "text/plain": [
              "<Figure size 640x480 with 1 Axes>"
            ],
            "image/png": "[encoded data removed]"
          },
          "metadata": {}
        }
      ]
    },
    {
      "cell_type": "markdown",
      "source": [
        "Make loan_status as numeric feature so that we can use it to check its correlation with other features"
      ],
      "metadata": {
        "id": "7pc35n0vnFY4"
      }
    },
    {
      "cell_type": "code",
      "source": [
        "df['loan_repaid' ] = df['loan_status'].apply(lambda x : 0 if x==\"Fully Paid\" else 1)"
      ],
      "metadata": {
        "id": "418jh4dOkqDU"
      },
      "execution_count": 62,
      "outputs": []
    },
    {
      "cell_type": "code",
      "source": [
        "df['loan_repaid' ].value_counts()"
      ],
      "metadata": {
        "colab": {
          "base_uri": "https://localhost:8080/"
        },
        "id": "2pnmBLk4lFZl",
        "outputId": "1fc88d1f-922d-4b4d-991f-369f760639b3"
      },
      "execution_count": 63,
      "outputs": [
        {
          "output_type": "execute_result",
          "data": {
            "text/plain": [
              "0    174475\n",
              "1     42429\n",
              "Name: loan_repaid, dtype: int64"
            ]
          },
          "metadata": {},
          "execution_count": 63
        }
      ]
    },
    {
      "cell_type": "code",
      "source": [
        "df.corr()['loan_repaid'].sort_values(ascending=False)"
      ],
      "metadata": {
        "colab": {
          "base_uri": "https://localhost:8080/"
        },
        "id": "cV9S4eHrmDXf",
        "outputId": "946616ca-a6ea-44b6-c977-8a69a0ede73a"
      },
      "execution_count": 64,
      "outputs": [
        {
          "output_type": "stream",
          "name": "stderr",
          "text": [
            "<ipython-input-64-9939242440e5>:1: FutureWarning: The default value of numeric_only in DataFrame.corr is deprecated. In a future version, it will default to False. Select only valid columns or specify the value of numeric_only to silence this warning.\n",
            "  df.corr()['loan_repaid'].sort_values(ascending=False)\n"
          ]
        },
        {
          "output_type": "execute_result",
          "data": {
            "text/plain": [
              "loan_repaid             1.000000\n",
              "int_rate                0.245690\n",
              "dti                     0.132428\n",
              "revol_util              0.081794\n",
              "loan_amnt               0.060325\n",
              "installment             0.041064\n",
              "open_acc                0.027014\n",
              "pub_rec                 0.018516\n",
              "pub_rec_bankruptcies    0.008079\n",
              "revol_bal              -0.011759\n",
              "total_acc              -0.017454\n",
              "annual_inc             -0.054471\n",
              "mort_acc               -0.073719\n",
              "Name: loan_repaid, dtype: float64"
            ]
          },
          "metadata": {},
          "execution_count": 64
        }
      ]
    },
    {
      "cell_type": "code",
      "source": [
        "# Next let us check how loan_amount is distributed\n",
        "plt.figure(figsize=(12,6))\n",
        "sns.distplot(df['loan_amnt'])"
      ],
      "metadata": {
        "colab": {
          "base_uri": "https://localhost:8080/",
          "height": 643
        },
        "id": "saaBd1htch-m",
        "outputId": "9055f354-eaaf-46c4-9237-37b2a69dd635"
      },
      "execution_count": 65,
      "outputs": [
        {
          "output_type": "stream",
          "name": "stderr",
          "text": [
            "<ipython-input-65-df002da5e9a7>:3: UserWarning: \n",
            "\n",
            "`distplot` is a deprecated function and will be removed in seaborn v0.14.0.\n",
            "\n",
            "Please adapt your code to use either `displot` (a figure-level function with\n",
            "similar flexibility) or `histplot` (an axes-level function for histograms).\n",
            "\n",
            "For a guide to updating your code to use the new functions, please see\n",
            "https://gist.github.com/mwaskom/de44147ed2974457ad6372750bbe5751\n",
            "\n",
            "  sns.distplot(df['loan_amnt'])\n"
          ]
        },
        {
          "output_type": "execute_result",
          "data": {
            "text/plain": [
              "<Axes: xlabel='loan_amnt', ylabel='Density'>"
            ]
          },
          "metadata": {},
          "execution_count": 65
        },
        {
          "output_type": "display_data",
          "data": {
            "text/plain": [
              "<Figure size 1200x600 with 1 Axes>"
            ],
            "image/png": "[encoded data removed]"
          },
          "metadata": {}
        }
      ]
    },
    {
      "cell_type": "code",
      "source": [
        "# Next let us check if loan_amount increases do installments increases\n",
        "sns.scatterplot(x='loan_amnt',y='installment',data=df)"
      ],
      "metadata": {
        "colab": {
          "base_uri": "https://localhost:8080/",
          "height": 471
        },
        "id": "yF2ekhP4nX3U",
        "outputId": "401e8200-b1a9-4cd3-d3a4-216daf4639cc"
      },
      "execution_count": 66,
      "outputs": [
        {
          "output_type": "execute_result",
          "data": {
            "text/plain": [
              "<Axes: xlabel='loan_amnt', ylabel='installment'>"
            ]
          },
          "metadata": {},
          "execution_count": 66
        },
        {
          "output_type": "display_data",
          "data": {
            "text/plain": [
              "<Figure size 640x480 with 1 Axes>"
            ],
            "image/png": "[encoded data removed]"
          },
          "metadata": {}
        }
      ]
    },
    {
      "cell_type": "code",
      "source": [
        "# As we see interest rate is highly coorelated with loan status so lets see\n",
        "sns.boxplot(x='loan_status',y='int_rate',data=df)\n",
        "# indeed, interest_rate has an impact on loan_status, ppl with lower interest rate have paid compared to ppl with higher interest rate"
      ],
      "metadata": {
        "colab": {
          "base_uri": "https://localhost:8080/",
          "height": 468
        },
        "id": "hjdLRcQviV4C",
        "outputId": "9ac133cb-4b38-4a3c-b8ff-e58c534df9be"
      },
      "execution_count": 67,
      "outputs": [
        {
          "output_type": "execute_result",
          "data": {
            "text/plain": [
              "<Axes: xlabel='loan_status', ylabel='int_rate'>"
            ]
          },
          "metadata": {},
          "execution_count": 67
        },
        {
          "output_type": "display_data",
          "data": {
            "text/plain": [
              "<Figure size 640x480 with 1 Axes>"
            ],
            "image/png": "[encoded data removed]"
          },
          "metadata": {}
        }
      ]
    },
    {
      "cell_type": "code",
      "source": [
        "feature_info('revol_util')"
      ],
      "metadata": {
        "colab": {
          "base_uri": "https://localhost:8080/"
        },
        "id": "uCXxLiFJjPbt",
        "outputId": "e334cc03-dfef-4173-f4d5-ff1bb6463399"
      },
      "execution_count": 68,
      "outputs": [
        {
          "output_type": "stream",
          "name": "stdout",
          "text": [
            "Revolving line utilization rate, or the amount of credit the borrower is using relative to all available revolving credit.\n"
          ]
        }
      ]
    },
    {
      "cell_type": "code",
      "source": [
        "print(feature_info('dti'))"
      ],
      "metadata": {
        "colab": {
          "base_uri": "https://localhost:8080/"
        },
        "id": "mDA9AeuloicQ",
        "outputId": "a6b57436-0258-4710-abbe-f587926e4038"
      },
      "execution_count": 69,
      "outputs": [
        {
          "output_type": "stream",
          "name": "stdout",
          "text": [
            "A ratio calculated using the borrower’s total monthly debt payments on the total debt obligations, excluding mortgage and the requested LC loan, divided by the borrower’s self-reported monthly income.\n",
            "None\n"
          ]
        }
      ]
    },
    {
      "cell_type": "code",
      "source": [
        "# Let us see if loan_amnt plays a role in determining loan_status\n",
        "sns.boxplot(x='loan_status',y='loan_amnt',data=df)\n",
        "# doesnt look like loan was fullypaid if loan amount was low or high, it has no significant impact"
      ],
      "metadata": {
        "colab": {
          "base_uri": "https://localhost:8080/",
          "height": 468
        },
        "id": "AU8z7llun_Fy",
        "outputId": "e22873d3-d1c1-43e1-c40f-645174acf5d0"
      },
      "execution_count": 70,
      "outputs": [
        {
          "output_type": "execute_result",
          "data": {
            "text/plain": [
              "<Axes: xlabel='loan_status', ylabel='loan_amnt'>"
            ]
          },
          "metadata": {},
          "execution_count": 70
        },
        {
          "output_type": "display_data",
          "data": {
            "text/plain": [
              "<Figure size 640x480 with 1 Axes>"
            ],
            "image/png": "[encoded data removed]"
          },
          "metadata": {}
        }
      ]
    },
    {
      "cell_type": "markdown",
      "source": [
        "AUFGABE: Berechne die zusammengefassten Statistiken für die Höhe des Kredites, gruppiert nach loan_status."
      ],
      "metadata": {
        "id": "HnjYhXdfKVai"
      }
    },
    {
      "cell_type": "code",
      "source": [
        "df.groupby('loan_status')['loan_amnt'].describe()"
      ],
      "metadata": {
        "id": "R7HH6QEnJjes",
        "outputId": "885eb3b8-a36e-4f35-902c-c244d1671d79",
        "colab": {
          "base_uri": "https://localhost:8080/",
          "height": 143
        }
      },
      "execution_count": 71,
      "outputs": [
        {
          "output_type": "execute_result",
          "data": {
            "text/plain": [
              "                count          mean          std     min     25%      50%  \\\n",
              "loan_status                                                                 \n",
              "Charged Off   42429.0  15115.851776  8478.776643  1000.0  8600.0  14000.0   \n",
              "Fully Paid   174475.0  13846.250466  8297.450398   500.0  7500.0  12000.0   \n",
              "\n",
              "                 75%      max  \n",
              "loan_status                    \n",
              "Charged Off  20000.0  40000.0  \n",
              "Fully Paid   19200.0  40000.0  "
            ],
            "text/html": [
              "\n",
              "  <div id=\"df-042f2a55-0d3c-4b66-9d96-96354f63d342\" class=\"colab-df-container\">\n",
              "    <div>\n",
              "<style scoped>\n",
              "    .dataframe tbody tr th:only-of-type {\n",
              "        vertical-align: middle;\n",
              "    }\n",
              "\n",
              "    .dataframe tbody tr th {\n",
              "        vertical-align: top;\n",
              "    }\n",
              "\n",
              "    .dataframe thead th {\n",
              "        text-align: right;\n",
              "    }\n",
              "</style>\n",
              "<table border=\"1\" class=\"dataframe\">\n",
              "  <thead>\n",
              "    <tr style=\"text-align: right;\">\n",
              "      <th></th>\n",
              "      <th>count</th>\n",
              "      <th>mean</th>\n",
              "      <th>std</th>\n",
              "      <th>min</th>\n",
              "      <th>25%</th>\n",
              "      <th>50%</th>\n",
              "      <th>75%</th>\n",
              "      <th>max</th>\n",
              "    </tr>\n",
              "    <tr>\n",
              "      <th>loan_status</th>\n",
              "      <th></th>\n",
              "      <th></th>\n",
              "      <th></th>\n",
              "      <th></th>\n",
              "      <th></th>\n",
              "      <th></th>\n",
              "      <th></th>\n",
              "      <th></th>\n",
              "    </tr>\n",
              "  </thead>\n",
              "  <tbody>\n",
              "    <tr>\n",
              "      <th>Charged Off</th>\n",
              "      <td>42429.0</td>\n",
              "      <td>15115.851776</td>\n",
              "      <td>8478.776643</td>\n",
              "      <td>1000.0</td>\n",
              "      <td>8600.0</td>\n",
              "      <td>14000.0</td>\n",
              "      <td>20000.0</td>\n",
              "      <td>40000.0</td>\n",
              "    </tr>\n",
              "    <tr>\n",
              "      <th>Fully Paid</th>\n",
              "      <td>174475.0</td>\n",
              "      <td>13846.250466</td>\n",
              "      <td>8297.450398</td>\n",
              "      <td>500.0</td>\n",
              "      <td>7500.0</td>\n",
              "      <td>12000.0</td>\n",
              "      <td>19200.0</td>\n",
              "      <td>40000.0</td>\n",
              "    </tr>\n",
              "  </tbody>\n",
              "</table>\n",
              "</div>\n",
              "    <div class=\"colab-df-buttons\">\n",
              "\n",
              "  <div class=\"colab-df-container\">\n",
              "    <button class=\"colab-df-convert\" onclick=\"convertToInteractive('df-042f2a55-0d3c-4b66-9d96-96354f63d342')\"\n",
              "            title=\"Convert this dataframe to an interactive table.\"\n",
              "            style=\"display:none;\">\n",
              "\n",
              "  <svg xmlns=\"http://www.w3.org/2000/svg\" height=\"24px\" viewBox=\"0 -960 960 960\">\n",
              "    <path d=\"M120-120v-720h720v720H120Zm60-500h600v-160H180v160Zm220 220h160v-160H400v160Zm0 220h160v-160H400v160ZM180-400h160v-160H180v160Zm440 0h160v-160H620v160ZM180-180h160v-160H180v160Zm440 0h160v-160H620v160Z\"/>\n",
              "  </svg>\n",
              "    </button>\n",
              "\n",
              "  <style>\n",
              "    .colab-df-container {\n",
              "      display:flex;\n",
              "      gap: 12px;\n",
              "    }\n",
              "\n",
              "    .colab-df-convert {\n",
              "      background-color: #E8F0FE;\n",
              "      border: none;\n",
              "      border-radius: 50%;\n",
              "      cursor: pointer;\n",
              "      display: none;\n",
              "      fill: #1967D2;\n",
              "      height: 32px;\n",
              "      padding: 0 0 0 0;\n",
              "      width: 32px;\n",
              "    }\n",
              "\n",
              "    .colab-df-convert:hover {\n",
              "      background-color: #E2EBFA;\n",
              "      box-shadow: 0px 1px 2px rgba(60, 64, 67, 0.3), 0px 1px 3px 1px rgba(60, 64, 67, 0.15);\n",
              "      fill: #174EA6;\n",
              "    }\n",
              "\n",
              "    .colab-df-buttons div {\n",
              "      margin-bottom: 4px;\n",
              "    }\n",
              "\n",
              "    [theme=dark] .colab-df-convert {\n",
              "      background-color: #3B4455;\n",
              "      fill: #D2E3FC;\n",
              "    }\n",
              "\n",
              "    [theme=dark] .colab-df-convert:hover {\n",
              "      background-color: #434B5C;\n",
              "      box-shadow: 0px 1px 3px 1px rgba(0, 0, 0, 0.15);\n",
              "      filter: drop-shadow(0px 1px 2px rgba(0, 0, 0, 0.3));\n",
              "      fill: #FFFFFF;\n",
              "    }\n",
              "  </style>\n",
              "\n",
              "    <script>\n",
              "      const buttonEl =\n",
              "        document.querySelector('#df-042f2a55-0d3c-4b66-9d96-96354f63d342 button.colab-df-convert');\n",
              "      buttonEl.style.display =\n",
              "        google.colab.kernel.accessAllowed ? 'block' : 'none';\n",
              "\n",
              "      async function convertToInteractive(key) {\n",
              "        const element = document.querySelector('#df-042f2a55-0d3c-4b66-9d96-96354f63d342');\n",
              "        const dataTable =\n",
              "          await google.colab.kernel.invokeFunction('convertToInteractive',\n",
              "                                                    [key], {});\n",
              "        if (!dataTable) return;\n",
              "\n",
              "        const docLinkHtml = 'Like what you see? Visit the ' +\n",
              "          '<a target=\"_blank\" href=https://colab.research.google.com/notebooks/data_table.ipynb>data table notebook</a>'\n",
              "          + ' to learn more about interactive tables.';\n",
              "        element.innerHTML = '';\n",
              "        dataTable['output_type'] = 'display_data';\n",
              "        await google.colab.output.renderOutput(dataTable, element);\n",
              "        const docLink = document.createElement('div');\n",
              "        docLink.innerHTML = docLinkHtml;\n",
              "        element.appendChild(docLink);\n",
              "      }\n",
              "    </script>\n",
              "  </div>\n",
              "\n",
              "\n",
              "<div id=\"df-06dca2db-bc7b-45c9-a4d1-57ee62290323\">\n",
              "  <button class=\"colab-df-quickchart\" onclick=\"quickchart('df-06dca2db-bc7b-45c9-a4d1-57ee62290323')\"\n",
              "            title=\"Suggest charts\"\n",
              "            style=\"display:none;\">\n",
              "\n",
              "<svg xmlns=\"http://www.w3.org/2000/svg\" height=\"24px\"viewBox=\"0 0 24 24\"\n",
              "     width=\"24px\">\n",
              "    <g>\n",
              "        <path d=\"M19 3H5c-1.1 0-2 .9-2 2v14c0 1.1.9 2 2 2h14c1.1 0 2-.9 2-2V5c0-1.1-.9-2-2-2zM9 17H7v-7h2v7zm4 0h-2V7h2v10zm4 0h-2v-4h2v4z\"/>\n",
              "    </g>\n",
              "</svg>\n",
              "  </button>\n",
              "\n",
              "<style>\n",
              "  .colab-df-quickchart {\n",
              "      --bg-color: #E8F0FE;\n",
              "      --fill-color: #1967D2;\n",
              "      --hover-bg-color: #E2EBFA;\n",
              "      --hover-fill-color: #174EA6;\n",
              "      --disabled-fill-color: #AAA;\n",
              "      --disabled-bg-color: #DDD;\n",
              "  }\n",
              "\n",
              "  [theme=dark] .colab-df-quickchart {\n",
              "      --bg-color: #3B4455;\n",
              "      --fill-color: #D2E3FC;\n",
              "      --hover-bg-color: #434B5C;\n",
              "      --hover-fill-color: #FFFFFF;\n",
              "      --disabled-bg-color: #3B4455;\n",
              "      --disabled-fill-color: #666;\n",
              "  }\n",
              "\n",
              "  .colab-df-quickchart {\n",
              "    background-color: var(--bg-color);\n",
              "    border: none;\n",
              "    border-radius: 50%;\n",
              "    cursor: pointer;\n",
              "    display: none;\n",
              "    fill: var(--fill-color);\n",
              "    height: 32px;\n",
              "    padding: 0;\n",
              "    width: 32px;\n",
              "  }\n",
              "\n",
              "  .colab-df-quickchart:hover {\n",
              "    background-color: var(--hover-bg-color);\n",
              "    box-shadow: 0 1px 2px rgba(60, 64, 67, 0.3), 0 1px 3px 1px rgba(60, 64, 67, 0.15);\n",
              "    fill: var(--button-hover-fill-color);\n",
              "  }\n",
              "\n",
              "  .colab-df-quickchart-complete:disabled,\n",
              "  .colab-df-quickchart-complete:disabled:hover {\n",
              "    background-color: var(--disabled-bg-color);\n",
              "    fill: var(--disabled-fill-color);\n",
              "    box-shadow: none;\n",
              "  }\n",
              "\n",
              "  .colab-df-spinner {\n",
              "    border: 2px solid var(--fill-color);\n",
              "    border-color: transparent;\n",
              "    border-bottom-color: var(--fill-color);\n",
              "    animation:\n",
              "      spin 1s steps(1) infinite;\n",
              "  }\n",
              "\n",
              "  @keyframes spin {\n",
              "    0% {\n",
              "      border-color: transparent;\n",
              "      border-bottom-color: var(--fill-color);\n",
              "      border-left-color: var(--fill-color);\n",
              "    }\n",
              "    20% {\n",
              "      border-color: transparent;\n",
              "      border-left-color: var(--fill-color);\n",
              "      border-top-color: var(--fill-color);\n",
              "    }\n",
              "    30% {\n",
              "      border-color: transparent;\n",
              "      border-left-color: var(--fill-color);\n",
              "      border-top-color: var(--fill-color);\n",
              "      border-right-color: var(--fill-color);\n",
              "    }\n",
              "    40% {\n",
              "      border-color: transparent;\n",
              "      border-right-color: var(--fill-color);\n",
              "      border-top-color: var(--fill-color);\n",
              "    }\n",
              "    60% {\n",
              "      border-color: transparent;\n",
              "      border-right-color: var(--fill-color);\n",
              "    }\n",
              "    80% {\n",
              "      border-color: transparent;\n",
              "      border-right-color: var(--fill-color);\n",
              "      border-bottom-color: var(--fill-color);\n",
              "    }\n",
              "    90% {\n",
              "      border-color: transparent;\n",
              "      border-bottom-color: var(--fill-color);\n",
              "    }\n",
              "  }\n",
              "</style>\n",
              "\n",
              "  <script>\n",
              "    async function quickchart(key) {\n",
              "      const quickchartButtonEl =\n",
              "        document.querySelector('#' + key + ' button');\n",
              "      quickchartButtonEl.disabled = true;  // To prevent multiple clicks.\n",
              "      quickchartButtonEl.classList.add('colab-df-spinner');\n",
              "      try {\n",
              "        const charts = await google.colab.kernel.invokeFunction(\n",
              "            'suggestCharts', [key], {});\n",
              "      } catch (error) {\n",
              "        console.error('Error during call to suggestCharts:', error);\n",
              "      }\n",
              "      quickchartButtonEl.classList.remove('colab-df-spinner');\n",
              "      quickchartButtonEl.classList.add('colab-df-quickchart-complete');\n",
              "    }\n",
              "    (() => {\n",
              "      let quickchartButtonEl =\n",
              "        document.querySelector('#df-06dca2db-bc7b-45c9-a4d1-57ee62290323 button');\n",
              "      quickchartButtonEl.style.display =\n",
              "        google.colab.kernel.accessAllowed ? 'block' : 'none';\n",
              "    })();\n",
              "  </script>\n",
              "</div>\n",
              "    </div>\n",
              "  </div>\n"
            ]
          },
          "metadata": {},
          "execution_count": 71
        }
      ]
    },
    {
      "cell_type": "markdown",
      "source": [
        "# Part 2: Data Preprocessing\n",
        "Now let us focus on feature engineering"
      ],
      "metadata": {
        "id": "wcTlKlg-My9K"
      }
    },
    {
      "cell_type": "code",
      "source": [
        "df.info()"
      ],
      "metadata": {
        "colab": {
          "base_uri": "https://localhost:8080/"
        },
        "id": "evCOuPSiput8",
        "outputId": "81bdf97d-6888-4ab0-d094-69426db0d844"
      },
      "execution_count": 72,
      "outputs": [
        {
          "output_type": "stream",
          "name": "stdout",
          "text": [
            "<class 'pandas.core.frame.DataFrame'>\n",
            "RangeIndex: 216904 entries, 0 to 216903\n",
            "Data columns (total 28 columns):\n",
            " #   Column                Non-Null Count   Dtype  \n",
            "---  ------                --------------   -----  \n",
            " 0   loan_amnt             216904 non-null  float64\n",
            " 1   term                  216904 non-null  object \n",
            " 2   int_rate              216904 non-null  float64\n",
            " 3   installment           216904 non-null  float64\n",
            " 4   grade                 216904 non-null  object \n",
            " 5   sub_grade             216904 non-null  object \n",
            " 6   emp_title             204376 non-null  object \n",
            " 7   emp_length            206863 non-null  object \n",
            " 8   home_ownership        216904 non-null  object \n",
            " 9   annual_inc            216904 non-null  float64\n",
            " 10  verification_status   216904 non-null  object \n",
            " 11  issue_d               216904 non-null  object \n",
            " 12  loan_status           216904 non-null  object \n",
            " 13  purpose               216904 non-null  object \n",
            " 14  title                 215938 non-null  object \n",
            " 15  dti                   216904 non-null  float64\n",
            " 16  earliest_cr_line      216904 non-null  object \n",
            " 17  open_acc              216904 non-null  float64\n",
            " 18  pub_rec               216904 non-null  float64\n",
            " 19  revol_bal             216904 non-null  float64\n",
            " 20  revol_util            216752 non-null  float64\n",
            " 21  total_acc             216904 non-null  float64\n",
            " 22  initial_list_status   216904 non-null  object \n",
            " 23  application_type      216904 non-null  object \n",
            " 24  mort_acc              196137 non-null  float64\n",
            " 25  pub_rec_bankruptcies  216602 non-null  float64\n",
            " 26  address               216903 non-null  object \n",
            " 27  loan_repaid           216904 non-null  int64  \n",
            "dtypes: float64(12), int64(1), object(15)\n",
            "memory usage: 46.3+ MB\n"
          ]
        }
      ]
    },
    {
      "cell_type": "code",
      "source": [
        "# Let us dig into object data types"
      ],
      "metadata": {
        "id": "qT8dU-rgpxfl"
      },
      "execution_count": 73,
      "outputs": []
    },
    {
      "cell_type": "code",
      "source": [
        "df['term'].value_counts()"
      ],
      "metadata": {
        "colab": {
          "base_uri": "https://localhost:8080/"
        },
        "id": "hipNZyf8p_lk",
        "outputId": "a65ca7e3-abe2-4bab-c233-ece7e284f962"
      },
      "execution_count": 74,
      "outputs": [
        {
          "output_type": "execute_result",
          "data": {
            "text/plain": [
              " 36 months    165398\n",
              " 60 months     51506\n",
              "Name: term, dtype: int64"
            ]
          },
          "metadata": {},
          "execution_count": 74
        }
      ]
    },
    {
      "cell_type": "markdown",
      "source": [
        "Extract the numeric month so 36 and 60 but note there is a problem in this data there is empty space in the beginning hence extract not 2 but first 3 chars and convert them into int"
      ],
      "metadata": {
        "id": "ZhN1PWHivwkS"
      }
    },
    {
      "cell_type": "code",
      "source": [
        "df['term'] = df['term'].apply(lambda s: int(s[:3]))"
      ],
      "metadata": {
        "id": "Rc9Sa8OysnGc"
      },
      "execution_count": 75,
      "outputs": []
    },
    {
      "cell_type": "code",
      "source": [
        "df.info()"
      ],
      "metadata": {
        "colab": {
          "base_uri": "https://localhost:8080/"
        },
        "id": "zdvxfAYsvckO",
        "outputId": "b7d3df13-001f-4e69-b8e9-de32ebcf78c7"
      },
      "execution_count": 76,
      "outputs": [
        {
          "output_type": "stream",
          "name": "stdout",
          "text": [
            "<class 'pandas.core.frame.DataFrame'>\n",
            "RangeIndex: 216904 entries, 0 to 216903\n",
            "Data columns (total 28 columns):\n",
            " #   Column                Non-Null Count   Dtype  \n",
            "---  ------                --------------   -----  \n",
            " 0   loan_amnt             216904 non-null  float64\n",
            " 1   term                  216904 non-null  int64  \n",
            " 2   int_rate              216904 non-null  float64\n",
            " 3   installment           216904 non-null  float64\n",
            " 4   grade                 216904 non-null  object \n",
            " 5   sub_grade             216904 non-null  object \n",
            " 6   emp_title             204376 non-null  object \n",
            " 7   emp_length            206863 non-null  object \n",
            " 8   home_ownership        216904 non-null  object \n",
            " 9   annual_inc            216904 non-null  float64\n",
            " 10  verification_status   216904 non-null  object \n",
            " 11  issue_d               216904 non-null  object \n",
            " 12  loan_status           216904 non-null  object \n",
            " 13  purpose               216904 non-null  object \n",
            " 14  title                 215938 non-null  object \n",
            " 15  dti                   216904 non-null  float64\n",
            " 16  earliest_cr_line      216904 non-null  object \n",
            " 17  open_acc              216904 non-null  float64\n",
            " 18  pub_rec               216904 non-null  float64\n",
            " 19  revol_bal             216904 non-null  float64\n",
            " 20  revol_util            216752 non-null  float64\n",
            " 21  total_acc             216904 non-null  float64\n",
            " 22  initial_list_status   216904 non-null  object \n",
            " 23  application_type      216904 non-null  object \n",
            " 24  mort_acc              196137 non-null  float64\n",
            " 25  pub_rec_bankruptcies  216602 non-null  float64\n",
            " 26  address               216903 non-null  object \n",
            " 27  loan_repaid           216904 non-null  int64  \n",
            "dtypes: float64(12), int64(2), object(14)\n",
            "memory usage: 46.3+ MB\n"
          ]
        }
      ]
    },
    {
      "cell_type": "code",
      "source": [
        "sns.countplot(x=df['grade'].sort_values(),hue=df['loan_status'])\n",
        "# it looks like the class F and G has not paid off loan often"
      ],
      "metadata": {
        "colab": {
          "base_uri": "https://localhost:8080/",
          "height": 467
        },
        "id": "Nn93MX75v_GA",
        "outputId": "3ee384be-9dd0-4f24-da6c-1c56914755b9"
      },
      "execution_count": 77,
      "outputs": [
        {
          "output_type": "execute_result",
          "data": {
            "text/plain": [
              "<Axes: xlabel='grade', ylabel='count'>"
            ]
          },
          "metadata": {},
          "execution_count": 77
        },
        {
          "output_type": "display_data",
          "data": {
            "text/plain": [
              "<Figure size 640x480 with 1 Axes>"
            ],
            "image/png": "[encoded data removed]"
          },
          "metadata": {}
        }
      ]
    },
    {
      "cell_type": "code",
      "source": [
        "plt.figure(figsize = (10,8))\n",
        "sns.countplot(x=df['sub_grade'].sort_values(),hue=df['loan_status'])"
      ],
      "metadata": {
        "colab": {
          "base_uri": "https://localhost:8080/",
          "height": 671
        },
        "id": "QbiiNyS2xlui",
        "outputId": "c8329a96-90f5-429d-e600-3c550e6f4ed5"
      },
      "execution_count": 78,
      "outputs": [
        {
          "output_type": "execute_result",
          "data": {
            "text/plain": [
              "<Axes: xlabel='sub_grade', ylabel='count'>"
            ]
          },
          "metadata": {},
          "execution_count": 78
        },
        {
          "output_type": "display_data",
          "data": {
            "text/plain": [
              "<Figure size 1000x800 with 1 Axes>"
            ],
            "image/png": "[encoded data removed]"
          },
          "metadata": {}
        }
      ]
    },
    {
      "cell_type": "markdown",
      "source": [
        "Grade is incorporated in subgrade in great detail, so let us remove grade and convert subgrade using one hot encoding"
      ],
      "metadata": {
        "id": "kdkjTPEyy7aK"
      }
    },
    {
      "cell_type": "code",
      "source": [
        "df.drop('grade',axis=1,inplace=True)"
      ],
      "metadata": {
        "id": "9cQY0Vgzy_mk"
      },
      "execution_count": 79,
      "outputs": []
    },
    {
      "cell_type": "code",
      "source": [
        "# one hot encoding\n",
        "sub_grade = pd.get_dummies(df['sub_grade' ], drop_first=True)"
      ],
      "metadata": {
        "id": "r4DhNOOkzYXg"
      },
      "execution_count": 80,
      "outputs": []
    },
    {
      "cell_type": "code",
      "source": [
        "df = pd.concat([df, sub_grade], axis=1)"
      ],
      "metadata": {
        "id": "TFMKuAQTzzVo"
      },
      "execution_count": 81,
      "outputs": []
    },
    {
      "cell_type": "code",
      "source": [
        "df.drop('sub_grade',axis=1,inplace=True)"
      ],
      "metadata": {
        "id": "fCx-U7pt1Nbt"
      },
      "execution_count": 82,
      "outputs": []
    },
    {
      "cell_type": "code",
      "source": [
        "df.info()"
      ],
      "metadata": {
        "colab": {
          "base_uri": "https://localhost:8080/"
        },
        "id": "WLvUpm-00ui2",
        "outputId": "35045cac-782b-4960-9db0-e4b92fac0942"
      },
      "execution_count": 83,
      "outputs": [
        {
          "output_type": "stream",
          "name": "stdout",
          "text": [
            "<class 'pandas.core.frame.DataFrame'>\n",
            "RangeIndex: 216904 entries, 0 to 216903\n",
            "Data columns (total 60 columns):\n",
            " #   Column                Non-Null Count   Dtype  \n",
            "---  ------                --------------   -----  \n",
            " 0   loan_amnt             216904 non-null  float64\n",
            " 1   term                  216904 non-null  int64  \n",
            " 2   int_rate              216904 non-null  float64\n",
            " 3   installment           216904 non-null  float64\n",
            " 4   emp_title             204376 non-null  object \n",
            " 5   emp_length            206863 non-null  object \n",
            " 6   home_ownership        216904 non-null  object \n",
            " 7   annual_inc            216904 non-null  float64\n",
            " 8   verification_status   216904 non-null  object \n",
            " 9   issue_d               216904 non-null  object \n",
            " 10  loan_status           216904 non-null  object \n",
            " 11  purpose               216904 non-null  object \n",
            " 12  title                 215938 non-null  object \n",
            " 13  dti                   216904 non-null  float64\n",
            " 14  earliest_cr_line      216904 non-null  object \n",
            " 15  open_acc              216904 non-null  float64\n",
            " 16  pub_rec               216904 non-null  float64\n",
            " 17  revol_bal             216904 non-null  float64\n",
            " 18  revol_util            216752 non-null  float64\n",
            " 19  total_acc             216904 non-null  float64\n",
            " 20  initial_list_status   216904 non-null  object \n",
            " 21  application_type      216904 non-null  object \n",
            " 22  mort_acc              196137 non-null  float64\n",
            " 23  pub_rec_bankruptcies  216602 non-null  float64\n",
            " 24  address               216903 non-null  object \n",
            " 25  loan_repaid           216904 non-null  int64  \n",
            " 26  A2                    216904 non-null  uint8  \n",
            " 27  A3                    216904 non-null  uint8  \n",
            " 28  A4                    216904 non-null  uint8  \n",
            " 29  A5                    216904 non-null  uint8  \n",
            " 30  B1                    216904 non-null  uint8  \n",
            " 31  B2                    216904 non-null  uint8  \n",
            " 32  B3                    216904 non-null  uint8  \n",
            " 33  B4                    216904 non-null  uint8  \n",
            " 34  B5                    216904 non-null  uint8  \n",
            " 35  C1                    216904 non-null  uint8  \n",
            " 36  C2                    216904 non-null  uint8  \n",
            " 37  C3                    216904 non-null  uint8  \n",
            " 38  C4                    216904 non-null  uint8  \n",
            " 39  C5                    216904 non-null  uint8  \n",
            " 40  D1                    216904 non-null  uint8  \n",
            " 41  D2                    216904 non-null  uint8  \n",
            " 42  D3                    216904 non-null  uint8  \n",
            " 43  D4                    216904 non-null  uint8  \n",
            " 44  D5                    216904 non-null  uint8  \n",
            " 45  E1                    216904 non-null  uint8  \n",
            " 46  E2                    216904 non-null  uint8  \n",
            " 47  E3                    216904 non-null  uint8  \n",
            " 48  E4                    216904 non-null  uint8  \n",
            " 49  E5                    216904 non-null  uint8  \n",
            " 50  F1                    216904 non-null  uint8  \n",
            " 51  F2                    216904 non-null  uint8  \n",
            " 52  F3                    216904 non-null  uint8  \n",
            " 53  F4                    216904 non-null  uint8  \n",
            " 54  F5                    216904 non-null  uint8  \n",
            " 55  G1                    216904 non-null  uint8  \n",
            " 56  G2                    216904 non-null  uint8  \n",
            " 57  G3                    216904 non-null  uint8  \n",
            " 58  G4                    216904 non-null  uint8  \n",
            " 59  G5                    216904 non-null  uint8  \n",
            "dtypes: float64(12), int64(2), object(12), uint8(34)\n",
            "memory usage: 50.1+ MB\n"
          ]
        }
      ]
    },
    {
      "cell_type": "markdown",
      "source": [
        "# Deal with null values and other object types"
      ],
      "metadata": {
        "id": "4ooQv_f8NLNM"
      }
    },
    {
      "cell_type": "code",
      "source": [
        "df.isnull().sum()"
      ],
      "metadata": {
        "id": "2Vvne2AqvVWg",
        "colab": {
          "base_uri": "https://localhost:8080/"
        },
        "outputId": "34dc9580-2be8-4397-dfba-5df0179179e6"
      },
      "execution_count": 84,
      "outputs": [
        {
          "output_type": "execute_result",
          "data": {
            "text/plain": [
              "loan_amnt                   0\n",
              "term                        0\n",
              "int_rate                    0\n",
              "installment                 0\n",
              "emp_title               12528\n",
              "emp_length              10041\n",
              "home_ownership              0\n",
              "annual_inc                  0\n",
              "verification_status         0\n",
              "issue_d                     0\n",
              "loan_status                 0\n",
              "purpose                     0\n",
              "title                     966\n",
              "dti                         0\n",
              "earliest_cr_line            0\n",
              "open_acc                    0\n",
              "pub_rec                     0\n",
              "revol_bal                   0\n",
              "revol_util                152\n",
              "total_acc                   0\n",
              "initial_list_status         0\n",
              "application_type            0\n",
              "mort_acc                20767\n",
              "pub_rec_bankruptcies      302\n",
              "address                     1\n",
              "loan_repaid                 0\n",
              "A2                          0\n",
              "A3                          0\n",
              "A4                          0\n",
              "A5                          0\n",
              "B1                          0\n",
              "B2                          0\n",
              "B3                          0\n",
              "B4                          0\n",
              "B5                          0\n",
              "C1                          0\n",
              "C2                          0\n",
              "C3                          0\n",
              "C4                          0\n",
              "C5                          0\n",
              "D1                          0\n",
              "D2                          0\n",
              "D3                          0\n",
              "D4                          0\n",
              "D5                          0\n",
              "E1                          0\n",
              "E2                          0\n",
              "E3                          0\n",
              "E4                          0\n",
              "E5                          0\n",
              "F1                          0\n",
              "F2                          0\n",
              "F3                          0\n",
              "F4                          0\n",
              "F5                          0\n",
              "G1                          0\n",
              "G2                          0\n",
              "G3                          0\n",
              "G4                          0\n",
              "G5                          0\n",
              "dtype: int64"
            ]
          },
          "metadata": {},
          "execution_count": 84
        }
      ]
    },
    {
      "cell_type": "code",
      "source": [
        "  df['emp_title'].value_counts()\n",
        "  # Looks like there are too many titles and we cannot fill it for null values + we assume they dont play a role in determining loan status we drop it"
      ],
      "metadata": {
        "id": "U8iR_DfTvDWi",
        "colab": {
          "base_uri": "https://localhost:8080/"
        },
        "outputId": "eb69b2e0-2943-41e3-8480-fab5ec586e09"
      },
      "execution_count": 85,
      "outputs": [
        {
          "output_type": "execute_result",
          "data": {
            "text/plain": [
              "Teacher                            2393\n",
              "Manager                            2369\n",
              "Registered Nurse                   1045\n",
              "Supervisor                         1019\n",
              "RN                                  977\n",
              "                                   ... \n",
              "branch manager IIII                   1\n",
              "Heb                                   1\n",
              "MasterCard                            1\n",
              "Phelps Memorial Hospital Center       1\n",
              "General Motors Corporation            1\n",
              "Name: emp_title, Length: 103777, dtype: int64"
            ]
          },
          "metadata": {},
          "execution_count": 85
        }
      ]
    },
    {
      "cell_type": "code",
      "source": [
        "df.drop('emp_title',axis=1, inplace=True)"
      ],
      "metadata": {
        "id": "8sTL9otENtsn"
      },
      "execution_count": 86,
      "outputs": []
    },
    {
      "cell_type": "code",
      "source": [
        "plt.figure(figsize=(10,6))\n",
        "sns.countplot(x=df['emp_length'],hue=df['loan_status'])"
      ],
      "metadata": {
        "id": "0vuaNpFEr_Z4",
        "colab": {
          "base_uri": "https://localhost:8080/",
          "height": 527
        },
        "outputId": "287dbc8f-3499-47cc-a3bd-ad681584ebba"
      },
      "execution_count": 87,
      "outputs": [
        {
          "output_type": "execute_result",
          "data": {
            "text/plain": [
              "<Axes: xlabel='emp_length', ylabel='count'>"
            ]
          },
          "metadata": {},
          "execution_count": 87
        },
        {
          "output_type": "display_data",
          "data": {
            "text/plain": [
              "<Figure size 1000x600 with 1 Axes>"
            ],
            "image/png": "[encoded data removed]"
          },
          "metadata": {}
        }
      ]
    },
    {
      "cell_type": "markdown",
      "source": [
        "CHALLENGE: This still gives us insufficient information as to whether there is a strong relationship between length of employment and repayment, we need the percentage of repayment per category. This means we know what percentage of borrowers per job category have not repaid their loan. There are a variety of ways to create this series. After you have created it, display it as a barplot. This might be difficult, take a look at the solution notebook for problems with creating the series."
      ],
      "metadata": {
        "id": "8e7uta410p6-"
      }
    },
    {
      "cell_type": "code",
      "source": [
        "#(df.groupby('emp_length')['loan_repaid'].count()) / len(df[df['loan_repaid']==1 ])\n",
        "emp_fp = df[df['loan_status']=='Fully Paid'].groupby(\"emp_length\").count()['loan_status']"
      ],
      "metadata": {
        "id": "XTt_HE8mkw0R"
      },
      "execution_count": 88,
      "outputs": []
    },
    {
      "cell_type": "code",
      "source": [
        "emp_co = df[df['loan_status']=='Charged Off'].groupby(\"emp_length\").count()['loan_status']"
      ],
      "metadata": {
        "id": "xNKtf_a6yYlN"
      },
      "execution_count": 89,
      "outputs": []
    },
    {
      "cell_type": "code",
      "source": [
        "emp_len = df.groupby(\"emp_length\")['loan_status'].count()"
      ],
      "metadata": {
        "id": "BKB1cLuMzD_y"
      },
      "execution_count": 90,
      "outputs": []
    },
    {
      "cell_type": "code",
      "source": [
        "emp_len = emp_co / emp_fp"
      ],
      "metadata": {
        "id": "9i-tKk1qzc-2"
      },
      "execution_count": 91,
      "outputs": []
    },
    {
      "cell_type": "code",
      "source": [
        "emp_len.plot(kind = 'bar')"
      ],
      "metadata": {
        "id": "jHC9xWBs1BmP",
        "outputId": "d168df60-af83-4422-9ec9-d222efacd8e3",
        "colab": {
          "base_uri": "https://localhost:8080/",
          "height": 525
        }
      },
      "execution_count": 92,
      "outputs": [
        {
          "output_type": "execute_result",
          "data": {
            "text/plain": [
              "<Axes: xlabel='emp_length'>"
            ]
          },
          "metadata": {},
          "execution_count": 92
        },
        {
          "output_type": "display_data",
          "data": {
            "text/plain": [
              "<Figure size 640x480 with 1 Axes>"
            ],
            "image/png": "[encoded data removed]"
          },
          "metadata": {}
        }
      ]
    },
    {
      "cell_type": "markdown",
      "source": [
        "Conclusion : The repayment rates across all categories are extremely similar. Discard the emp_length column"
      ],
      "metadata": {
        "id": "nHhQAUx01WfE"
      }
    },
    {
      "cell_type": "code",
      "source": [
        "df.drop('emp_length',axis=1, inplace = True)"
      ],
      "metadata": {
        "id": "8O48EXZ41ZKc"
      },
      "execution_count": 93,
      "outputs": []
    },
    {
      "cell_type": "code",
      "source": [
        "df.isnull().sum()"
      ],
      "metadata": {
        "id": "5m6pI5jm1fNb",
        "outputId": "b6ccbac8-3eeb-4a46-b7d4-045dc5ec0e7e",
        "colab": {
          "base_uri": "https://localhost:8080/"
        }
      },
      "execution_count": 94,
      "outputs": [
        {
          "output_type": "execute_result",
          "data": {
            "text/plain": [
              "loan_amnt                   0\n",
              "term                        0\n",
              "int_rate                    0\n",
              "installment                 0\n",
              "home_ownership              0\n",
              "annual_inc                  0\n",
              "verification_status         0\n",
              "issue_d                     0\n",
              "loan_status                 0\n",
              "purpose                     0\n",
              "title                     966\n",
              "dti                         0\n",
              "earliest_cr_line            0\n",
              "open_acc                    0\n",
              "pub_rec                     0\n",
              "revol_bal                   0\n",
              "revol_util                152\n",
              "total_acc                   0\n",
              "initial_list_status         0\n",
              "application_type            0\n",
              "mort_acc                20767\n",
              "pub_rec_bankruptcies      302\n",
              "address                     1\n",
              "loan_repaid                 0\n",
              "A2                          0\n",
              "A3                          0\n",
              "A4                          0\n",
              "A5                          0\n",
              "B1                          0\n",
              "B2                          0\n",
              "B3                          0\n",
              "B4                          0\n",
              "B5                          0\n",
              "C1                          0\n",
              "C2                          0\n",
              "C3                          0\n",
              "C4                          0\n",
              "C5                          0\n",
              "D1                          0\n",
              "D2                          0\n",
              "D3                          0\n",
              "D4                          0\n",
              "D5                          0\n",
              "E1                          0\n",
              "E2                          0\n",
              "E3                          0\n",
              "E4                          0\n",
              "E5                          0\n",
              "F1                          0\n",
              "F2                          0\n",
              "F3                          0\n",
              "F4                          0\n",
              "F5                          0\n",
              "G1                          0\n",
              "G2                          0\n",
              "G3                          0\n",
              "G4                          0\n",
              "G5                          0\n",
              "dtype: int64"
            ]
          },
          "metadata": {},
          "execution_count": 94
        }
      ]
    },
    {
      "cell_type": "markdown",
      "source": [
        "Let us now check the columns title and purpose"
      ],
      "metadata": {
        "id": "OLJ3u8vl2h41"
      }
    },
    {
      "cell_type": "code",
      "source": [
        "df['title' ].value_counts()"
      ],
      "metadata": {
        "id": "T5Wv6XR91tG7",
        "outputId": "b1cc53c3-8216-483f-dbdd-0e25a5e3e950",
        "colab": {
          "base_uri": "https://localhost:8080/"
        }
      },
      "execution_count": 95,
      "outputs": [
        {
          "output_type": "execute_result",
          "data": {
            "text/plain": [
              "Debt consolidation                 83411\n",
              "Credit card refinancing            28203\n",
              "Home improvement                    8348\n",
              "Other                               7125\n",
              "Debt Consolidation                  6410\n",
              "                                   ...  \n",
              "No more CC debt                        1\n",
              "Much needed repairs                    1\n",
              "Lower APR - Less Interest Paid!        1\n",
              "Unexpected bills                       1\n",
              "Credit Card/Home Improvement           1\n",
              "Name: title, Length: 29204, dtype: int64"
            ]
          },
          "metadata": {},
          "execution_count": 95
        }
      ]
    },
    {
      "cell_type": "code",
      "source": [
        "df['purpose' ].value_counts()"
      ],
      "metadata": {
        "id": "8WXRDapU12rn",
        "outputId": "7e6a3809-8544-4894-b05d-4dbbf0492775",
        "colab": {
          "base_uri": "https://localhost:8080/"
        }
      },
      "execution_count": 96,
      "outputs": [
        {
          "output_type": "execute_result",
          "data": {
            "text/plain": [
              "debt_consolidation    128317\n",
              "credit_card            45514\n",
              "home_improvement       13135\n",
              "other                  11636\n",
              "major_purchase          4933\n",
              "small_business          3071\n",
              "car                     2559\n",
              "medical                 2301\n",
              "moving                  1554\n",
              "vacation                1347\n",
              "house                   1204\n",
              "wedding                 1014\n",
              "renewable_energy         182\n",
              "educational              137\n",
              "Name: purpose, dtype: int64"
            ]
          },
          "metadata": {},
          "execution_count": 96
        }
      ]
    },
    {
      "cell_type": "markdown",
      "source": [
        "Conclusion : Title and purpose are similar, so discard title"
      ],
      "metadata": {
        "id": "5WbWATfl2nr5"
      }
    },
    {
      "cell_type": "code",
      "source": [
        "df.drop('title',axis=1,inplace=True)"
      ],
      "metadata": {
        "id": "SgNAlLtn2zpN"
      },
      "execution_count": 97,
      "outputs": []
    },
    {
      "cell_type": "markdown",
      "source": [
        "Let us focus on mort_acc missing values. Let us check which which column is mort_acc highly coorelated"
      ],
      "metadata": {
        "id": "xuEeZGd5JhrL"
      }
    },
    {
      "cell_type": "code",
      "source": [
        "df.corr()['mort_acc'].sort_values(ascending=False)"
      ],
      "metadata": {
        "id": "ARQaxPb51n4-",
        "outputId": "f1a01baa-f602-43c8-81c1-28e2f2c2b0a0",
        "colab": {
          "base_uri": "https://localhost:8080/"
        }
      },
      "execution_count": 98,
      "outputs": [
        {
          "output_type": "stream",
          "name": "stderr",
          "text": [
            "<ipython-input-98-c591a4eea948>:1: FutureWarning: The default value of numeric_only in DataFrame.corr is deprecated. In a future version, it will default to False. Select only valid columns or specify the value of numeric_only to silence this warning.\n",
            "  df.corr()['mort_acc'].sort_values(ascending=False)\n"
          ]
        },
        {
          "output_type": "execute_result",
          "data": {
            "text/plain": [
              "mort_acc                1.000000\n",
              "total_acc               0.380661\n",
              "annual_inc              0.245589\n",
              "loan_amnt               0.221990\n",
              "revol_bal               0.194859\n",
              "installment             0.192968\n",
              "open_acc                0.109753\n",
              "term                    0.096645\n",
              "A3                      0.037468\n",
              "A2                      0.036073\n",
              "A5                      0.035269\n",
              "pub_rec_bankruptcies    0.029010\n",
              "A4                      0.028691\n",
              "B1                      0.022757\n",
              "B2                      0.016255\n",
              "pub_rec                 0.014746\n",
              "revol_util              0.006998\n",
              "G4                     -0.000929\n",
              "B3                     -0.000937\n",
              "G1                     -0.001008\n",
              "G3                     -0.002014\n",
              "B4                     -0.002152\n",
              "F1                     -0.002351\n",
              "C5                     -0.003454\n",
              "G5                     -0.003854\n",
              "G2                     -0.004056\n",
              "F5                     -0.004463\n",
              "E1                     -0.005008\n",
              "F2                     -0.005246\n",
              "F4                     -0.005496\n",
              "E4                     -0.006317\n",
              "F3                     -0.006972\n",
              "E3                     -0.007962\n",
              "E2                     -0.008854\n",
              "E5                     -0.010276\n",
              "C3                     -0.010718\n",
              "C4                     -0.011586\n",
              "C2                     -0.011881\n",
              "D5                     -0.012678\n",
              "D4                     -0.013677\n",
              "B5                     -0.014557\n",
              "C1                     -0.015487\n",
              "D1                     -0.021586\n",
              "D2                     -0.022445\n",
              "D3                     -0.023574\n",
              "dti                    -0.057356\n",
              "loan_repaid            -0.073719\n",
              "int_rate               -0.084263\n",
              "Name: mort_acc, dtype: float64"
            ]
          },
          "metadata": {},
          "execution_count": 98
        }
      ]
    },
    {
      "cell_type": "markdown",
      "source": [
        "HERAUSFORDERUNG: Lasst uns die fehlenden Werte von mort_acc basierend auf deren total_acc-Werten ersetzen. Wenn mort_acc fehlt, ersetzen wir den fehlenden Wert mit dem Durchschnitt entsprechend des total_acc-Wertes aus der oben erzeugten Series. Dies beinhaltet die Anwendung der .apply()-Methode mit zwei Spalten. Beachte den folgenden Link für mehr Informationen, oder wirf einen Blick in das Video/Lösungsnotebook."
      ],
      "metadata": {
        "id": "pBZ6_oigWudv"
      }
    },
    {
      "cell_type": "code",
      "source": [
        "print(\"Mean of mort_acc column per total_acc\")\n",
        "df.groupby('total_acc')['mort_acc'].mean()"
      ],
      "metadata": {
        "id": "aquSxSu-3fqi",
        "outputId": "265dfec8-c59a-4d39-9dc7-4a60014c91c4",
        "colab": {
          "base_uri": "https://localhost:8080/"
        }
      },
      "execution_count": 99,
      "outputs": [
        {
          "output_type": "stream",
          "name": "stdout",
          "text": [
            "Mean of mort_acc column per total_acc\n"
          ]
        },
        {
          "output_type": "execute_result",
          "data": {
            "text/plain": [
              "total_acc\n",
              "2.0      0.000000\n",
              "3.0      0.064516\n",
              "4.0      0.069717\n",
              "5.0      0.086124\n",
              "6.0      0.145768\n",
              "           ...   \n",
              "124.0    1.000000\n",
              "129.0    1.000000\n",
              "135.0    3.000000\n",
              "150.0    2.000000\n",
              "151.0    0.000000\n",
              "Name: mort_acc, Length: 115, dtype: float64"
            ]
          },
          "metadata": {},
          "execution_count": 99
        }
      ]
    },
    {
      "cell_type": "code",
      "source": [
        "def fill_mort_acc(total_acc,mort_acc):\n",
        "    '''\n",
        "    Accepts the total_acc and mort_acc values for the row.\n",
        "    Checks if the mort_acc is NaN , if so, it returns the avg mort_acc value\n",
        "    for the corresponding total_acc value for that row.\n",
        "\n",
        "    total_acc_avg here should be a Series or dictionary containing the mapping of the\n",
        "    groupby averages of mort_acc per total_acc values.\n",
        "    '''\n",
        "    if np.isnan(mort_acc):\n",
        "        return total_acc_avg[total_acc]\n",
        "    else:\n",
        "        return mort_acc"
      ],
      "metadata": {
        "id": "1PMu0_QEQATr"
      },
      "execution_count": 100,
      "outputs": []
    },
    {
      "cell_type": "code",
      "source": [
        "total_acc_avg = df.groupby('total_acc')['mort_acc'].mean()"
      ],
      "metadata": {
        "id": "PxSUMwiJ3Gei"
      },
      "execution_count": 101,
      "outputs": []
    },
    {
      "cell_type": "code",
      "source": [
        "#df['mort_acc' ] = df.apply(lambda x : fill_mort_acc(x['total_acc'], x['mort_acc' ]),axis=1 )\n",
        "df['mort_acc'] = df.apply(lambda x: fill_mort_acc(x['total_acc'], x['mort_acc']), axis=1)"
      ],
      "metadata": {
        "id": "Euo2zWM7wVeF"
      },
      "execution_count": 102,
      "outputs": []
    },
    {
      "cell_type": "code",
      "source": [
        "df.isnull().sum() / len(df)* 100"
      ],
      "metadata": {
        "id": "BWkqsdDcVMN7",
        "outputId": "9b1d9fef-ea88-45ed-e874-b5bc38c79bf8",
        "colab": {
          "base_uri": "https://localhost:8080/"
        }
      },
      "execution_count": 103,
      "outputs": [
        {
          "output_type": "execute_result",
          "data": {
            "text/plain": [
              "loan_amnt               0.000000\n",
              "term                    0.000000\n",
              "int_rate                0.000000\n",
              "installment             0.000000\n",
              "home_ownership          0.000000\n",
              "annual_inc              0.000000\n",
              "verification_status     0.000000\n",
              "issue_d                 0.000000\n",
              "loan_status             0.000000\n",
              "purpose                 0.000000\n",
              "dti                     0.000000\n",
              "earliest_cr_line        0.000000\n",
              "open_acc                0.000000\n",
              "pub_rec                 0.000000\n",
              "revol_bal               0.000000\n",
              "revol_util              0.070077\n",
              "total_acc               0.000000\n",
              "initial_list_status     0.000000\n",
              "application_type        0.000000\n",
              "mort_acc                0.000000\n",
              "pub_rec_bankruptcies    0.139232\n",
              "address                 0.000461\n",
              "loan_repaid             0.000000\n",
              "A2                      0.000000\n",
              "A3                      0.000000\n",
              "A4                      0.000000\n",
              "A5                      0.000000\n",
              "B1                      0.000000\n",
              "B2                      0.000000\n",
              "B3                      0.000000\n",
              "B4                      0.000000\n",
              "B5                      0.000000\n",
              "C1                      0.000000\n",
              "C2                      0.000000\n",
              "C3                      0.000000\n",
              "C4                      0.000000\n",
              "C5                      0.000000\n",
              "D1                      0.000000\n",
              "D2                      0.000000\n",
              "D3                      0.000000\n",
              "D4                      0.000000\n",
              "D5                      0.000000\n",
              "E1                      0.000000\n",
              "E2                      0.000000\n",
              "E3                      0.000000\n",
              "E4                      0.000000\n",
              "E5                      0.000000\n",
              "F1                      0.000000\n",
              "F2                      0.000000\n",
              "F3                      0.000000\n",
              "F4                      0.000000\n",
              "F5                      0.000000\n",
              "G1                      0.000000\n",
              "G2                      0.000000\n",
              "G3                      0.000000\n",
              "G4                      0.000000\n",
              "G5                      0.000000\n",
              "dtype: float64"
            ]
          },
          "metadata": {},
          "execution_count": 103
        }
      ]
    },
    {
      "cell_type": "markdown",
      "source": [
        "revol_util              0.069692\n",
        "pub_rec_bankruptcies    0.135091\n",
        "The above two cols have null values but they are so less in perc we can just drop the null value rows"
      ],
      "metadata": {
        "id": "_GjL37X1XTOF"
      }
    },
    {
      "cell_type": "code",
      "source": [
        "df = df.dropna()"
      ],
      "metadata": {
        "id": "Vrbs3swgXiz2"
      },
      "execution_count": 104,
      "outputs": []
    },
    {
      "cell_type": "code",
      "source": [
        "df.isnull().sum()"
      ],
      "metadata": {
        "id": "yU7VRYxBYcJ9",
        "outputId": "e59ac104-0c40-4bfd-840d-589818e381b7",
        "colab": {
          "base_uri": "https://localhost:8080/"
        }
      },
      "execution_count": 105,
      "outputs": [
        {
          "output_type": "execute_result",
          "data": {
            "text/plain": [
              "loan_amnt               0\n",
              "term                    0\n",
              "int_rate                0\n",
              "installment             0\n",
              "home_ownership          0\n",
              "annual_inc              0\n",
              "verification_status     0\n",
              "issue_d                 0\n",
              "loan_status             0\n",
              "purpose                 0\n",
              "dti                     0\n",
              "earliest_cr_line        0\n",
              "open_acc                0\n",
              "pub_rec                 0\n",
              "revol_bal               0\n",
              "revol_util              0\n",
              "total_acc               0\n",
              "initial_list_status     0\n",
              "application_type        0\n",
              "mort_acc                0\n",
              "pub_rec_bankruptcies    0\n",
              "address                 0\n",
              "loan_repaid             0\n",
              "A2                      0\n",
              "A3                      0\n",
              "A4                      0\n",
              "A5                      0\n",
              "B1                      0\n",
              "B2                      0\n",
              "B3                      0\n",
              "B4                      0\n",
              "B5                      0\n",
              "C1                      0\n",
              "C2                      0\n",
              "C3                      0\n",
              "C4                      0\n",
              "C5                      0\n",
              "D1                      0\n",
              "D2                      0\n",
              "D3                      0\n",
              "D4                      0\n",
              "D5                      0\n",
              "E1                      0\n",
              "E2                      0\n",
              "E3                      0\n",
              "E4                      0\n",
              "E5                      0\n",
              "F1                      0\n",
              "F2                      0\n",
              "F3                      0\n",
              "F4                      0\n",
              "F5                      0\n",
              "G1                      0\n",
              "G2                      0\n",
              "G3                      0\n",
              "G4                      0\n",
              "G5                      0\n",
              "dtype: int64"
            ]
          },
          "metadata": {},
          "execution_count": 105
        }
      ]
    },
    {
      "cell_type": "markdown",
      "source": [
        "# Kategorische Variablen und Dummyvariablen"
      ],
      "metadata": {
        "id": "mwalalKeY-9y"
      }
    },
    {
      "cell_type": "code",
      "source": [
        "df.info()"
      ],
      "metadata": {
        "id": "8ihMYfImZHxJ",
        "outputId": "fa03704b-a2c5-4473-af92-7cdaadc8e309",
        "colab": {
          "base_uri": "https://localhost:8080/"
        }
      },
      "execution_count": 106,
      "outputs": [
        {
          "output_type": "stream",
          "name": "stdout",
          "text": [
            "<class 'pandas.core.frame.DataFrame'>\n",
            "Int64Index: 216450 entries, 0 to 216902\n",
            "Data columns (total 57 columns):\n",
            " #   Column                Non-Null Count   Dtype  \n",
            "---  ------                --------------   -----  \n",
            " 0   loan_amnt             216450 non-null  float64\n",
            " 1   term                  216450 non-null  int64  \n",
            " 2   int_rate              216450 non-null  float64\n",
            " 3   installment           216450 non-null  float64\n",
            " 4   home_ownership        216450 non-null  object \n",
            " 5   annual_inc            216450 non-null  float64\n",
            " 6   verification_status   216450 non-null  object \n",
            " 7   issue_d               216450 non-null  object \n",
            " 8   loan_status           216450 non-null  object \n",
            " 9   purpose               216450 non-null  object \n",
            " 10  dti                   216450 non-null  float64\n",
            " 11  earliest_cr_line      216450 non-null  object \n",
            " 12  open_acc              216450 non-null  float64\n",
            " 13  pub_rec               216450 non-null  float64\n",
            " 14  revol_bal             216450 non-null  float64\n",
            " 15  revol_util            216450 non-null  float64\n",
            " 16  total_acc             216450 non-null  float64\n",
            " 17  initial_list_status   216450 non-null  object \n",
            " 18  application_type      216450 non-null  object \n",
            " 19  mort_acc              216450 non-null  float64\n",
            " 20  pub_rec_bankruptcies  216450 non-null  float64\n",
            " 21  address               216450 non-null  object \n",
            " 22  loan_repaid           216450 non-null  int64  \n",
            " 23  A2                    216450 non-null  uint8  \n",
            " 24  A3                    216450 non-null  uint8  \n",
            " 25  A4                    216450 non-null  uint8  \n",
            " 26  A5                    216450 non-null  uint8  \n",
            " 27  B1                    216450 non-null  uint8  \n",
            " 28  B2                    216450 non-null  uint8  \n",
            " 29  B3                    216450 non-null  uint8  \n",
            " 30  B4                    216450 non-null  uint8  \n",
            " 31  B5                    216450 non-null  uint8  \n",
            " 32  C1                    216450 non-null  uint8  \n",
            " 33  C2                    216450 non-null  uint8  \n",
            " 34  C3                    216450 non-null  uint8  \n",
            " 35  C4                    216450 non-null  uint8  \n",
            " 36  C5                    216450 non-null  uint8  \n",
            " 37  D1                    216450 non-null  uint8  \n",
            " 38  D2                    216450 non-null  uint8  \n",
            " 39  D3                    216450 non-null  uint8  \n",
            " 40  D4                    216450 non-null  uint8  \n",
            " 41  D5                    216450 non-null  uint8  \n",
            " 42  E1                    216450 non-null  uint8  \n",
            " 43  E2                    216450 non-null  uint8  \n",
            " 44  E3                    216450 non-null  uint8  \n",
            " 45  E4                    216450 non-null  uint8  \n",
            " 46  E5                    216450 non-null  uint8  \n",
            " 47  F1                    216450 non-null  uint8  \n",
            " 48  F2                    216450 non-null  uint8  \n",
            " 49  F3                    216450 non-null  uint8  \n",
            " 50  F4                    216450 non-null  uint8  \n",
            " 51  F5                    216450 non-null  uint8  \n",
            " 52  G1                    216450 non-null  uint8  \n",
            " 53  G2                    216450 non-null  uint8  \n",
            " 54  G3                    216450 non-null  uint8  \n",
            " 55  G4                    216450 non-null  uint8  \n",
            " 56  G5                    216450 non-null  uint8  \n",
            "dtypes: float64(12), int64(2), object(9), uint8(34)\n",
            "memory usage: 46.7+ MB\n"
          ]
        }
      ]
    },
    {
      "cell_type": "code",
      "source": [
        "df['home_ownership'].value_counts()"
      ],
      "metadata": {
        "id": "_04KXCkAYgcL",
        "outputId": "fdfffbbb-2357-485f-b4e2-d121db3a8f62",
        "colab": {
          "base_uri": "https://localhost:8080/"
        }
      },
      "execution_count": 107,
      "outputs": [
        {
          "output_type": "execute_result",
          "data": {
            "text/plain": [
              "MORTGAGE    108553\n",
              "RENT         87359\n",
              "OWN          20466\n",
              "OTHER           53\n",
              "NONE            17\n",
              "ANY              2\n",
              "Name: home_ownership, dtype: int64"
            ]
          },
          "metadata": {},
          "execution_count": 107
        }
      ]
    },
    {
      "cell_type": "markdown",
      "source": [
        "AUFGABE: Konvertiere diese Dummyvariablen, aber ersetze NONE und ANY mit OTHER, so dass wir nur 4 Kategorien erhalten, MORTGAGE, RENT, OWN, OTHER. Füge sie dann dem originalen DataFrame hinzu. Verwende drop_first=True und verwirf die ursprünglichen Spalten."
      ],
      "metadata": {
        "id": "E68cgB3zZqYI"
      }
    },
    {
      "cell_type": "code",
      "source": [
        "df['home_ownership'] = df['home_ownership'].apply(lambda x: 'OTHER' if x == 'ANY' else x )"
      ],
      "metadata": {
        "id": "etcbApguZbJh"
      },
      "execution_count": 108,
      "outputs": []
    },
    {
      "cell_type": "code",
      "source": [
        "df['home_ownership'] = df['home_ownership'].apply(lambda x: 'OTHER' if x == 'NONE' else x )"
      ],
      "metadata": {
        "id": "fLOPlWd2bLg5"
      },
      "execution_count": 109,
      "outputs": []
    },
    {
      "cell_type": "code",
      "source": [
        "df['home_ownership'].value_counts()"
      ],
      "metadata": {
        "id": "1u3v-xo_bENf",
        "outputId": "9f4b6351-eba6-4002-86da-993a9e4815ec",
        "colab": {
          "base_uri": "https://localhost:8080/"
        }
      },
      "execution_count": 110,
      "outputs": [
        {
          "output_type": "execute_result",
          "data": {
            "text/plain": [
              "MORTGAGE    108553\n",
              "RENT         87359\n",
              "OWN          20466\n",
              "OTHER           72\n",
              "Name: home_ownership, dtype: int64"
            ]
          },
          "metadata": {},
          "execution_count": 110
        }
      ]
    },
    {
      "cell_type": "code",
      "source": [
        "home_ownership = pd.get_dummies(df['home_ownership'],drop_first=True)"
      ],
      "metadata": {
        "id": "tn6GDwnGbIJG"
      },
      "execution_count": 119,
      "outputs": []
    },
    {
      "cell_type": "code",
      "source": [
        "df = pd.concat([ df,home_ownership ],axis=1)"
      ],
      "metadata": {
        "id": "easuOmx_bisO"
      },
      "execution_count": 121,
      "outputs": []
    },
    {
      "cell_type": "code",
      "source": [
        "df.info()"
      ],
      "metadata": {
        "id": "cchh4lPhbzvL",
        "outputId": "f27d6fa0-2eeb-46d3-a320-52ae8e54e2c5",
        "colab": {
          "base_uri": "https://localhost:8080/"
        }
      },
      "execution_count": 126,
      "outputs": [
        {
          "output_type": "stream",
          "name": "stdout",
          "text": [
            "<class 'pandas.core.frame.DataFrame'>\n",
            "Int64Index: 216450 entries, 0 to 216902\n",
            "Data columns (total 59 columns):\n",
            " #   Column                Non-Null Count   Dtype  \n",
            "---  ------                --------------   -----  \n",
            " 0   loan_amnt             216450 non-null  float64\n",
            " 1   term                  216450 non-null  int64  \n",
            " 2   int_rate              216450 non-null  float64\n",
            " 3   installment           216450 non-null  float64\n",
            " 4   annual_inc            216450 non-null  float64\n",
            " 5   verification_status   216450 non-null  object \n",
            " 6   issue_d               216450 non-null  object \n",
            " 7   loan_status           216450 non-null  object \n",
            " 8   purpose               216450 non-null  object \n",
            " 9   dti                   216450 non-null  float64\n",
            " 10  earliest_cr_line      216450 non-null  object \n",
            " 11  open_acc              216450 non-null  float64\n",
            " 12  pub_rec               216450 non-null  float64\n",
            " 13  revol_bal             216450 non-null  float64\n",
            " 14  revol_util            216450 non-null  float64\n",
            " 15  total_acc             216450 non-null  float64\n",
            " 16  initial_list_status   216450 non-null  object \n",
            " 17  application_type      216450 non-null  object \n",
            " 18  mort_acc              216450 non-null  float64\n",
            " 19  pub_rec_bankruptcies  216450 non-null  float64\n",
            " 20  address               216450 non-null  object \n",
            " 21  loan_repaid           216450 non-null  int64  \n",
            " 22  A2                    216450 non-null  uint8  \n",
            " 23  A3                    216450 non-null  uint8  \n",
            " 24  A4                    216450 non-null  uint8  \n",
            " 25  A5                    216450 non-null  uint8  \n",
            " 26  B1                    216450 non-null  uint8  \n",
            " 27  B2                    216450 non-null  uint8  \n",
            " 28  B3                    216450 non-null  uint8  \n",
            " 29  B4                    216450 non-null  uint8  \n",
            " 30  B5                    216450 non-null  uint8  \n",
            " 31  C1                    216450 non-null  uint8  \n",
            " 32  C2                    216450 non-null  uint8  \n",
            " 33  C3                    216450 non-null  uint8  \n",
            " 34  C4                    216450 non-null  uint8  \n",
            " 35  C5                    216450 non-null  uint8  \n",
            " 36  D1                    216450 non-null  uint8  \n",
            " 37  D2                    216450 non-null  uint8  \n",
            " 38  D3                    216450 non-null  uint8  \n",
            " 39  D4                    216450 non-null  uint8  \n",
            " 40  D5                    216450 non-null  uint8  \n",
            " 41  E1                    216450 non-null  uint8  \n",
            " 42  E2                    216450 non-null  uint8  \n",
            " 43  E3                    216450 non-null  uint8  \n",
            " 44  E4                    216450 non-null  uint8  \n",
            " 45  E5                    216450 non-null  uint8  \n",
            " 46  F1                    216450 non-null  uint8  \n",
            " 47  F2                    216450 non-null  uint8  \n",
            " 48  F3                    216450 non-null  uint8  \n",
            " 49  F4                    216450 non-null  uint8  \n",
            " 50  F5                    216450 non-null  uint8  \n",
            " 51  G1                    216450 non-null  uint8  \n",
            " 52  G2                    216450 non-null  uint8  \n",
            " 53  G3                    216450 non-null  uint8  \n",
            " 54  G4                    216450 non-null  uint8  \n",
            " 55  G5                    216450 non-null  uint8  \n",
            " 56  OTHER                 216450 non-null  uint8  \n",
            " 57  OWN                   216450 non-null  uint8  \n",
            " 58  RENT                  216450 non-null  uint8  \n",
            "dtypes: float64(12), int64(2), object(8), uint8(37)\n",
            "memory usage: 45.6+ MB\n"
          ]
        }
      ]
    },
    {
      "cell_type": "code",
      "source": [
        "df.drop('home_ownership',axis=1,inplace=True)"
      ],
      "metadata": {
        "id": "XimuyJ3HbiNP"
      },
      "execution_count": 125,
      "outputs": []
    },
    {
      "cell_type": "markdown",
      "source": [
        "AUFGABE: Konvertiere die Spalten ['verification_status', 'application_type','initial_list_status','purpose'] in Dummyvariablen und füge sie dem originalen DataFrame hinzu. Setze drop_first=True und verwirf die ursprünglichen Spalten."
      ],
      "metadata": {
        "id": "xEsZIGIlhkrD"
      }
    },
    {
      "cell_type": "code",
      "source": [
        "dummies = pd.get_dummies(df[['verification_status','application_type','initial_list_status','purpose']],drop_first=True)"
      ],
      "metadata": {
        "id": "gOpI6J3ehl63"
      },
      "execution_count": 147,
      "outputs": []
    },
    {
      "cell_type": "code",
      "source": [
        "df = pd.concat([df,dummies],axis=1)\n"
      ],
      "metadata": {
        "id": "YmTNbZlIizbC"
      },
      "execution_count": 149,
      "outputs": []
    },
    {
      "cell_type": "code",
      "source": [
        "df.drop(['verification_status','application_type','initial_list_status','purpose'],axis=1,inplace=True)"
      ],
      "metadata": {
        "id": "YeG01UXAjSNu"
      },
      "execution_count": 153,
      "outputs": []
    },
    {
      "cell_type": "code",
      "source": [
        "df['issue_d'].value_counts()"
      ],
      "metadata": {
        "id": "ME992e4TeSYf",
        "outputId": "7e9b2610-2f93-497a-f6ab-65bb4ecc738c",
        "colab": {
          "base_uri": "https://localhost:8080/"
        }
      },
      "execution_count": 138,
      "outputs": [
        {
          "output_type": "execute_result",
          "data": {
            "text/plain": [
              "Oct-2014    8148\n",
              "Jul-2014    6952\n",
              "Jan-2015    6391\n",
              "Dec-2013    5863\n",
              "Nov-2013    5726\n",
              "            ... \n",
              "Feb-2008       3\n",
              "Dec-2007       2\n",
              "Jan-2008       2\n",
              "Oct-2007       1\n",
              "Nov-2007       1\n",
              "Name: issue_d, Length: 111, dtype: int64"
            ]
          },
          "metadata": {},
          "execution_count": 138
        }
      ]
    },
    {
      "cell_type": "markdown",
      "source": [
        "TASK: This would be a data overflow because using our model we don't know in advance whether a loan will be given or not. So theoretically we wouldn't have an issue_date. Delete this column.\n"
      ],
      "metadata": {
        "id": "mItdzJDzkCfG"
      }
    },
    {
      "cell_type": "code",
      "source": [
        "df.drop('issue_d',axis=1,inplace=True)"
      ],
      "metadata": {
        "id": "0S3cncgPkBVJ"
      },
      "execution_count": 151,
      "outputs": []
    },
    {
      "cell_type": "markdown",
      "source": [
        "extract zipcode from address and covert it into dummy variables"
      ],
      "metadata": {
        "id": "tl0BKUfSgJtJ"
      }
    },
    {
      "cell_type": "code",
      "source": [
        "df['zip_code'] = df['address'].apply(lambda address:address[-5:])"
      ],
      "metadata": {
        "id": "ONV8pjvAek-b"
      },
      "execution_count": 140,
      "outputs": []
    },
    {
      "cell_type": "code",
      "source": [
        "zip_code = pd.get_dummies(df['zip_code'],drop_first=True)"
      ],
      "metadata": {
        "id": "0t58InjweHtW"
      },
      "execution_count": 143,
      "outputs": []
    },
    {
      "cell_type": "code",
      "source": [
        "df=pd.concat([df,zip_code],axis=1)"
      ],
      "metadata": {
        "id": "1KkyWAsegmMo"
      },
      "execution_count": 144,
      "outputs": []
    },
    {
      "cell_type": "code",
      "source": [
        "df.drop(['zip_code','address'],axis=1,inplace=True)"
      ],
      "metadata": {
        "id": "J4d6wBD3g0ND"
      },
      "execution_count": 146,
      "outputs": []
    },
    {
      "cell_type": "code",
      "source": [
        "df['earliest_cr_line']"
      ],
      "metadata": {
        "id": "CumpkeBnkaSC",
        "outputId": "3bd1b825-d6a3-484e-b9e0-9191acd6546b",
        "colab": {
          "base_uri": "https://localhost:8080/"
        }
      },
      "execution_count": 155,
      "outputs": [
        {
          "output_type": "execute_result",
          "data": {
            "text/plain": [
              "0         Jun-1990\n",
              "1         Jul-2004\n",
              "2         Aug-2007\n",
              "3         Sep-2006\n",
              "4         Mar-1999\n",
              "            ...   \n",
              "216898    Nov-2003\n",
              "216899    Jun-2003\n",
              "216900    Nov-1999\n",
              "216901    Sep-2002\n",
              "216902    Nov-2003\n",
              "Name: earliest_cr_line, Length: 216450, dtype: object"
            ]
          },
          "metadata": {},
          "execution_count": 155
        }
      ]
    },
    {
      "cell_type": "code",
      "source": [
        "feature_info('earliest_cr_line')"
      ],
      "metadata": {
        "id": "-AG_aEigkfTq",
        "outputId": "7037eff3-da3b-4561-e6f7-e3d132da5430",
        "colab": {
          "base_uri": "https://localhost:8080/"
        }
      },
      "execution_count": 156,
      "outputs": [
        {
          "output_type": "stream",
          "name": "stdout",
          "text": [
            "The month the borrower's earliest reported credit line was opened\n"
          ]
        }
      ]
    },
    {
      "cell_type": "markdown",
      "source": [
        "TASK: This appears to be a historical timestamp feature. Extract the year of this feature using the .apply() function and convert it to a numeric feature. Write this data into a feature column 'earliest_cr_year' and then discard the feature earliest_cr_line."
      ],
      "metadata": {
        "id": "MKSEUd71kukf"
      }
    },
    {
      "cell_type": "code",
      "source": [
        "df['earliest_cr_line'] = pd.to_datetime(df['earliest_cr_line'])"
      ],
      "metadata": {
        "id": "PqdGb9C1k1AV"
      },
      "execution_count": 157,
      "outputs": []
    },
    {
      "cell_type": "code",
      "source": [
        "df['earliest_cr_year']=df['earliest_cr_line'].apply(lambda x : int(x.year))"
      ],
      "metadata": {
        "id": "YlRVKCRalGKy"
      },
      "execution_count": 163,
      "outputs": []
    },
    {
      "cell_type": "code",
      "source": [
        "df.drop('earliest_cr_line',axis=1,inplace=True)"
      ],
      "metadata": {
        "id": "cyLhPr6MlbMN"
      },
      "execution_count": 167,
      "outputs": []
    },
    {
      "cell_type": "code",
      "source": [
        "# drop loan_status as we have created numeric col loan_repaid\n",
        "df.drop('loan_status',axis=1,inplace=True)"
      ],
      "metadata": {
        "id": "km2jgcafl2YT"
      },
      "execution_count": 164,
      "outputs": []
    },
    {
      "cell_type": "code",
      "source": [
        "df.info()"
      ],
      "metadata": {
        "id": "KHLMmz3LhLMJ",
        "outputId": "379c8913-72d3-4ec0-c369-54f887b6ea09",
        "colab": {
          "base_uri": "https://localhost:8080/"
        }
      },
      "execution_count": 168,
      "outputs": [
        {
          "output_type": "stream",
          "name": "stdout",
          "text": [
            "<class 'pandas.core.frame.DataFrame'>\n",
            "Int64Index: 216450 entries, 0 to 216902\n",
            "Data columns (total 79 columns):\n",
            " #   Column                               Non-Null Count   Dtype  \n",
            "---  ------                               --------------   -----  \n",
            " 0   loan_amnt                            216450 non-null  float64\n",
            " 1   term                                 216450 non-null  int64  \n",
            " 2   int_rate                             216450 non-null  float64\n",
            " 3   installment                          216450 non-null  float64\n",
            " 4   annual_inc                           216450 non-null  float64\n",
            " 5   dti                                  216450 non-null  float64\n",
            " 6   open_acc                             216450 non-null  float64\n",
            " 7   pub_rec                              216450 non-null  float64\n",
            " 8   revol_bal                            216450 non-null  float64\n",
            " 9   revol_util                           216450 non-null  float64\n",
            " 10  total_acc                            216450 non-null  float64\n",
            " 11  mort_acc                             216450 non-null  float64\n",
            " 12  pub_rec_bankruptcies                 216450 non-null  float64\n",
            " 13  loan_repaid                          216450 non-null  int64  \n",
            " 14  A2                                   216450 non-null  uint8  \n",
            " 15  A3                                   216450 non-null  uint8  \n",
            " 16  A4                                   216450 non-null  uint8  \n",
            " 17  A5                                   216450 non-null  uint8  \n",
            " 18  B1                                   216450 non-null  uint8  \n",
            " 19  B2                                   216450 non-null  uint8  \n",
            " 20  B3                                   216450 non-null  uint8  \n",
            " 21  B4                                   216450 non-null  uint8  \n",
            " 22  B5                                   216450 non-null  uint8  \n",
            " 23  C1                                   216450 non-null  uint8  \n",
            " 24  C2                                   216450 non-null  uint8  \n",
            " 25  C3                                   216450 non-null  uint8  \n",
            " 26  C4                                   216450 non-null  uint8  \n",
            " 27  C5                                   216450 non-null  uint8  \n",
            " 28  D1                                   216450 non-null  uint8  \n",
            " 29  D2                                   216450 non-null  uint8  \n",
            " 30  D3                                   216450 non-null  uint8  \n",
            " 31  D4                                   216450 non-null  uint8  \n",
            " 32  D5                                   216450 non-null  uint8  \n",
            " 33  E1                                   216450 non-null  uint8  \n",
            " 34  E2                                   216450 non-null  uint8  \n",
            " 35  E3                                   216450 non-null  uint8  \n",
            " 36  E4                                   216450 non-null  uint8  \n",
            " 37  E5                                   216450 non-null  uint8  \n",
            " 38  F1                                   216450 non-null  uint8  \n",
            " 39  F2                                   216450 non-null  uint8  \n",
            " 40  F3                                   216450 non-null  uint8  \n",
            " 41  F4                                   216450 non-null  uint8  \n",
            " 42  F5                                   216450 non-null  uint8  \n",
            " 43  G1                                   216450 non-null  uint8  \n",
            " 44  G2                                   216450 non-null  uint8  \n",
            " 45  G3                                   216450 non-null  uint8  \n",
            " 46  G4                                   216450 non-null  uint8  \n",
            " 47  G5                                   216450 non-null  uint8  \n",
            " 48  OTHER                                216450 non-null  uint8  \n",
            " 49  OWN                                  216450 non-null  uint8  \n",
            " 50  RENT                                 216450 non-null  uint8  \n",
            " 51  05113                                216450 non-null  uint8  \n",
            " 52  11650                                216450 non-null  uint8  \n",
            " 53  22690                                216450 non-null  uint8  \n",
            " 54  29597                                216450 non-null  uint8  \n",
            " 55  30723                                216450 non-null  uint8  \n",
            " 56  48052                                216450 non-null  uint8  \n",
            " 57  70466                                216450 non-null  uint8  \n",
            " 58  86630                                216450 non-null  uint8  \n",
            " 59  93700                                216450 non-null  uint8  \n",
            " 60  verification_status_Source Verified  216450 non-null  uint8  \n",
            " 61  verification_status_Verified         216450 non-null  uint8  \n",
            " 62  application_type_INDIVIDUAL          216450 non-null  uint8  \n",
            " 63  application_type_JOINT               216450 non-null  uint8  \n",
            " 64  initial_list_status_w                216450 non-null  uint8  \n",
            " 65  purpose_credit_card                  216450 non-null  uint8  \n",
            " 66  purpose_debt_consolidation           216450 non-null  uint8  \n",
            " 67  purpose_educational                  216450 non-null  uint8  \n",
            " 68  purpose_home_improvement             216450 non-null  uint8  \n",
            " 69  purpose_house                        216450 non-null  uint8  \n",
            " 70  purpose_major_purchase               216450 non-null  uint8  \n",
            " 71  purpose_medical                      216450 non-null  uint8  \n",
            " 72  purpose_moving                       216450 non-null  uint8  \n",
            " 73  purpose_other                        216450 non-null  uint8  \n",
            " 74  purpose_renewable_energy             216450 non-null  uint8  \n",
            " 75  purpose_small_business               216450 non-null  uint8  \n",
            " 76  purpose_vacation                     216450 non-null  uint8  \n",
            " 77  purpose_wedding                      216450 non-null  uint8  \n",
            " 78  earliest_cr_year                     216450 non-null  int64  \n",
            "dtypes: float64(12), int64(3), uint8(64)\n",
            "memory usage: 39.6 MB\n"
          ]
        }
      ]
    },
    {
      "cell_type": "markdown",
      "source": [
        "# Train Test split\n",
        "OPTIONAL: Verwende .sample() um eine Stichprobe der 490k+ Einträge zu extrahieren zur Reduktion der Trainingszeit. Schwer zu empfehlen für Rechner mit wenig RAM oder für das Training ohne GPU."
      ],
      "metadata": {
        "id": "svitDcWwmXnY"
      }
    },
    {
      "cell_type": "code",
      "source": [
        "df = df.sample(frac=0.1,random_state=101)"
      ],
      "metadata": {
        "id": "tnqRaFNMmd28"
      },
      "execution_count": 169,
      "outputs": []
    },
    {
      "cell_type": "code",
      "source": [
        "from sklearn.model_selection import train_test_split"
      ],
      "metadata": {
        "id": "OvrFypLwmovA"
      },
      "execution_count": 170,
      "outputs": []
    },
    {
      "cell_type": "code",
      "source": [
        "X = df.drop('loan_repaid',axis=1).values\n",
        "y = df['loan_repaid'].values"
      ],
      "metadata": {
        "id": "2Z9Y-ArUuWjQ"
      },
      "execution_count": 196,
      "outputs": []
    },
    {
      "cell_type": "code",
      "source": [
        "X_train, X_test, y_train, y_test = train_test_split(X,y, test_size=0.2, random_state=101)"
      ],
      "metadata": {
        "id": "5AUmQQSymvMz"
      },
      "execution_count": 197,
      "outputs": []
    },
    {
      "cell_type": "markdown",
      "source": [
        "Normalise the data using MinmaxScaler"
      ],
      "metadata": {
        "id": "YnIloudQn46t"
      }
    },
    {
      "cell_type": "code",
      "source": [
        "from sklearn.preprocessing import MinMaxScaler"
      ],
      "metadata": {
        "id": "ZQs5M6Nan-g6"
      },
      "execution_count": 176,
      "outputs": []
    },
    {
      "cell_type": "code",
      "source": [
        "scaler = MinMaxScaler()"
      ],
      "metadata": {
        "id": "cBj3wM89oEG7"
      },
      "execution_count": 175,
      "outputs": []
    },
    {
      "cell_type": "code",
      "source": [
        "X_train = scaler.fit_transform(X_train)"
      ],
      "metadata": {
        "id": "_G241S4ko8Tb"
      },
      "execution_count": 181,
      "outputs": []
    },
    {
      "cell_type": "code",
      "source": [
        "y_train = scaler.transform(X_test)"
      ],
      "metadata": {
        "id": "8ZMLHEbbpJfG",
        "outputId": "b6b0518b-9073-4baa-fd14-a919b39566a9",
        "colab": {
          "base_uri": "https://localhost:8080/"
        }
      },
      "execution_count": 182,
      "outputs": [
        {
          "output_type": "stream",
          "name": "stderr",
          "text": [
            "/usr/local/lib/python3.10/dist-packages/sklearn/base.py:432: UserWarning: X has feature names, but MinMaxScaler was fitted without feature names\n",
            "  warnings.warn(\n"
          ]
        }
      ]
    },
    {
      "cell_type": "code",
      "source": [
        "import tensorflow as tf\n",
        "from tensorflow.keras.models import Sequential\n",
        "from tensorflow.keras.layers import Dense, Activation,Dropout\n",
        "from tensorflow.keras.optimizers import Adam"
      ],
      "metadata": {
        "id": "sbBfojj5p2pL"
      },
      "execution_count": 190,
      "outputs": []
    },
    {
      "cell_type": "code",
      "source": [
        "X_train.shape , y_train.shape"
      ],
      "metadata": {
        "id": "8w6KoldZqVrP",
        "outputId": "43f40bfd-66a8-4aa7-b5b0-aa6c82aa2ecd",
        "colab": {
          "base_uri": "https://localhost:8080/"
        }
      },
      "execution_count": 198,
      "outputs": [
        {
          "output_type": "execute_result",
          "data": {
            "text/plain": [
              "((17316, 78), (17316,))"
            ]
          },
          "metadata": {},
          "execution_count": 198
        }
      ]
    },
    {
      "cell_type": "code",
      "source": [
        "model = Sequential()\n",
        "model.add(Dense(78, activation='relu'))\n",
        "model.add(Dropout(0.2))\n",
        "model.add(Dense(39, activation='relu'))\n",
        "model.add(Dropout(0.2))\n",
        "model.add(Dense(19, activation='relu'))\n",
        "model.add(Dropout(0.2))\n",
        "model.add(Dense(units=1,activation='sigmoid')) # as we are dealing with binary problem so sigmoid\n",
        "model.compile(optimizer ='adam',loss='binary_crossentropy')"
      ],
      "metadata": {
        "id": "AEP1bsfbqZsU"
      },
      "execution_count": 212,
      "outputs": []
    },
    {
      "cell_type": "code",
      "source": [
        "model.fit(x=X_train,\n",
        "          y=y_train,\n",
        "          epochs=25,\n",
        "          batch_size=256,\n",
        "          validation_data=(X_test, y_test),\n",
        "          )"
      ],
      "metadata": {
        "id": "RDy5v7z_rlNo",
        "outputId": "b1b8265e-1881-42a6-c9e1-dd3f346a8f6c",
        "colab": {
          "base_uri": "https://localhost:8080/"
        }
      },
      "execution_count": 213,
      "outputs": [
        {
          "output_type": "stream",
          "name": "stdout",
          "text": [
            "Epoch 1/25\n",
            "68/68 [==============================] - 1s 6ms/step - loss: 569.0756 - val_loss: 40.0352\n",
            "Epoch 2/25\n",
            "68/68 [==============================] - 0s 5ms/step - loss: 98.4853 - val_loss: 4.8925\n",
            "Epoch 3/25\n",
            "68/68 [==============================] - 0s 4ms/step - loss: 45.0131 - val_loss: 0.5613\n",
            "Epoch 4/25\n",
            "68/68 [==============================] - 0s 4ms/step - loss: 17.1415 - val_loss: 0.5042\n",
            "Epoch 5/25\n",
            "68/68 [==============================] - 0s 5ms/step - loss: 11.2726 - val_loss: 0.5024\n",
            "Epoch 6/25\n",
            "68/68 [==============================] - 0s 5ms/step - loss: 7.3587 - val_loss: 0.5057\n",
            "Epoch 7/25\n",
            "68/68 [==============================] - 0s 5ms/step - loss: 5.5724 - val_loss: 0.5099\n",
            "Epoch 8/25\n",
            "68/68 [==============================] - 0s 4ms/step - loss: 3.4220 - val_loss: 0.8185\n",
            "Epoch 9/25\n",
            "68/68 [==============================] - 0s 5ms/step - loss: 4.1543 - val_loss: 0.5016\n",
            "Epoch 10/25\n",
            "68/68 [==============================] - 0s 4ms/step - loss: 3.0996 - val_loss: 0.5051\n",
            "Epoch 11/25\n",
            "68/68 [==============================] - 0s 4ms/step - loss: 2.3314 - val_loss: 0.5185\n",
            "Epoch 12/25\n",
            "68/68 [==============================] - 0s 4ms/step - loss: 1.6829 - val_loss: 0.5009\n",
            "Epoch 13/25\n",
            "68/68 [==============================] - 0s 4ms/step - loss: 2.5809 - val_loss: 0.4959\n",
            "Epoch 14/25\n",
            "68/68 [==============================] - 0s 4ms/step - loss: 1.5809 - val_loss: 0.5010\n",
            "Epoch 15/25\n",
            "68/68 [==============================] - 0s 4ms/step - loss: 1.4798 - val_loss: 0.5054\n",
            "Epoch 16/25\n",
            "68/68 [==============================] - 0s 4ms/step - loss: 1.1490 - val_loss: 0.5686\n",
            "Epoch 17/25\n",
            "68/68 [==============================] - 0s 5ms/step - loss: 1.0336 - val_loss: 0.4974\n",
            "Epoch 18/25\n",
            "68/68 [==============================] - 0s 4ms/step - loss: 1.3059 - val_loss: 0.5498\n",
            "Epoch 19/25\n",
            "68/68 [==============================] - 0s 5ms/step - loss: 1.1013 - val_loss: 0.7206\n",
            "Epoch 20/25\n",
            "68/68 [==============================] - 0s 5ms/step - loss: 0.7914 - val_loss: 0.4935\n",
            "Epoch 21/25\n",
            "68/68 [==============================] - 0s 5ms/step - loss: 0.8529 - val_loss: 0.4938\n",
            "Epoch 22/25\n",
            "68/68 [==============================] - 0s 4ms/step - loss: 0.9283 - val_loss: 0.5349\n",
            "Epoch 23/25\n",
            "68/68 [==============================] - 0s 7ms/step - loss: 0.8673 - val_loss: 0.7993\n",
            "Epoch 24/25\n",
            "68/68 [==============================] - 1s 7ms/step - loss: 0.9139 - val_loss: 0.4980\n",
            "Epoch 25/25\n",
            "68/68 [==============================] - 1s 22ms/step - loss: 0.8128 - val_loss: 0.4919\n"
          ]
        },
        {
          "output_type": "execute_result",
          "data": {
            "text/plain": [
              "<keras.src.callbacks.History at 0x7e4df0a664a0>"
            ]
          },
          "metadata": {},
          "execution_count": 213
        }
      ]
    },
    {
      "cell_type": "code",
      "source": [
        "losses = pd.DataFrame(model.history.history)"
      ],
      "metadata": {
        "id": "PK-Lh3U9qrPu"
      },
      "execution_count": 215,
      "outputs": []
    },
    {
      "cell_type": "code",
      "source": [
        "losses[['loss','val_loss']].plot()"
      ],
      "metadata": {
        "id": "jIAokxtAunbA",
        "outputId": "f27b54ea-6324-4e03-f416-109a51dc034f",
        "colab": {
          "base_uri": "https://localhost:8080/",
          "height": 448
        }
      },
      "execution_count": 216,
      "outputs": [
        {
          "output_type": "execute_result",
          "data": {
            "text/plain": [
              "<Axes: >"
            ]
          },
          "metadata": {},
          "execution_count": 216
        },
        {
          "output_type": "display_data",
          "data": {
            "text/plain": [
              "<Figure size 640x480 with 1 Axes>"
            ],
            "image/png": "[encoded data removed]"
          },
          "metadata": {}
        }
      ]
    },
    {
      "cell_type": "markdown",
      "source": [
        "Save Model and predict for new customer if you give credit or not"
      ],
      "metadata": {
        "id": "rNvs5HDQvlYD"
      }
    },
    {
      "cell_type": "code",
      "source": [],
      "metadata": {
        "id": "tMBCDllrvEAm"
      },
      "execution_count": null,
      "outputs": []
    },
    {
      "cell_type": "code",
      "source": [],
      "metadata": {
        "id": "EvoF2v6uu285"
      },
      "execution_count": null,
      "outputs": []
    },
    {
      "cell_type": "code",
      "source": [],
      "metadata": {
        "id": "W24WEOlHuvjs"
      },
      "execution_count": null,
      "outputs": []
    },
    {
      "cell_type": "code",
      "source": [],
      "metadata": {
        "id": "vYoJHP9Jus3O"
      },
      "execution_count": null,
      "outputs": []
    },
    {
      "cell_type": "code",
      "source": [],
      "metadata": {
        "id": "5dooWol6upyj"
      },
      "execution_count": null,
      "outputs": []
    },
    {
      "cell_type": "code",
      "source": [],
      "metadata": {
        "id": "in8K1RBlukCz"
      },
      "execution_count": null,
      "outputs": []
    },
    {
      "cell_type": "code",
      "source": [],
      "metadata": {
        "id": "Su7s_OquqohD"
      },
      "execution_count": null,
      "outputs": []
    },
    {
      "cell_type": "code",
      "source": [],
      "metadata": {
        "id": "nWIjWqfRqdKI"
      },
      "execution_count": null,
      "outputs": []
    },
    {
      "cell_type": "code",
      "source": [],
      "metadata": {
        "id": "tTbo-0n9qD9m"
      },
      "execution_count": null,
      "outputs": []
    },
    {
      "cell_type": "code",
      "source": [],
      "metadata": {
        "id": "qtygxuvvpgEI"
      },
      "execution_count": null,
      "outputs": []
    },
    {
      "cell_type": "code",
      "source": [],
      "metadata": {
        "id": "CC7dtiN_pU3l"
      },
      "execution_count": null,
      "outputs": []
    },
    {
      "cell_type": "code",
      "source": [],
      "metadata": {
        "id": "2sTA_R5qnk65"
      },
      "execution_count": null,
      "outputs": []
    },
    {
      "cell_type": "code",
      "source": [],
      "metadata": {
        "id": "RP7mI2vQhGnP"
      },
      "execution_count": null,
      "outputs": []
    },
    {
      "cell_type": "code",
      "source": [],
      "metadata": {
        "id": "f60Lr6FKe6N-"
      },
      "execution_count": null,
      "outputs": []
    },
    {
      "cell_type": "code",
      "source": [],
      "metadata": {
        "id": "d4Ayvp70dsbD"
      },
      "execution_count": null,
      "outputs": []
    },
    {
      "cell_type": "code",
      "source": [],
      "metadata": {
        "id": "ctkJc-QIdV2G"
      },
      "execution_count": null,
      "outputs": []
    },
    {
      "cell_type": "code",
      "source": [],
      "metadata": {
        "id": "ku1yPuYEdRW6"
      },
      "execution_count": null,
      "outputs": []
    },
    {
      "cell_type": "code",
      "source": [],
      "metadata": {
        "id": "ooO-raSKdPNC"
      },
      "execution_count": null,
      "outputs": []
    },
    {
      "cell_type": "code",
      "source": [],
      "metadata": {
        "id": "isaM9_YCdJwJ"
      },
      "execution_count": null,
      "outputs": []
    },
    {
      "cell_type": "code",
      "source": [],
      "metadata": {
        "id": "M-ohDpsMdH4f"
      },
      "execution_count": null,
      "outputs": []
    },
    {
      "cell_type": "code",
      "source": [],
      "metadata": {
        "id": "miyA3ko2cxCq"
      },
      "execution_count": null,
      "outputs": []
    },
    {
      "cell_type": "code",
      "source": [
        "df.drop('')"
      ],
      "metadata": {
        "id": "qVQ8RYVhbbMS"
      },
      "execution_count": 113,
      "outputs": []
    },
    {
      "cell_type": "code",
      "source": [],
      "metadata": {
        "id": "7-2K3M3vaztt"
      },
      "execution_count": 113,
      "outputs": []
    },
    {
      "cell_type": "code",
      "source": [],
      "metadata": {
        "id": "ZlVXt9RCawfm"
      },
      "execution_count": 113,
      "outputs": []
    },
    {
      "cell_type": "code",
      "source": [],
      "metadata": {
        "id": "ytayTIvIaP7V"
      },
      "execution_count": 113,
      "outputs": []
    },
    {
      "cell_type": "code",
      "source": [],
      "metadata": {
        "id": "S_3o5IkpaJ6K"
      },
      "execution_count": 113,
      "outputs": []
    },
    {
      "cell_type": "code",
      "source": [],
      "metadata": {
        "id": "fl9sELlBaHdv"
      },
      "execution_count": 113,
      "outputs": []
    },
    {
      "cell_type": "code",
      "source": [],
      "metadata": {
        "id": "V8szfTuXZ7ch"
      },
      "execution_count": 113,
      "outputs": []
    },
    {
      "cell_type": "code",
      "source": [],
      "metadata": {
        "id": "3SGpTHOWZY9m"
      },
      "execution_count": 113,
      "outputs": []
    },
    {
      "cell_type": "code",
      "source": [],
      "metadata": {
        "id": "Bp7-clM5YTrq"
      },
      "execution_count": 113,
      "outputs": []
    },
    {
      "cell_type": "code",
      "source": [],
      "metadata": {
        "id": "frr6B9jUYR65"
      },
      "execution_count": 113,
      "outputs": []
    },
    {
      "cell_type": "code",
      "source": [],
      "metadata": {
        "id": "kysfJEH6X7t3"
      },
      "execution_count": 113,
      "outputs": []
    },
    {
      "cell_type": "code",
      "source": [],
      "metadata": {
        "id": "EYBSbsW-X6Vd"
      },
      "execution_count": 113,
      "outputs": []
    },
    {
      "cell_type": "code",
      "source": [],
      "metadata": {
        "id": "p4-3vEHcXnzk"
      },
      "execution_count": 113,
      "outputs": []
    },
    {
      "cell_type": "code",
      "source": [],
      "metadata": {
        "id": "3FtCwoSPXfQq"
      },
      "execution_count": 113,
      "outputs": []
    },
    {
      "cell_type": "code",
      "source": [],
      "metadata": {
        "id": "R-GC6Q7HXNg2"
      },
      "execution_count": 113,
      "outputs": []
    },
    {
      "cell_type": "code",
      "source": [],
      "metadata": {
        "id": "WBd1wiBtXI1n"
      },
      "execution_count": 113,
      "outputs": []
    },
    {
      "cell_type": "code",
      "source": [],
      "metadata": {
        "id": "iz5irVG-WJxh"
      },
      "execution_count": 113,
      "outputs": []
    },
    {
      "cell_type": "code",
      "source": [],
      "metadata": {
        "id": "ydgrJZWHWIUX"
      },
      "execution_count": 113,
      "outputs": []
    },
    {
      "cell_type": "code",
      "source": [],
      "metadata": {
        "id": "SzPlcWGqUYE9"
      },
      "execution_count": 113,
      "outputs": []
    },
    {
      "cell_type": "code",
      "source": [],
      "metadata": {
        "id": "32TmPw0DTNMN"
      },
      "execution_count": 113,
      "outputs": []
    },
    {
      "cell_type": "code",
      "source": [],
      "metadata": {
        "id": "n95RxuN6S6XE"
      },
      "execution_count": 113,
      "outputs": []
    },
    {
      "cell_type": "code",
      "source": [],
      "metadata": {
        "id": "xvuHPpgRwT8z"
      },
      "execution_count": 113,
      "outputs": []
    },
    {
      "cell_type": "code",
      "source": [],
      "metadata": {
        "id": "_YQu9gIuv-V5"
      },
      "execution_count": 113,
      "outputs": []
    },
    {
      "cell_type": "code",
      "source": [],
      "metadata": {
        "id": "mQ0mkwSfvvLV"
      },
      "execution_count": 113,
      "outputs": []
    },
    {
      "cell_type": "code",
      "source": [],
      "metadata": {
        "id": "pfPFrigevdOg"
      },
      "execution_count": 113,
      "outputs": []
    },
    {
      "cell_type": "code",
      "source": [],
      "metadata": {
        "id": "TLvSdqgRvYAe"
      },
      "execution_count": 113,
      "outputs": []
    },
    {
      "cell_type": "code",
      "source": [],
      "metadata": {
        "id": "enLNjUM2vTXZ"
      },
      "execution_count": 113,
      "outputs": []
    },
    {
      "cell_type": "code",
      "source": [],
      "metadata": {
        "id": "bGVultIfvPw2"
      },
      "execution_count": 113,
      "outputs": []
    },
    {
      "cell_type": "code",
      "source": [],
      "metadata": {
        "id": "NyxlhnbgvF7z"
      },
      "execution_count": 113,
      "outputs": []
    },
    {
      "cell_type": "code",
      "source": [],
      "metadata": {
        "id": "hbTtuNiCu9yK"
      },
      "execution_count": 113,
      "outputs": []
    },
    {
      "cell_type": "code",
      "source": [],
      "metadata": {
        "id": "BxI7VXN1pSY7"
      },
      "execution_count": 113,
      "outputs": []
    },
    {
      "cell_type": "code",
      "source": [],
      "metadata": {
        "id": "7XvKtwRVpLJE"
      },
      "execution_count": 113,
      "outputs": []
    },
    {
      "cell_type": "code",
      "source": [],
      "metadata": {
        "id": "EAqLFnCLpBxk"
      },
      "execution_count": 113,
      "outputs": []
    },
    {
      "cell_type": "code",
      "source": [],
      "metadata": {
        "id": "9bHqCju_o3qK"
      },
      "execution_count": 113,
      "outputs": []
    },
    {
      "cell_type": "code",
      "source": [],
      "metadata": {
        "id": "tkvAu-DXo0HE"
      },
      "execution_count": 113,
      "outputs": []
    },
    {
      "cell_type": "code",
      "source": [],
      "metadata": {
        "id": "_y9zWELam5cD"
      },
      "execution_count": 113,
      "outputs": []
    },
    {
      "cell_type": "code",
      "source": [],
      "metadata": {
        "id": "htrELmTSm04V"
      },
      "execution_count": 113,
      "outputs": []
    },
    {
      "cell_type": "code",
      "source": [],
      "metadata": {
        "id": "MCm7kOU3mm5e"
      },
      "execution_count": 113,
      "outputs": []
    },
    {
      "cell_type": "code",
      "source": [],
      "metadata": {
        "id": "eIdys7a1mgPv"
      },
      "execution_count": 113,
      "outputs": []
    },
    {
      "cell_type": "code",
      "source": [],
      "metadata": {
        "id": "Ub66960mmc4S"
      },
      "execution_count": 113,
      "outputs": []
    },
    {
      "cell_type": "code",
      "source": [],
      "metadata": {
        "id": "JPqBbDkAmYHI"
      },
      "execution_count": 113,
      "outputs": []
    },
    {
      "cell_type": "code",
      "source": [],
      "metadata": {
        "id": "TATLikIhmRod"
      },
      "execution_count": 113,
      "outputs": []
    },
    {
      "cell_type": "code",
      "source": [],
      "metadata": {
        "id": "SvaUqxHDmMVn"
      },
      "execution_count": 113,
      "outputs": []
    },
    {
      "cell_type": "code",
      "source": [],
      "metadata": {
        "id": "aahDBey3mKs2"
      },
      "execution_count": 113,
      "outputs": []
    },
    {
      "cell_type": "code",
      "source": [],
      "metadata": {
        "id": "NZawS9aul-Tu"
      },
      "execution_count": 113,
      "outputs": []
    },
    {
      "cell_type": "code",
      "source": [],
      "metadata": {
        "id": "Cn9oO1CIlxMh"
      },
      "execution_count": 113,
      "outputs": []
    },
    {
      "cell_type": "code",
      "source": [],
      "metadata": {
        "id": "Go_HaVaElnYs"
      },
      "execution_count": 113,
      "outputs": []
    },
    {
      "cell_type": "code",
      "source": [],
      "metadata": {
        "id": "qYtK2Y3AllDz"
      },
      "execution_count": 113,
      "outputs": []
    },
    {
      "cell_type": "code",
      "source": [],
      "metadata": {
        "id": "IhB5Hbd3ldfm"
      },
      "execution_count": 113,
      "outputs": []
    },
    {
      "cell_type": "code",
      "source": [],
      "metadata": {
        "id": "ZrT-zwG7lWy6"
      },
      "execution_count": 113,
      "outputs": []
    },
    {
      "cell_type": "code",
      "source": [
        "df['loan_repaid']"
      ],
      "metadata": {
        "id": "7EkSDX_jlETW",
        "outputId": "06021c39-8cf9-4cbf-cd39-f54fb83a8454",
        "colab": {
          "base_uri": "https://localhost:8080/"
        }
      },
      "execution_count": 114,
      "outputs": [
        {
          "output_type": "execute_result",
          "data": {
            "text/plain": [
              "0         0\n",
              "1         0\n",
              "2         0\n",
              "3         0\n",
              "4         1\n",
              "         ..\n",
              "216898    0\n",
              "216899    0\n",
              "216900    0\n",
              "216901    0\n",
              "216902    0\n",
              "Name: loan_repaid, Length: 216450, dtype: int64"
            ]
          },
          "metadata": {},
          "execution_count": 114
        }
      ]
    },
    {
      "cell_type": "code",
      "source": [],
      "metadata": {
        "id": "zhY-8ZxDlMgX"
      },
      "execution_count": 114,
      "outputs": []
    },
    {
      "cell_type": "code",
      "source": [],
      "metadata": {
        "id": "hwBn5-X1lATe"
      },
      "execution_count": 114,
      "outputs": []
    },
    {
      "cell_type": "code",
      "source": [
        "df.isnull().sum() / len(df) *100"
      ],
      "metadata": {
        "id": "6kwVUbdLj7Yk",
        "outputId": "f96d9138-3efc-43ba-e0f4-9f3f53adbc48",
        "colab": {
          "base_uri": "https://localhost:8080/"
        }
      },
      "execution_count": 115,
      "outputs": [
        {
          "output_type": "execute_result",
          "data": {
            "text/plain": [
              "loan_amnt               0.0\n",
              "term                    0.0\n",
              "int_rate                0.0\n",
              "installment             0.0\n",
              "home_ownership          0.0\n",
              "annual_inc              0.0\n",
              "verification_status     0.0\n",
              "issue_d                 0.0\n",
              "loan_status             0.0\n",
              "purpose                 0.0\n",
              "dti                     0.0\n",
              "earliest_cr_line        0.0\n",
              "open_acc                0.0\n",
              "pub_rec                 0.0\n",
              "revol_bal               0.0\n",
              "revol_util              0.0\n",
              "total_acc               0.0\n",
              "initial_list_status     0.0\n",
              "application_type        0.0\n",
              "mort_acc                0.0\n",
              "pub_rec_bankruptcies    0.0\n",
              "address                 0.0\n",
              "loan_repaid             0.0\n",
              "A2                      0.0\n",
              "A3                      0.0\n",
              "A4                      0.0\n",
              "A5                      0.0\n",
              "B1                      0.0\n",
              "B2                      0.0\n",
              "B3                      0.0\n",
              "B4                      0.0\n",
              "B5                      0.0\n",
              "C1                      0.0\n",
              "C2                      0.0\n",
              "C3                      0.0\n",
              "C4                      0.0\n",
              "C5                      0.0\n",
              "D1                      0.0\n",
              "D2                      0.0\n",
              "D3                      0.0\n",
              "D4                      0.0\n",
              "D5                      0.0\n",
              "E1                      0.0\n",
              "E2                      0.0\n",
              "E3                      0.0\n",
              "E4                      0.0\n",
              "E5                      0.0\n",
              "F1                      0.0\n",
              "F2                      0.0\n",
              "F3                      0.0\n",
              "F4                      0.0\n",
              "F5                      0.0\n",
              "G1                      0.0\n",
              "G2                      0.0\n",
              "G3                      0.0\n",
              "G4                      0.0\n",
              "G5                      0.0\n",
              "dtype: float64"
            ]
          },
          "metadata": {},
          "execution_count": 115
        }
      ]
    },
    {
      "cell_type": "code",
      "source": [
        "'10+ years'[:3]\n"
      ],
      "metadata": {
        "id": "3T6yhk28QSyz"
      },
      "execution_count": null,
      "outputs": []
    },
    {
      "cell_type": "code",
      "source": [
        "'1 year'[:3]"
      ],
      "metadata": {
        "id": "XWLsIQI0ifn4"
      },
      "execution_count": null,
      "outputs": []
    },
    {
      "cell_type": "code",
      "source": [],
      "metadata": {
        "id": "cLz93ERiip5L"
      },
      "execution_count": null,
      "outputs": []
    },
    {
      "cell_type": "code",
      "source": [],
      "metadata": {
        "id": "G1UnIDFMieJj"
      },
      "execution_count": null,
      "outputs": []
    },
    {
      "cell_type": "code",
      "source": [],
      "metadata": {
        "id": "abREAXiKiTq_"
      },
      "execution_count": null,
      "outputs": []
    },
    {
      "cell_type": "code",
      "source": [],
      "metadata": {
        "id": "XVokTaoRiMYX"
      },
      "execution_count": null,
      "outputs": []
    },
    {
      "cell_type": "code",
      "source": [],
      "metadata": {
        "id": "NjneRGMXiJsM"
      },
      "execution_count": null,
      "outputs": []
    },
    {
      "cell_type": "code",
      "source": [],
      "metadata": {
        "id": "uDC1jKPcQQFP"
      },
      "execution_count": null,
      "outputs": []
    },
    {
      "cell_type": "code",
      "source": [],
      "metadata": {
        "id": "j3YFbE6eQNpk"
      },
      "execution_count": null,
      "outputs": []
    },
    {
      "cell_type": "code",
      "source": [],
      "metadata": {
        "id": "YlJm4JbRr81r"
      },
      "execution_count": null,
      "outputs": []
    },
    {
      "cell_type": "code",
      "source": [],
      "metadata": {
        "id": "H2j08pGorxqK"
      },
      "execution_count": null,
      "outputs": []
    },
    {
      "cell_type": "code",
      "source": [],
      "metadata": {
        "id": "nPDKTZH-rvM3"
      },
      "execution_count": null,
      "outputs": []
    },
    {
      "cell_type": "code",
      "source": [],
      "metadata": {
        "id": "-BW9LmdArsv-"
      },
      "execution_count": null,
      "outputs": []
    },
    {
      "cell_type": "code",
      "source": [],
      "metadata": {
        "id": "Vc4o7wgDrl7h"
      },
      "execution_count": null,
      "outputs": []
    },
    {
      "cell_type": "code",
      "source": [],
      "metadata": {
        "id": "Vo7TqoKhrkCv"
      },
      "execution_count": null,
      "outputs": []
    },
    {
      "cell_type": "code",
      "source": [],
      "metadata": {
        "id": "Cbqw53J6qDZH"
      },
      "execution_count": null,
      "outputs": []
    },
    {
      "cell_type": "code",
      "source": [],
      "metadata": {
        "id": "blL66C64jtqC"
      },
      "execution_count": null,
      "outputs": []
    },
    {
      "cell_type": "code",
      "source": [],
      "metadata": {
        "id": "-xSrsQ7kjI8o"
      },
      "execution_count": null,
      "outputs": []
    },
    {
      "cell_type": "code",
      "source": [],
      "metadata": {
        "id": "aYAhDFS0dCkK"
      },
      "execution_count": null,
      "outputs": []
    },
    {
      "cell_type": "code",
      "source": [],
      "metadata": {
        "id": "r-MKRDkpc7mw"
      },
      "execution_count": null,
      "outputs": []
    },
    {
      "cell_type": "code",
      "source": [],
      "metadata": {
        "id": "PxI8cHvWc2-F"
      },
      "execution_count": null,
      "outputs": []
    },
    {
      "cell_type": "code",
      "source": [],
      "metadata": {
        "id": "xuUJ_oU6czOa"
      },
      "execution_count": null,
      "outputs": []
    },
    {
      "cell_type": "code",
      "source": [],
      "metadata": {
        "id": "uLstxMr4cuGg"
      },
      "execution_count": null,
      "outputs": []
    },
    {
      "cell_type": "code",
      "source": [],
      "metadata": {
        "id": "NkiGVQ-GcfTk"
      },
      "execution_count": null,
      "outputs": []
    },
    {
      "cell_type": "code",
      "source": [],
      "metadata": {
        "id": "30OfcnkGcdZG"
      },
      "execution_count": null,
      "outputs": []
    },
    {
      "cell_type": "code",
      "source": [],
      "metadata": {
        "id": "ICkHyEyscJbz"
      },
      "execution_count": null,
      "outputs": []
    },
    {
      "cell_type": "code",
      "source": [],
      "metadata": {
        "id": "dna9hrMOb_hM"
      },
      "execution_count": null,
      "outputs": []
    },
    {
      "cell_type": "code",
      "source": [],
      "metadata": {
        "id": "l1diF62Ib5jB"
      },
      "execution_count": null,
      "outputs": []
    },
    {
      "cell_type": "code",
      "source": [],
      "metadata": {
        "id": "TNWhtvE9baqc"
      },
      "execution_count": null,
      "outputs": []
    },
    {
      "cell_type": "code",
      "source": [],
      "metadata": {
        "id": "-ULiYpN2azHv"
      },
      "execution_count": null,
      "outputs": []
    },
    {
      "cell_type": "code",
      "source": [],
      "metadata": {
        "id": "dLKoamh9axx5"
      },
      "execution_count": null,
      "outputs": []
    },
    {
      "cell_type": "code",
      "source": [],
      "metadata": {
        "id": "2y7z-ub7alZ-"
      },
      "execution_count": null,
      "outputs": []
    },
    {
      "cell_type": "code",
      "source": [],
      "metadata": {
        "id": "RbYJJ7mXag1W"
      },
      "execution_count": null,
      "outputs": []
    },
    {
      "cell_type": "code",
      "source": [],
      "metadata": {
        "id": "D2VNsrKVaczM"
      },
      "execution_count": null,
      "outputs": []
    },
    {
      "cell_type": "code",
      "source": [],
      "metadata": {
        "id": "5jOH8gYMaWXO"
      },
      "execution_count": null,
      "outputs": []
    },
    {
      "cell_type": "code",
      "source": [],
      "metadata": {
        "id": "ea74kjOlaU-Q"
      },
      "execution_count": null,
      "outputs": []
    },
    {
      "cell_type": "code",
      "source": [],
      "metadata": {
        "id": "rOX9qWitaS5A"
      },
      "execution_count": null,
      "outputs": []
    },
    {
      "cell_type": "code",
      "source": [],
      "metadata": {
        "id": "LpDvyZooaAv8"
      },
      "execution_count": null,
      "outputs": []
    },
    {
      "cell_type": "code",
      "source": [],
      "metadata": {
        "id": "EpucdD59Z6fE"
      },
      "execution_count": null,
      "outputs": []
    },
    {
      "cell_type": "code",
      "source": [],
      "metadata": {
        "id": "BvTyOtuAZ14Z"
      },
      "execution_count": null,
      "outputs": []
    },
    {
      "cell_type": "code",
      "source": [],
      "metadata": {
        "id": "FPpTBegkZdSn"
      },
      "execution_count": null,
      "outputs": []
    },
    {
      "cell_type": "code",
      "source": [],
      "metadata": {
        "id": "a3TBu5k4ZECw"
      },
      "execution_count": null,
      "outputs": []
    },
    {
      "cell_type": "code",
      "source": [],
      "metadata": {
        "id": "DEFxrgXSX6_I"
      },
      "execution_count": null,
      "outputs": []
    },
    {
      "cell_type": "code",
      "source": [],
      "metadata": {
        "id": "xnlH8k7kX0qN"
      },
      "execution_count": null,
      "outputs": []
    },
    {
      "cell_type": "code",
      "source": [],
      "metadata": {
        "id": "RPfYurlqXrZT"
      },
      "execution_count": null,
      "outputs": []
    },
    {
      "cell_type": "code",
      "source": [],
      "metadata": {
        "id": "TH8hBr4vXo5N"
      },
      "execution_count": null,
      "outputs": []
    },
    {
      "cell_type": "code",
      "source": [],
      "metadata": {
        "id": "IA3_TvWMXeCt"
      },
      "execution_count": null,
      "outputs": []
    },
    {
      "cell_type": "code",
      "source": [],
      "metadata": {
        "id": "_Hz0qDXfW-kL"
      },
      "execution_count": null,
      "outputs": []
    },
    {
      "cell_type": "code",
      "source": [],
      "metadata": {
        "id": "LorB_pLjWgzg"
      },
      "execution_count": null,
      "outputs": []
    },
    {
      "cell_type": "code",
      "source": [],
      "metadata": {
        "id": "BEoOyEQ7WYxj"
      },
      "execution_count": null,
      "outputs": []
    },
    {
      "cell_type": "code",
      "source": [],
      "metadata": {
        "id": "EnCS9EzEWVi4"
      },
      "execution_count": null,
      "outputs": []
    },
    {
      "cell_type": "code",
      "source": [],
      "metadata": {
        "id": "p67S76ZmWSar"
      },
      "execution_count": null,
      "outputs": []
    },
    {
      "cell_type": "code",
      "source": [],
      "metadata": {
        "id": "ka-GPctTWPdL"
      },
      "execution_count": null,
      "outputs": []
    },
    {
      "cell_type": "code",
      "source": [],
      "metadata": {
        "id": "oXwsBDuGWJER"
      },
      "execution_count": null,
      "outputs": []
    },
    {
      "cell_type": "code",
      "source": [],
      "metadata": {
        "id": "dCGBD-c3WHDb"
      },
      "execution_count": null,
      "outputs": []
    },
    {
      "cell_type": "code",
      "source": [],
      "metadata": {
        "id": "n1vUpuahVxsy"
      },
      "execution_count": null,
      "outputs": []
    },
    {
      "cell_type": "code",
      "source": [],
      "metadata": {
        "id": "IjmtzXbDVwFH"
      },
      "execution_count": null,
      "outputs": []
    },
    {
      "cell_type": "code",
      "source": [],
      "metadata": {
        "id": "WsvqDAKCVuxI"
      },
      "execution_count": null,
      "outputs": []
    },
    {
      "cell_type": "code",
      "source": [
        "data_info.columns"
      ],
      "metadata": {
        "id": "AAptk0o6VhyN"
      },
      "execution_count": null,
      "outputs": []
    },
    {
      "cell_type": "code",
      "source": [],
      "metadata": {
        "id": "EUNI2NDlVlZt"
      },
      "execution_count": null,
      "outputs": []
    },
    {
      "cell_type": "code",
      "source": [],
      "metadata": {
        "id": "dVtDPsiGVg6U"
      },
      "execution_count": null,
      "outputs": []
    },
    {
      "cell_type": "code",
      "source": [],
      "metadata": {
        "id": "vbYhD32BVc8u"
      },
      "execution_count": null,
      "outputs": []
    },
    {
      "cell_type": "code",
      "source": [],
      "metadata": {
        "id": "yNNOZ_aUVXWx"
      },
      "execution_count": null,
      "outputs": []
    },
    {
      "cell_type": "code",
      "source": [],
      "metadata": {
        "id": "ywvEb4EDVRRp"
      },
      "execution_count": null,
      "outputs": []
    },
    {
      "cell_type": "code",
      "source": [],
      "metadata": {
        "id": "ytFFchCkVKoB"
      },
      "execution_count": null,
      "outputs": []
    },
    {
      "cell_type": "code",
      "source": [],
      "metadata": {
        "id": "M25WCqwQVIe4"
      },
      "execution_count": null,
      "outputs": []
    },
    {
      "cell_type": "code",
      "source": [],
      "metadata": {
        "id": "nNb6sQ5dVBtJ"
      },
      "execution_count": null,
      "outputs": []
    },
    {
      "cell_type": "code",
      "source": [],
      "metadata": {
        "id": "gPhtyXssUpgK"
      },
      "execution_count": null,
      "outputs": []
    },
    {
      "cell_type": "code",
      "source": [],
      "metadata": {
        "id": "3OuqpKYJUoDF"
      },
      "execution_count": null,
      "outputs": []
    },
    {
      "cell_type": "code",
      "source": [],
      "metadata": {
        "id": "b6wYZVEDUlxb"
      },
      "execution_count": null,
      "outputs": []
    },
    {
      "cell_type": "code",
      "source": [],
      "metadata": {
        "id": "xHmu08l5UibP"
      },
      "execution_count": null,
      "outputs": []
    }
  ]
}