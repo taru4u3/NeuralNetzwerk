{
  "nbformat": 4,
  "nbformat_minor": 0,
  "metadata": {
    "colab": {
      "provenance": [],
      "authorship_tag": "ABX9TyNANOM/DsBkvP5exTH2Uzb8",
      "include_colab_link": true
    },
    "kernelspec": {
      "name": "python3",
      "display_name": "Python 3"
    },
    "language_info": {
      "name": "python"
    },
    "accelerator": "TPU"
  },
  "cells": [
    {
      "cell_type": "markdown",
      "metadata": {
        "id": "view-in-github",
        "colab_type": "text"
      },
      "source": [
        "<a href=\"https://colab.research.google.com/github/taru4u3/NeuralNetzwerk/blob/main/check_credit_staus_fullypaid_chargedoff_real_praxis_feature_engineering_heavy_NN.ipynb\" target=\"_parent\"><img src=\"https://colab.research.google.com/assets/colab-badge.svg\" alt=\"Open In Colab\"/></a>"
      ]
    },
    {
      "cell_type": "code",
      "execution_count": 87,
      "metadata": {
        "id": "URl98M9MTaAK"
      },
      "outputs": [],
      "source": [
        "import pandas as pd\n",
        "import numpy as np\n",
        "import seaborn as sns\n",
        "import matplotlib.pyplot as plt\n",
        "%matplotlib inline"
      ]
    },
    {
      "cell_type": "markdown",
      "source": [
        "Download first csv which contains column names with description"
      ],
      "metadata": {
        "id": "IYQtQZO9YkWS"
      }
    },
    {
      "cell_type": "code",
      "source": [
        "data_info = pd.read_csv('./lending_club_info.csv',index_col='LoanStatNew')\n",
        "#index_col : int or sequence, default 0\n",
        "#defines which Column to use for index."
      ],
      "metadata": {
        "id": "iTybsSJBUsay"
      },
      "execution_count": 88,
      "outputs": []
    },
    {
      "cell_type": "code",
      "source": [
        "data_info.head()"
      ],
      "metadata": {
        "colab": {
          "base_uri": "https://localhost:8080/",
          "height": 238
        },
        "id": "pkTnyHU9Uz0W",
        "outputId": "44d21c11-91bd-4f02-95d6-fdf9b9fc78fe"
      },
      "execution_count": 89,
      "outputs": [
        {
          "output_type": "execute_result",
          "data": {
            "text/plain": [
              "                                                   Description\n",
              "LoanStatNew                                                   \n",
              "loan_amnt    The listed amount of the loan applied for by t...\n",
              "term         The number of payments on the loan. Values are...\n",
              "int_rate                             Interest Rate on the loan\n",
              "installment  The monthly payment owed by the borrower if th...\n",
              "grade                                   LC assigned loan grade"
            ],
            "text/html": [
              "\n",
              "  <div id=\"df-c9eb8852-91bf-4961-bb93-1c752623f5f8\" class=\"colab-df-container\">\n",
              "    <div>\n",
              "<style scoped>\n",
              "    .dataframe tbody tr th:only-of-type {\n",
              "        vertical-align: middle;\n",
              "    }\n",
              "\n",
              "    .dataframe tbody tr th {\n",
              "        vertical-align: top;\n",
              "    }\n",
              "\n",
              "    .dataframe thead th {\n",
              "        text-align: right;\n",
              "    }\n",
              "</style>\n",
              "<table border=\"1\" class=\"dataframe\">\n",
              "  <thead>\n",
              "    <tr style=\"text-align: right;\">\n",
              "      <th></th>\n",
              "      <th>Description</th>\n",
              "    </tr>\n",
              "    <tr>\n",
              "      <th>LoanStatNew</th>\n",
              "      <th></th>\n",
              "    </tr>\n",
              "  </thead>\n",
              "  <tbody>\n",
              "    <tr>\n",
              "      <th>loan_amnt</th>\n",
              "      <td>The listed amount of the loan applied for by t...</td>\n",
              "    </tr>\n",
              "    <tr>\n",
              "      <th>term</th>\n",
              "      <td>The number of payments on the loan. Values are...</td>\n",
              "    </tr>\n",
              "    <tr>\n",
              "      <th>int_rate</th>\n",
              "      <td>Interest Rate on the loan</td>\n",
              "    </tr>\n",
              "    <tr>\n",
              "      <th>installment</th>\n",
              "      <td>The monthly payment owed by the borrower if th...</td>\n",
              "    </tr>\n",
              "    <tr>\n",
              "      <th>grade</th>\n",
              "      <td>LC assigned loan grade</td>\n",
              "    </tr>\n",
              "  </tbody>\n",
              "</table>\n",
              "</div>\n",
              "    <div class=\"colab-df-buttons\">\n",
              "\n",
              "  <div class=\"colab-df-container\">\n",
              "    <button class=\"colab-df-convert\" onclick=\"convertToInteractive('df-c9eb8852-91bf-4961-bb93-1c752623f5f8')\"\n",
              "            title=\"Convert this dataframe to an interactive table.\"\n",
              "            style=\"display:none;\">\n",
              "\n",
              "  <svg xmlns=\"http://www.w3.org/2000/svg\" height=\"24px\" viewBox=\"0 -960 960 960\">\n",
              "    <path d=\"M120-120v-720h720v720H120Zm60-500h600v-160H180v160Zm220 220h160v-160H400v160Zm0 220h160v-160H400v160ZM180-400h160v-160H180v160Zm440 0h160v-160H620v160ZM180-180h160v-160H180v160Zm440 0h160v-160H620v160Z\"/>\n",
              "  </svg>\n",
              "    </button>\n",
              "\n",
              "  <style>\n",
              "    .colab-df-container {\n",
              "      display:flex;\n",
              "      gap: 12px;\n",
              "    }\n",
              "\n",
              "    .colab-df-convert {\n",
              "      background-color: #E8F0FE;\n",
              "      border: none;\n",
              "      border-radius: 50%;\n",
              "      cursor: pointer;\n",
              "      display: none;\n",
              "      fill: #1967D2;\n",
              "      height: 32px;\n",
              "      padding: 0 0 0 0;\n",
              "      width: 32px;\n",
              "    }\n",
              "\n",
              "    .colab-df-convert:hover {\n",
              "      background-color: #E2EBFA;\n",
              "      box-shadow: 0px 1px 2px rgba(60, 64, 67, 0.3), 0px 1px 3px 1px rgba(60, 64, 67, 0.15);\n",
              "      fill: #174EA6;\n",
              "    }\n",
              "\n",
              "    .colab-df-buttons div {\n",
              "      margin-bottom: 4px;\n",
              "    }\n",
              "\n",
              "    [theme=dark] .colab-df-convert {\n",
              "      background-color: #3B4455;\n",
              "      fill: #D2E3FC;\n",
              "    }\n",
              "\n",
              "    [theme=dark] .colab-df-convert:hover {\n",
              "      background-color: #434B5C;\n",
              "      box-shadow: 0px 1px 3px 1px rgba(0, 0, 0, 0.15);\n",
              "      filter: drop-shadow(0px 1px 2px rgba(0, 0, 0, 0.3));\n",
              "      fill: #FFFFFF;\n",
              "    }\n",
              "  </style>\n",
              "\n",
              "    <script>\n",
              "      const buttonEl =\n",
              "        document.querySelector('#df-c9eb8852-91bf-4961-bb93-1c752623f5f8 button.colab-df-convert');\n",
              "      buttonEl.style.display =\n",
              "        google.colab.kernel.accessAllowed ? 'block' : 'none';\n",
              "\n",
              "      async function convertToInteractive(key) {\n",
              "        const element = document.querySelector('#df-c9eb8852-91bf-4961-bb93-1c752623f5f8');\n",
              "        const dataTable =\n",
              "          await google.colab.kernel.invokeFunction('convertToInteractive',\n",
              "                                                    [key], {});\n",
              "        if (!dataTable) return;\n",
              "\n",
              "        const docLinkHtml = 'Like what you see? Visit the ' +\n",
              "          '<a target=\"_blank\" href=https://colab.research.google.com/notebooks/data_table.ipynb>data table notebook</a>'\n",
              "          + ' to learn more about interactive tables.';\n",
              "        element.innerHTML = '';\n",
              "        dataTable['output_type'] = 'display_data';\n",
              "        await google.colab.output.renderOutput(dataTable, element);\n",
              "        const docLink = document.createElement('div');\n",
              "        docLink.innerHTML = docLinkHtml;\n",
              "        element.appendChild(docLink);\n",
              "      }\n",
              "    </script>\n",
              "  </div>\n",
              "\n",
              "\n",
              "<div id=\"df-176616e9-a8eb-4f14-b724-695373134e84\">\n",
              "  <button class=\"colab-df-quickchart\" onclick=\"quickchart('df-176616e9-a8eb-4f14-b724-695373134e84')\"\n",
              "            title=\"Suggest charts\"\n",
              "            style=\"display:none;\">\n",
              "\n",
              "<svg xmlns=\"http://www.w3.org/2000/svg\" height=\"24px\"viewBox=\"0 0 24 24\"\n",
              "     width=\"24px\">\n",
              "    <g>\n",
              "        <path d=\"M19 3H5c-1.1 0-2 .9-2 2v14c0 1.1.9 2 2 2h14c1.1 0 2-.9 2-2V5c0-1.1-.9-2-2-2zM9 17H7v-7h2v7zm4 0h-2V7h2v10zm4 0h-2v-4h2v4z\"/>\n",
              "    </g>\n",
              "</svg>\n",
              "  </button>\n",
              "\n",
              "<style>\n",
              "  .colab-df-quickchart {\n",
              "      --bg-color: #E8F0FE;\n",
              "      --fill-color: #1967D2;\n",
              "      --hover-bg-color: #E2EBFA;\n",
              "      --hover-fill-color: #174EA6;\n",
              "      --disabled-fill-color: #AAA;\n",
              "      --disabled-bg-color: #DDD;\n",
              "  }\n",
              "\n",
              "  [theme=dark] .colab-df-quickchart {\n",
              "      --bg-color: #3B4455;\n",
              "      --fill-color: #D2E3FC;\n",
              "      --hover-bg-color: #434B5C;\n",
              "      --hover-fill-color: #FFFFFF;\n",
              "      --disabled-bg-color: #3B4455;\n",
              "      --disabled-fill-color: #666;\n",
              "  }\n",
              "\n",
              "  .colab-df-quickchart {\n",
              "    background-color: var(--bg-color);\n",
              "    border: none;\n",
              "    border-radius: 50%;\n",
              "    cursor: pointer;\n",
              "    display: none;\n",
              "    fill: var(--fill-color);\n",
              "    height: 32px;\n",
              "    padding: 0;\n",
              "    width: 32px;\n",
              "  }\n",
              "\n",
              "  .colab-df-quickchart:hover {\n",
              "    background-color: var(--hover-bg-color);\n",
              "    box-shadow: 0 1px 2px rgba(60, 64, 67, 0.3), 0 1px 3px 1px rgba(60, 64, 67, 0.15);\n",
              "    fill: var(--button-hover-fill-color);\n",
              "  }\n",
              "\n",
              "  .colab-df-quickchart-complete:disabled,\n",
              "  .colab-df-quickchart-complete:disabled:hover {\n",
              "    background-color: var(--disabled-bg-color);\n",
              "    fill: var(--disabled-fill-color);\n",
              "    box-shadow: none;\n",
              "  }\n",
              "\n",
              "  .colab-df-spinner {\n",
              "    border: 2px solid var(--fill-color);\n",
              "    border-color: transparent;\n",
              "    border-bottom-color: var(--fill-color);\n",
              "    animation:\n",
              "      spin 1s steps(1) infinite;\n",
              "  }\n",
              "\n",
              "  @keyframes spin {\n",
              "    0% {\n",
              "      border-color: transparent;\n",
              "      border-bottom-color: var(--fill-color);\n",
              "      border-left-color: var(--fill-color);\n",
              "    }\n",
              "    20% {\n",
              "      border-color: transparent;\n",
              "      border-left-color: var(--fill-color);\n",
              "      border-top-color: var(--fill-color);\n",
              "    }\n",
              "    30% {\n",
              "      border-color: transparent;\n",
              "      border-left-color: var(--fill-color);\n",
              "      border-top-color: var(--fill-color);\n",
              "      border-right-color: var(--fill-color);\n",
              "    }\n",
              "    40% {\n",
              "      border-color: transparent;\n",
              "      border-right-color: var(--fill-color);\n",
              "      border-top-color: var(--fill-color);\n",
              "    }\n",
              "    60% {\n",
              "      border-color: transparent;\n",
              "      border-right-color: var(--fill-color);\n",
              "    }\n",
              "    80% {\n",
              "      border-color: transparent;\n",
              "      border-right-color: var(--fill-color);\n",
              "      border-bottom-color: var(--fill-color);\n",
              "    }\n",
              "    90% {\n",
              "      border-color: transparent;\n",
              "      border-bottom-color: var(--fill-color);\n",
              "    }\n",
              "  }\n",
              "</style>\n",
              "\n",
              "  <script>\n",
              "    async function quickchart(key) {\n",
              "      const quickchartButtonEl =\n",
              "        document.querySelector('#' + key + ' button');\n",
              "      quickchartButtonEl.disabled = true;  // To prevent multiple clicks.\n",
              "      quickchartButtonEl.classList.add('colab-df-spinner');\n",
              "      try {\n",
              "        const charts = await google.colab.kernel.invokeFunction(\n",
              "            'suggestCharts', [key], {});\n",
              "      } catch (error) {\n",
              "        console.error('Error during call to suggestCharts:', error);\n",
              "      }\n",
              "      quickchartButtonEl.classList.remove('colab-df-spinner');\n",
              "      quickchartButtonEl.classList.add('colab-df-quickchart-complete');\n",
              "    }\n",
              "    (() => {\n",
              "      let quickchartButtonEl =\n",
              "        document.querySelector('#df-176616e9-a8eb-4f14-b724-695373134e84 button');\n",
              "      quickchartButtonEl.style.display =\n",
              "        google.colab.kernel.accessAllowed ? 'block' : 'none';\n",
              "    })();\n",
              "  </script>\n",
              "</div>\n",
              "    </div>\n",
              "  </div>\n"
            ],
            "application/vnd.google.colaboratory.intrinsic+json": {
              "type": "dataframe",
              "variable_name": "data_info",
              "summary": "{\n  \"name\": \"data_info\",\n  \"rows\": 28,\n  \"fields\": [\n    {\n      \"column\": \"Description\",\n      \"properties\": {\n        \"dtype\": \"string\",\n        \"samples\": [\n          \"The self-reported annual income provided by the borrower during registration.\",\n          \"Indicates whether the loan is an individual application or a joint application with two co-borrowers\",\n          \"The home ownership status provided by the borrower during registration\\u00a0or obtained from the credit report.\\u00a0Our values are: RENT, OWN, MORTGAGE, OTHER\"\n        ],\n        \"num_unique_values\": 28,\n        \"semantic_type\": \"\",\n        \"description\": \"\"\n      }\n    }\n  ]\n}"
            }
          },
          "metadata": {},
          "execution_count": 89
        }
      ]
    },
    {
      "cell_type": "code",
      "source": [
        "print(data_info.loc['term']['Description'])"
      ],
      "metadata": {
        "colab": {
          "base_uri": "https://localhost:8080/"
        },
        "id": "5BZXRms5U162",
        "outputId": "468d7661-2cb6-4455-827b-f0f43d244876"
      },
      "execution_count": 90,
      "outputs": [
        {
          "output_type": "stream",
          "name": "stdout",
          "text": [
            "The number of payments on the loan. Values are in months and can be either 36 or 60.\n"
          ]
        }
      ]
    },
    {
      "cell_type": "markdown",
      "source": [
        "Define a function, that is handy to read description of any column"
      ],
      "metadata": {
        "id": "5sMOYy0eYsIb"
      }
    },
    {
      "cell_type": "code",
      "source": [
        "def feature_info(col_name):\n",
        "  print(data_info.loc[col_name]['Description'])"
      ],
      "metadata": {
        "id": "pZAWFFjbXfVE"
      },
      "execution_count": 91,
      "outputs": []
    },
    {
      "cell_type": "code",
      "source": [
        "feature_info('grade')"
      ],
      "metadata": {
        "colab": {
          "base_uri": "https://localhost:8080/"
        },
        "id": "xYGlldx3Xvnl",
        "outputId": "fe2d89c7-4cc2-44bf-910f-c5b53c0121e8"
      },
      "execution_count": 92,
      "outputs": [
        {
          "output_type": "stream",
          "name": "stdout",
          "text": [
            "LC assigned loan grade\n"
          ]
        }
      ]
    },
    {
      "cell_type": "markdown",
      "source": [
        "Download second csv containing the column data"
      ],
      "metadata": {
        "id": "fd4EZ1RRYzup"
      }
    },
    {
      "cell_type": "code",
      "source": [
        "df = pd.read_csv('./lending_club_loan_two.csv')"
      ],
      "metadata": {
        "id": "CuBY8TwRX8sE"
      },
      "execution_count": 93,
      "outputs": []
    },
    {
      "cell_type": "code",
      "source": [
        "df.head(5)"
      ],
      "metadata": {
        "colab": {
          "base_uri": "https://localhost:8080/",
          "height": 429
        },
        "id": "X2G3xEpnYGzz",
        "outputId": "517497f5-d28f-4489-99ed-dcca25a3d806"
      },
      "execution_count": 94,
      "outputs": [
        {
          "output_type": "execute_result",
          "data": {
            "text/plain": [
              "   loan_amnt        term  int_rate  installment grade sub_grade  \\\n",
              "0    10000.0   36 months     11.44       329.48     B        B4   \n",
              "1     8000.0   36 months     11.99       265.68     B        B5   \n",
              "2    15600.0   36 months     10.49       506.97     B        B3   \n",
              "3     7200.0   36 months      6.49       220.65     A        A2   \n",
              "4    24375.0   60 months     17.27       609.33     C        C5   \n",
              "\n",
              "                 emp_title emp_length home_ownership  annual_inc  ...  \\\n",
              "0                Marketing  10+ years           RENT    117000.0  ...   \n",
              "1          Credit analyst     4 years       MORTGAGE     65000.0  ...   \n",
              "2             Statistician   < 1 year           RENT     43057.0  ...   \n",
              "3          Client Advocate    6 years           RENT     54000.0  ...   \n",
              "4  Destiny Management Inc.    9 years       MORTGAGE     55000.0  ...   \n",
              "\n",
              "  open_acc pub_rec revol_bal revol_util total_acc  initial_list_status  \\\n",
              "0     16.0     0.0   36369.0       41.8      25.0                    w   \n",
              "1     17.0     0.0   20131.0       53.3      27.0                    f   \n",
              "2     13.0     0.0   11987.0       92.2      26.0                    f   \n",
              "3      6.0     0.0    5472.0       21.5      13.0                    f   \n",
              "4     13.0     0.0   24584.0       69.8      43.0                    f   \n",
              "\n",
              "  application_type  mort_acc  pub_rec_bankruptcies  \\\n",
              "0       INDIVIDUAL       0.0                   0.0   \n",
              "1       INDIVIDUAL       3.0                   0.0   \n",
              "2       INDIVIDUAL       0.0                   0.0   \n",
              "3       INDIVIDUAL       0.0                   0.0   \n",
              "4       INDIVIDUAL       1.0                   0.0   \n",
              "\n",
              "                                           address  \n",
              "0     0174 Michelle Gateway\\nMendozaberg, OK 22690  \n",
              "1  1076 Carney Fort Apt. 347\\nLoganmouth, SD 05113  \n",
              "2  87025 Mark Dale Apt. 269\\nNew Sabrina, WV 05113  \n",
              "3            823 Reid Ford\\nDelacruzside, MA 00813  \n",
              "4             679 Luna Roads\\nGreggshire, VA 11650  \n",
              "\n",
              "[5 rows x 27 columns]"
            ],
            "text/html": [
              "\n",
              "  <div id=\"df-97d6985b-ca83-49e0-8de7-67ba1dcd092d\" class=\"colab-df-container\">\n",
              "    <div>\n",
              "<style scoped>\n",
              "    .dataframe tbody tr th:only-of-type {\n",
              "        vertical-align: middle;\n",
              "    }\n",
              "\n",
              "    .dataframe tbody tr th {\n",
              "        vertical-align: top;\n",
              "    }\n",
              "\n",
              "    .dataframe thead th {\n",
              "        text-align: right;\n",
              "    }\n",
              "</style>\n",
              "<table border=\"1\" class=\"dataframe\">\n",
              "  <thead>\n",
              "    <tr style=\"text-align: right;\">\n",
              "      <th></th>\n",
              "      <th>loan_amnt</th>\n",
              "      <th>term</th>\n",
              "      <th>int_rate</th>\n",
              "      <th>installment</th>\n",
              "      <th>grade</th>\n",
              "      <th>sub_grade</th>\n",
              "      <th>emp_title</th>\n",
              "      <th>emp_length</th>\n",
              "      <th>home_ownership</th>\n",
              "      <th>annual_inc</th>\n",
              "      <th>...</th>\n",
              "      <th>open_acc</th>\n",
              "      <th>pub_rec</th>\n",
              "      <th>revol_bal</th>\n",
              "      <th>revol_util</th>\n",
              "      <th>total_acc</th>\n",
              "      <th>initial_list_status</th>\n",
              "      <th>application_type</th>\n",
              "      <th>mort_acc</th>\n",
              "      <th>pub_rec_bankruptcies</th>\n",
              "      <th>address</th>\n",
              "    </tr>\n",
              "  </thead>\n",
              "  <tbody>\n",
              "    <tr>\n",
              "      <th>0</th>\n",
              "      <td>10000.0</td>\n",
              "      <td>36 months</td>\n",
              "      <td>11.44</td>\n",
              "      <td>329.48</td>\n",
              "      <td>B</td>\n",
              "      <td>B4</td>\n",
              "      <td>Marketing</td>\n",
              "      <td>10+ years</td>\n",
              "      <td>RENT</td>\n",
              "      <td>117000.0</td>\n",
              "      <td>...</td>\n",
              "      <td>16.0</td>\n",
              "      <td>0.0</td>\n",
              "      <td>36369.0</td>\n",
              "      <td>41.8</td>\n",
              "      <td>25.0</td>\n",
              "      <td>w</td>\n",
              "      <td>INDIVIDUAL</td>\n",
              "      <td>0.0</td>\n",
              "      <td>0.0</td>\n",
              "      <td>0174 Michelle Gateway\\nMendozaberg, OK 22690</td>\n",
              "    </tr>\n",
              "    <tr>\n",
              "      <th>1</th>\n",
              "      <td>8000.0</td>\n",
              "      <td>36 months</td>\n",
              "      <td>11.99</td>\n",
              "      <td>265.68</td>\n",
              "      <td>B</td>\n",
              "      <td>B5</td>\n",
              "      <td>Credit analyst</td>\n",
              "      <td>4 years</td>\n",
              "      <td>MORTGAGE</td>\n",
              "      <td>65000.0</td>\n",
              "      <td>...</td>\n",
              "      <td>17.0</td>\n",
              "      <td>0.0</td>\n",
              "      <td>20131.0</td>\n",
              "      <td>53.3</td>\n",
              "      <td>27.0</td>\n",
              "      <td>f</td>\n",
              "      <td>INDIVIDUAL</td>\n",
              "      <td>3.0</td>\n",
              "      <td>0.0</td>\n",
              "      <td>1076 Carney Fort Apt. 347\\nLoganmouth, SD 05113</td>\n",
              "    </tr>\n",
              "    <tr>\n",
              "      <th>2</th>\n",
              "      <td>15600.0</td>\n",
              "      <td>36 months</td>\n",
              "      <td>10.49</td>\n",
              "      <td>506.97</td>\n",
              "      <td>B</td>\n",
              "      <td>B3</td>\n",
              "      <td>Statistician</td>\n",
              "      <td>&lt; 1 year</td>\n",
              "      <td>RENT</td>\n",
              "      <td>43057.0</td>\n",
              "      <td>...</td>\n",
              "      <td>13.0</td>\n",
              "      <td>0.0</td>\n",
              "      <td>11987.0</td>\n",
              "      <td>92.2</td>\n",
              "      <td>26.0</td>\n",
              "      <td>f</td>\n",
              "      <td>INDIVIDUAL</td>\n",
              "      <td>0.0</td>\n",
              "      <td>0.0</td>\n",
              "      <td>87025 Mark Dale Apt. 269\\nNew Sabrina, WV 05113</td>\n",
              "    </tr>\n",
              "    <tr>\n",
              "      <th>3</th>\n",
              "      <td>7200.0</td>\n",
              "      <td>36 months</td>\n",
              "      <td>6.49</td>\n",
              "      <td>220.65</td>\n",
              "      <td>A</td>\n",
              "      <td>A2</td>\n",
              "      <td>Client Advocate</td>\n",
              "      <td>6 years</td>\n",
              "      <td>RENT</td>\n",
              "      <td>54000.0</td>\n",
              "      <td>...</td>\n",
              "      <td>6.0</td>\n",
              "      <td>0.0</td>\n",
              "      <td>5472.0</td>\n",
              "      <td>21.5</td>\n",
              "      <td>13.0</td>\n",
              "      <td>f</td>\n",
              "      <td>INDIVIDUAL</td>\n",
              "      <td>0.0</td>\n",
              "      <td>0.0</td>\n",
              "      <td>823 Reid Ford\\nDelacruzside, MA 00813</td>\n",
              "    </tr>\n",
              "    <tr>\n",
              "      <th>4</th>\n",
              "      <td>24375.0</td>\n",
              "      <td>60 months</td>\n",
              "      <td>17.27</td>\n",
              "      <td>609.33</td>\n",
              "      <td>C</td>\n",
              "      <td>C5</td>\n",
              "      <td>Destiny Management Inc.</td>\n",
              "      <td>9 years</td>\n",
              "      <td>MORTGAGE</td>\n",
              "      <td>55000.0</td>\n",
              "      <td>...</td>\n",
              "      <td>13.0</td>\n",
              "      <td>0.0</td>\n",
              "      <td>24584.0</td>\n",
              "      <td>69.8</td>\n",
              "      <td>43.0</td>\n",
              "      <td>f</td>\n",
              "      <td>INDIVIDUAL</td>\n",
              "      <td>1.0</td>\n",
              "      <td>0.0</td>\n",
              "      <td>679 Luna Roads\\nGreggshire, VA 11650</td>\n",
              "    </tr>\n",
              "  </tbody>\n",
              "</table>\n",
              "<p>5 rows × 27 columns</p>\n",
              "</div>\n",
              "    <div class=\"colab-df-buttons\">\n",
              "\n",
              "  <div class=\"colab-df-container\">\n",
              "    <button class=\"colab-df-convert\" onclick=\"convertToInteractive('df-97d6985b-ca83-49e0-8de7-67ba1dcd092d')\"\n",
              "            title=\"Convert this dataframe to an interactive table.\"\n",
              "            style=\"display:none;\">\n",
              "\n",
              "  <svg xmlns=\"http://www.w3.org/2000/svg\" height=\"24px\" viewBox=\"0 -960 960 960\">\n",
              "    <path d=\"M120-120v-720h720v720H120Zm60-500h600v-160H180v160Zm220 220h160v-160H400v160Zm0 220h160v-160H400v160ZM180-400h160v-160H180v160Zm440 0h160v-160H620v160ZM180-180h160v-160H180v160Zm440 0h160v-160H620v160Z\"/>\n",
              "  </svg>\n",
              "    </button>\n",
              "\n",
              "  <style>\n",
              "    .colab-df-container {\n",
              "      display:flex;\n",
              "      gap: 12px;\n",
              "    }\n",
              "\n",
              "    .colab-df-convert {\n",
              "      background-color: #E8F0FE;\n",
              "      border: none;\n",
              "      border-radius: 50%;\n",
              "      cursor: pointer;\n",
              "      display: none;\n",
              "      fill: #1967D2;\n",
              "      height: 32px;\n",
              "      padding: 0 0 0 0;\n",
              "      width: 32px;\n",
              "    }\n",
              "\n",
              "    .colab-df-convert:hover {\n",
              "      background-color: #E2EBFA;\n",
              "      box-shadow: 0px 1px 2px rgba(60, 64, 67, 0.3), 0px 1px 3px 1px rgba(60, 64, 67, 0.15);\n",
              "      fill: #174EA6;\n",
              "    }\n",
              "\n",
              "    .colab-df-buttons div {\n",
              "      margin-bottom: 4px;\n",
              "    }\n",
              "\n",
              "    [theme=dark] .colab-df-convert {\n",
              "      background-color: #3B4455;\n",
              "      fill: #D2E3FC;\n",
              "    }\n",
              "\n",
              "    [theme=dark] .colab-df-convert:hover {\n",
              "      background-color: #434B5C;\n",
              "      box-shadow: 0px 1px 3px 1px rgba(0, 0, 0, 0.15);\n",
              "      filter: drop-shadow(0px 1px 2px rgba(0, 0, 0, 0.3));\n",
              "      fill: #FFFFFF;\n",
              "    }\n",
              "  </style>\n",
              "\n",
              "    <script>\n",
              "      const buttonEl =\n",
              "        document.querySelector('#df-97d6985b-ca83-49e0-8de7-67ba1dcd092d button.colab-df-convert');\n",
              "      buttonEl.style.display =\n",
              "        google.colab.kernel.accessAllowed ? 'block' : 'none';\n",
              "\n",
              "      async function convertToInteractive(key) {\n",
              "        const element = document.querySelector('#df-97d6985b-ca83-49e0-8de7-67ba1dcd092d');\n",
              "        const dataTable =\n",
              "          await google.colab.kernel.invokeFunction('convertToInteractive',\n",
              "                                                    [key], {});\n",
              "        if (!dataTable) return;\n",
              "\n",
              "        const docLinkHtml = 'Like what you see? Visit the ' +\n",
              "          '<a target=\"_blank\" href=https://colab.research.google.com/notebooks/data_table.ipynb>data table notebook</a>'\n",
              "          + ' to learn more about interactive tables.';\n",
              "        element.innerHTML = '';\n",
              "        dataTable['output_type'] = 'display_data';\n",
              "        await google.colab.output.renderOutput(dataTable, element);\n",
              "        const docLink = document.createElement('div');\n",
              "        docLink.innerHTML = docLinkHtml;\n",
              "        element.appendChild(docLink);\n",
              "      }\n",
              "    </script>\n",
              "  </div>\n",
              "\n",
              "\n",
              "<div id=\"df-9f2918c3-d470-4848-b2f4-42ede15f0c8a\">\n",
              "  <button class=\"colab-df-quickchart\" onclick=\"quickchart('df-9f2918c3-d470-4848-b2f4-42ede15f0c8a')\"\n",
              "            title=\"Suggest charts\"\n",
              "            style=\"display:none;\">\n",
              "\n",
              "<svg xmlns=\"http://www.w3.org/2000/svg\" height=\"24px\"viewBox=\"0 0 24 24\"\n",
              "     width=\"24px\">\n",
              "    <g>\n",
              "        <path d=\"M19 3H5c-1.1 0-2 .9-2 2v14c0 1.1.9 2 2 2h14c1.1 0 2-.9 2-2V5c0-1.1-.9-2-2-2zM9 17H7v-7h2v7zm4 0h-2V7h2v10zm4 0h-2v-4h2v4z\"/>\n",
              "    </g>\n",
              "</svg>\n",
              "  </button>\n",
              "\n",
              "<style>\n",
              "  .colab-df-quickchart {\n",
              "      --bg-color: #E8F0FE;\n",
              "      --fill-color: #1967D2;\n",
              "      --hover-bg-color: #E2EBFA;\n",
              "      --hover-fill-color: #174EA6;\n",
              "      --disabled-fill-color: #AAA;\n",
              "      --disabled-bg-color: #DDD;\n",
              "  }\n",
              "\n",
              "  [theme=dark] .colab-df-quickchart {\n",
              "      --bg-color: #3B4455;\n",
              "      --fill-color: #D2E3FC;\n",
              "      --hover-bg-color: #434B5C;\n",
              "      --hover-fill-color: #FFFFFF;\n",
              "      --disabled-bg-color: #3B4455;\n",
              "      --disabled-fill-color: #666;\n",
              "  }\n",
              "\n",
              "  .colab-df-quickchart {\n",
              "    background-color: var(--bg-color);\n",
              "    border: none;\n",
              "    border-radius: 50%;\n",
              "    cursor: pointer;\n",
              "    display: none;\n",
              "    fill: var(--fill-color);\n",
              "    height: 32px;\n",
              "    padding: 0;\n",
              "    width: 32px;\n",
              "  }\n",
              "\n",
              "  .colab-df-quickchart:hover {\n",
              "    background-color: var(--hover-bg-color);\n",
              "    box-shadow: 0 1px 2px rgba(60, 64, 67, 0.3), 0 1px 3px 1px rgba(60, 64, 67, 0.15);\n",
              "    fill: var(--button-hover-fill-color);\n",
              "  }\n",
              "\n",
              "  .colab-df-quickchart-complete:disabled,\n",
              "  .colab-df-quickchart-complete:disabled:hover {\n",
              "    background-color: var(--disabled-bg-color);\n",
              "    fill: var(--disabled-fill-color);\n",
              "    box-shadow: none;\n",
              "  }\n",
              "\n",
              "  .colab-df-spinner {\n",
              "    border: 2px solid var(--fill-color);\n",
              "    border-color: transparent;\n",
              "    border-bottom-color: var(--fill-color);\n",
              "    animation:\n",
              "      spin 1s steps(1) infinite;\n",
              "  }\n",
              "\n",
              "  @keyframes spin {\n",
              "    0% {\n",
              "      border-color: transparent;\n",
              "      border-bottom-color: var(--fill-color);\n",
              "      border-left-color: var(--fill-color);\n",
              "    }\n",
              "    20% {\n",
              "      border-color: transparent;\n",
              "      border-left-color: var(--fill-color);\n",
              "      border-top-color: var(--fill-color);\n",
              "    }\n",
              "    30% {\n",
              "      border-color: transparent;\n",
              "      border-left-color: var(--fill-color);\n",
              "      border-top-color: var(--fill-color);\n",
              "      border-right-color: var(--fill-color);\n",
              "    }\n",
              "    40% {\n",
              "      border-color: transparent;\n",
              "      border-right-color: var(--fill-color);\n",
              "      border-top-color: var(--fill-color);\n",
              "    }\n",
              "    60% {\n",
              "      border-color: transparent;\n",
              "      border-right-color: var(--fill-color);\n",
              "    }\n",
              "    80% {\n",
              "      border-color: transparent;\n",
              "      border-right-color: var(--fill-color);\n",
              "      border-bottom-color: var(--fill-color);\n",
              "    }\n",
              "    90% {\n",
              "      border-color: transparent;\n",
              "      border-bottom-color: var(--fill-color);\n",
              "    }\n",
              "  }\n",
              "</style>\n",
              "\n",
              "  <script>\n",
              "    async function quickchart(key) {\n",
              "      const quickchartButtonEl =\n",
              "        document.querySelector('#' + key + ' button');\n",
              "      quickchartButtonEl.disabled = true;  // To prevent multiple clicks.\n",
              "      quickchartButtonEl.classList.add('colab-df-spinner');\n",
              "      try {\n",
              "        const charts = await google.colab.kernel.invokeFunction(\n",
              "            'suggestCharts', [key], {});\n",
              "      } catch (error) {\n",
              "        console.error('Error during call to suggestCharts:', error);\n",
              "      }\n",
              "      quickchartButtonEl.classList.remove('colab-df-spinner');\n",
              "      quickchartButtonEl.classList.add('colab-df-quickchart-complete');\n",
              "    }\n",
              "    (() => {\n",
              "      let quickchartButtonEl =\n",
              "        document.querySelector('#df-9f2918c3-d470-4848-b2f4-42ede15f0c8a button');\n",
              "      quickchartButtonEl.style.display =\n",
              "        google.colab.kernel.accessAllowed ? 'block' : 'none';\n",
              "    })();\n",
              "  </script>\n",
              "</div>\n",
              "    </div>\n",
              "  </div>\n"
            ],
            "application/vnd.google.colaboratory.intrinsic+json": {
              "type": "dataframe",
              "variable_name": "df"
            }
          },
          "metadata": {},
          "execution_count": 94
        }
      ]
    },
    {
      "cell_type": "code",
      "source": [
        "df.info()"
      ],
      "metadata": {
        "colab": {
          "base_uri": "https://localhost:8080/"
        },
        "id": "uXFVjYyFYRmr",
        "outputId": "37f38289-efe8-496e-c74a-d2cd16b6b1a0"
      },
      "execution_count": 95,
      "outputs": [
        {
          "output_type": "stream",
          "name": "stdout",
          "text": [
            "<class 'pandas.core.frame.DataFrame'>\n",
            "RangeIndex: 396030 entries, 0 to 396029\n",
            "Data columns (total 27 columns):\n",
            " #   Column                Non-Null Count   Dtype  \n",
            "---  ------                --------------   -----  \n",
            " 0   loan_amnt             396030 non-null  float64\n",
            " 1   term                  396030 non-null  object \n",
            " 2   int_rate              396030 non-null  float64\n",
            " 3   installment           396030 non-null  float64\n",
            " 4   grade                 396030 non-null  object \n",
            " 5   sub_grade             396030 non-null  object \n",
            " 6   emp_title             373103 non-null  object \n",
            " 7   emp_length            377729 non-null  object \n",
            " 8   home_ownership        396030 non-null  object \n",
            " 9   annual_inc            396030 non-null  float64\n",
            " 10  verification_status   396030 non-null  object \n",
            " 11  issue_d               396030 non-null  object \n",
            " 12  loan_status           396030 non-null  object \n",
            " 13  purpose               396030 non-null  object \n",
            " 14  title                 394275 non-null  object \n",
            " 15  dti                   396030 non-null  float64\n",
            " 16  earliest_cr_line      396030 non-null  object \n",
            " 17  open_acc              396030 non-null  float64\n",
            " 18  pub_rec               396030 non-null  float64\n",
            " 19  revol_bal             396030 non-null  float64\n",
            " 20  revol_util            395754 non-null  float64\n",
            " 21  total_acc             396030 non-null  float64\n",
            " 22  initial_list_status   396030 non-null  object \n",
            " 23  application_type      396030 non-null  object \n",
            " 24  mort_acc              358235 non-null  float64\n",
            " 25  pub_rec_bankruptcies  395495 non-null  float64\n",
            " 26  address               396030 non-null  object \n",
            "dtypes: float64(12), object(15)\n",
            "memory usage: 81.6+ MB\n"
          ]
        }
      ]
    },
    {
      "cell_type": "code",
      "source": [
        "sns.countplot(x=df['loan_status'], color='r')"
      ],
      "metadata": {
        "colab": {
          "base_uri": "https://localhost:8080/",
          "height": 468
        },
        "id": "5jMb-rVHYeo1",
        "outputId": "999949f2-5666-4aae-ddcb-1887c7f34faf"
      },
      "execution_count": 96,
      "outputs": [
        {
          "output_type": "execute_result",
          "data": {
            "text/plain": [
              "<Axes: xlabel='loan_status', ylabel='count'>"
            ]
          },
          "metadata": {},
          "execution_count": 96
        },
        {
          "output_type": "display_data",
          "data": {
            "text/plain": [
              "<Figure size 640x480 with 1 Axes>"
            ],
            "image/png": "[encoded data removed]"
          },
          "metadata": {}
        }
      ]
    },
    {
      "cell_type": "markdown",
      "source": [
        "Make loan_status as numeric feature so that we can use it to check its correlation with other features"
      ],
      "metadata": {
        "id": "7pc35n0vnFY4"
      }
    },
    {
      "cell_type": "code",
      "source": [
        "# Next let us check how loan_amount is distributed\n",
        "plt.figure(figsize=(12,6))\n",
        "sns.distplot(df['loan_amnt'])"
      ],
      "metadata": {
        "colab": {
          "base_uri": "https://localhost:8080/",
          "height": 746
        },
        "id": "saaBd1htch-m",
        "outputId": "4fc046ba-c920-4003-c3a4-ee84acdeaefc"
      },
      "execution_count": 97,
      "outputs": [
        {
          "output_type": "stream",
          "name": "stderr",
          "text": [
            "<ipython-input-97-df002da5e9a7>:3: UserWarning: \n",
            "\n",
            "`distplot` is a deprecated function and will be removed in seaborn v0.14.0.\n",
            "\n",
            "Please adapt your code to use either `displot` (a figure-level function with\n",
            "similar flexibility) or `histplot` (an axes-level function for histograms).\n",
            "\n",
            "For a guide to updating your code to use the new functions, please see\n",
            "https://gist.github.com/mwaskom/de44147ed2974457ad6372750bbe5751\n",
            "\n",
            "  sns.distplot(df['loan_amnt'])\n"
          ]
        },
        {
          "output_type": "execute_result",
          "data": {
            "text/plain": [
              "<Axes: xlabel='loan_amnt', ylabel='Density'>"
            ]
          },
          "metadata": {},
          "execution_count": 97
        },
        {
          "output_type": "display_data",
          "data": {
            "text/plain": [
              "<Figure size 1200x600 with 1 Axes>"
            ],
            "image/png": "[encoded data removed]"
          },
          "metadata": {}
        }
      ]
    },
    {
      "cell_type": "code",
      "source": [
        "# Next let us check if loan_amount increases do installments increases\n",
        "sns.scatterplot(x='loan_amnt',y='installment',data=df)"
      ],
      "metadata": {
        "colab": {
          "base_uri": "https://localhost:8080/",
          "height": 471
        },
        "id": "yF2ekhP4nX3U",
        "outputId": "2c74264a-d087-4ddc-8aef-8460f462890b"
      },
      "execution_count": 98,
      "outputs": [
        {
          "output_type": "execute_result",
          "data": {
            "text/plain": [
              "<Axes: xlabel='loan_amnt', ylabel='installment'>"
            ]
          },
          "metadata": {},
          "execution_count": 98
        },
        {
          "output_type": "display_data",
          "data": {
            "text/plain": [
              "<Figure size 640x480 with 1 Axes>"
            ],
            "image/png": "[encoded data removed]"
          },
          "metadata": {}
        }
      ]
    },
    {
      "cell_type": "code",
      "source": [
        "# As we see interest rate is highly coorelated with loan status so lets see\n",
        "sns.boxplot(x='loan_status',y='int_rate',data=df)\n",
        "# indeed, interest_rate has an impact on loan_status, ppl with lower interest rate have paid compared to ppl with higher interest rate"
      ],
      "metadata": {
        "colab": {
          "base_uri": "https://localhost:8080/",
          "height": 468
        },
        "id": "hjdLRcQviV4C",
        "outputId": "8923e0dd-e384-412c-abb4-ee82e0ecaca3"
      },
      "execution_count": 99,
      "outputs": [
        {
          "output_type": "execute_result",
          "data": {
            "text/plain": [
              "<Axes: xlabel='loan_status', ylabel='int_rate'>"
            ]
          },
          "metadata": {},
          "execution_count": 99
        },
        {
          "output_type": "display_data",
          "data": {
            "text/plain": [
              "<Figure size 640x480 with 1 Axes>"
            ],
            "image/png": "[encoded data removed]"
          },
          "metadata": {}
        }
      ]
    },
    {
      "cell_type": "code",
      "source": [
        "feature_info('revol_util')"
      ],
      "metadata": {
        "colab": {
          "base_uri": "https://localhost:8080/"
        },
        "id": "uCXxLiFJjPbt",
        "outputId": "2a1fc496-183d-4095-dd68-09c53ad8f2d5"
      },
      "execution_count": 100,
      "outputs": [
        {
          "output_type": "stream",
          "name": "stdout",
          "text": [
            "Revolving line utilization rate, or the amount of credit the borrower is using relative to all available revolving credit.\n"
          ]
        }
      ]
    },
    {
      "cell_type": "code",
      "source": [
        "print(feature_info('dti'))"
      ],
      "metadata": {
        "colab": {
          "base_uri": "https://localhost:8080/"
        },
        "id": "mDA9AeuloicQ",
        "outputId": "724f73cc-ca56-4d10-fd5d-9b07fbae2a82"
      },
      "execution_count": 101,
      "outputs": [
        {
          "output_type": "stream",
          "name": "stdout",
          "text": [
            "A ratio calculated using the borrower’s total monthly debt payments on the total debt obligations, excluding mortgage and the requested LC loan, divided by the borrower’s self-reported monthly income.\n",
            "None\n"
          ]
        }
      ]
    },
    {
      "cell_type": "code",
      "source": [
        "# Let us see if loan_amnt plays a role in determining loan_status\n",
        "sns.boxplot(x='loan_status',y='loan_amnt',data=df)\n",
        "# doesnt look like loan was fullypaid if loan amount was low or high, it has no significant impact"
      ],
      "metadata": {
        "colab": {
          "base_uri": "https://localhost:8080/",
          "height": 468
        },
        "id": "AU8z7llun_Fy",
        "outputId": "e0b07826-a15d-4bda-a793-186d0a7d22df"
      },
      "execution_count": 102,
      "outputs": [
        {
          "output_type": "execute_result",
          "data": {
            "text/plain": [
              "<Axes: xlabel='loan_status', ylabel='loan_amnt'>"
            ]
          },
          "metadata": {},
          "execution_count": 102
        },
        {
          "output_type": "display_data",
          "data": {
            "text/plain": [
              "<Figure size 640x480 with 1 Axes>"
            ],
            "image/png": "[encoded data removed]"
          },
          "metadata": {}
        }
      ]
    },
    {
      "cell_type": "markdown",
      "source": [
        "AUFGABE: Berechne die zusammengefassten Statistiken für die Höhe des Kredites, gruppiert nach loan_status."
      ],
      "metadata": {
        "id": "HnjYhXdfKVai"
      }
    },
    {
      "cell_type": "code",
      "source": [
        "df.groupby('loan_status')['loan_amnt'].describe()"
      ],
      "metadata": {
        "id": "R7HH6QEnJjes",
        "outputId": "b42cd6bc-c980-4e1e-ad89-6f4b1cf80170",
        "colab": {
          "base_uri": "https://localhost:8080/",
          "height": 143
        }
      },
      "execution_count": 103,
      "outputs": [
        {
          "output_type": "execute_result",
          "data": {
            "text/plain": [
              "                count          mean          std     min     25%      50%  \\\n",
              "loan_status                                                                 \n",
              "Charged Off   77673.0  15126.300967  8505.090557  1000.0  8525.0  14000.0   \n",
              "Fully Paid   318357.0  13866.878771  8302.319699   500.0  7500.0  12000.0   \n",
              "\n",
              "                 75%      max  \n",
              "loan_status                    \n",
              "Charged Off  20000.0  40000.0  \n",
              "Fully Paid   19225.0  40000.0  "
            ],
            "text/html": [
              "\n",
              "  <div id=\"df-7fc8b53b-fa99-4623-8fce-fa64af8ca93b\" class=\"colab-df-container\">\n",
              "    <div>\n",
              "<style scoped>\n",
              "    .dataframe tbody tr th:only-of-type {\n",
              "        vertical-align: middle;\n",
              "    }\n",
              "\n",
              "    .dataframe tbody tr th {\n",
              "        vertical-align: top;\n",
              "    }\n",
              "\n",
              "    .dataframe thead th {\n",
              "        text-align: right;\n",
              "    }\n",
              "</style>\n",
              "<table border=\"1\" class=\"dataframe\">\n",
              "  <thead>\n",
              "    <tr style=\"text-align: right;\">\n",
              "      <th></th>\n",
              "      <th>count</th>\n",
              "      <th>mean</th>\n",
              "      <th>std</th>\n",
              "      <th>min</th>\n",
              "      <th>25%</th>\n",
              "      <th>50%</th>\n",
              "      <th>75%</th>\n",
              "      <th>max</th>\n",
              "    </tr>\n",
              "    <tr>\n",
              "      <th>loan_status</th>\n",
              "      <th></th>\n",
              "      <th></th>\n",
              "      <th></th>\n",
              "      <th></th>\n",
              "      <th></th>\n",
              "      <th></th>\n",
              "      <th></th>\n",
              "      <th></th>\n",
              "    </tr>\n",
              "  </thead>\n",
              "  <tbody>\n",
              "    <tr>\n",
              "      <th>Charged Off</th>\n",
              "      <td>77673.0</td>\n",
              "      <td>15126.300967</td>\n",
              "      <td>8505.090557</td>\n",
              "      <td>1000.0</td>\n",
              "      <td>8525.0</td>\n",
              "      <td>14000.0</td>\n",
              "      <td>20000.0</td>\n",
              "      <td>40000.0</td>\n",
              "    </tr>\n",
              "    <tr>\n",
              "      <th>Fully Paid</th>\n",
              "      <td>318357.0</td>\n",
              "      <td>13866.878771</td>\n",
              "      <td>8302.319699</td>\n",
              "      <td>500.0</td>\n",
              "      <td>7500.0</td>\n",
              "      <td>12000.0</td>\n",
              "      <td>19225.0</td>\n",
              "      <td>40000.0</td>\n",
              "    </tr>\n",
              "  </tbody>\n",
              "</table>\n",
              "</div>\n",
              "    <div class=\"colab-df-buttons\">\n",
              "\n",
              "  <div class=\"colab-df-container\">\n",
              "    <button class=\"colab-df-convert\" onclick=\"convertToInteractive('df-7fc8b53b-fa99-4623-8fce-fa64af8ca93b')\"\n",
              "            title=\"Convert this dataframe to an interactive table.\"\n",
              "            style=\"display:none;\">\n",
              "\n",
              "  <svg xmlns=\"http://www.w3.org/2000/svg\" height=\"24px\" viewBox=\"0 -960 960 960\">\n",
              "    <path d=\"M120-120v-720h720v720H120Zm60-500h600v-160H180v160Zm220 220h160v-160H400v160Zm0 220h160v-160H400v160ZM180-400h160v-160H180v160Zm440 0h160v-160H620v160ZM180-180h160v-160H180v160Zm440 0h160v-160H620v160Z\"/>\n",
              "  </svg>\n",
              "    </button>\n",
              "\n",
              "  <style>\n",
              "    .colab-df-container {\n",
              "      display:flex;\n",
              "      gap: 12px;\n",
              "    }\n",
              "\n",
              "    .colab-df-convert {\n",
              "      background-color: #E8F0FE;\n",
              "      border: none;\n",
              "      border-radius: 50%;\n",
              "      cursor: pointer;\n",
              "      display: none;\n",
              "      fill: #1967D2;\n",
              "      height: 32px;\n",
              "      padding: 0 0 0 0;\n",
              "      width: 32px;\n",
              "    }\n",
              "\n",
              "    .colab-df-convert:hover {\n",
              "      background-color: #E2EBFA;\n",
              "      box-shadow: 0px 1px 2px rgba(60, 64, 67, 0.3), 0px 1px 3px 1px rgba(60, 64, 67, 0.15);\n",
              "      fill: #174EA6;\n",
              "    }\n",
              "\n",
              "    .colab-df-buttons div {\n",
              "      margin-bottom: 4px;\n",
              "    }\n",
              "\n",
              "    [theme=dark] .colab-df-convert {\n",
              "      background-color: #3B4455;\n",
              "      fill: #D2E3FC;\n",
              "    }\n",
              "\n",
              "    [theme=dark] .colab-df-convert:hover {\n",
              "      background-color: #434B5C;\n",
              "      box-shadow: 0px 1px 3px 1px rgba(0, 0, 0, 0.15);\n",
              "      filter: drop-shadow(0px 1px 2px rgba(0, 0, 0, 0.3));\n",
              "      fill: #FFFFFF;\n",
              "    }\n",
              "  </style>\n",
              "\n",
              "    <script>\n",
              "      const buttonEl =\n",
              "        document.querySelector('#df-7fc8b53b-fa99-4623-8fce-fa64af8ca93b button.colab-df-convert');\n",
              "      buttonEl.style.display =\n",
              "        google.colab.kernel.accessAllowed ? 'block' : 'none';\n",
              "\n",
              "      async function convertToInteractive(key) {\n",
              "        const element = document.querySelector('#df-7fc8b53b-fa99-4623-8fce-fa64af8ca93b');\n",
              "        const dataTable =\n",
              "          await google.colab.kernel.invokeFunction('convertToInteractive',\n",
              "                                                    [key], {});\n",
              "        if (!dataTable) return;\n",
              "\n",
              "        const docLinkHtml = 'Like what you see? Visit the ' +\n",
              "          '<a target=\"_blank\" href=https://colab.research.google.com/notebooks/data_table.ipynb>data table notebook</a>'\n",
              "          + ' to learn more about interactive tables.';\n",
              "        element.innerHTML = '';\n",
              "        dataTable['output_type'] = 'display_data';\n",
              "        await google.colab.output.renderOutput(dataTable, element);\n",
              "        const docLink = document.createElement('div');\n",
              "        docLink.innerHTML = docLinkHtml;\n",
              "        element.appendChild(docLink);\n",
              "      }\n",
              "    </script>\n",
              "  </div>\n",
              "\n",
              "\n",
              "<div id=\"df-458cfcb3-2af8-4535-ae39-b29c9f351fb1\">\n",
              "  <button class=\"colab-df-quickchart\" onclick=\"quickchart('df-458cfcb3-2af8-4535-ae39-b29c9f351fb1')\"\n",
              "            title=\"Suggest charts\"\n",
              "            style=\"display:none;\">\n",
              "\n",
              "<svg xmlns=\"http://www.w3.org/2000/svg\" height=\"24px\"viewBox=\"0 0 24 24\"\n",
              "     width=\"24px\">\n",
              "    <g>\n",
              "        <path d=\"M19 3H5c-1.1 0-2 .9-2 2v14c0 1.1.9 2 2 2h14c1.1 0 2-.9 2-2V5c0-1.1-.9-2-2-2zM9 17H7v-7h2v7zm4 0h-2V7h2v10zm4 0h-2v-4h2v4z\"/>\n",
              "    </g>\n",
              "</svg>\n",
              "  </button>\n",
              "\n",
              "<style>\n",
              "  .colab-df-quickchart {\n",
              "      --bg-color: #E8F0FE;\n",
              "      --fill-color: #1967D2;\n",
              "      --hover-bg-color: #E2EBFA;\n",
              "      --hover-fill-color: #174EA6;\n",
              "      --disabled-fill-color: #AAA;\n",
              "      --disabled-bg-color: #DDD;\n",
              "  }\n",
              "\n",
              "  [theme=dark] .colab-df-quickchart {\n",
              "      --bg-color: #3B4455;\n",
              "      --fill-color: #D2E3FC;\n",
              "      --hover-bg-color: #434B5C;\n",
              "      --hover-fill-color: #FFFFFF;\n",
              "      --disabled-bg-color: #3B4455;\n",
              "      --disabled-fill-color: #666;\n",
              "  }\n",
              "\n",
              "  .colab-df-quickchart {\n",
              "    background-color: var(--bg-color);\n",
              "    border: none;\n",
              "    border-radius: 50%;\n",
              "    cursor: pointer;\n",
              "    display: none;\n",
              "    fill: var(--fill-color);\n",
              "    height: 32px;\n",
              "    padding: 0;\n",
              "    width: 32px;\n",
              "  }\n",
              "\n",
              "  .colab-df-quickchart:hover {\n",
              "    background-color: var(--hover-bg-color);\n",
              "    box-shadow: 0 1px 2px rgba(60, 64, 67, 0.3), 0 1px 3px 1px rgba(60, 64, 67, 0.15);\n",
              "    fill: var(--button-hover-fill-color);\n",
              "  }\n",
              "\n",
              "  .colab-df-quickchart-complete:disabled,\n",
              "  .colab-df-quickchart-complete:disabled:hover {\n",
              "    background-color: var(--disabled-bg-color);\n",
              "    fill: var(--disabled-fill-color);\n",
              "    box-shadow: none;\n",
              "  }\n",
              "\n",
              "  .colab-df-spinner {\n",
              "    border: 2px solid var(--fill-color);\n",
              "    border-color: transparent;\n",
              "    border-bottom-color: var(--fill-color);\n",
              "    animation:\n",
              "      spin 1s steps(1) infinite;\n",
              "  }\n",
              "\n",
              "  @keyframes spin {\n",
              "    0% {\n",
              "      border-color: transparent;\n",
              "      border-bottom-color: var(--fill-color);\n",
              "      border-left-color: var(--fill-color);\n",
              "    }\n",
              "    20% {\n",
              "      border-color: transparent;\n",
              "      border-left-color: var(--fill-color);\n",
              "      border-top-color: var(--fill-color);\n",
              "    }\n",
              "    30% {\n",
              "      border-color: transparent;\n",
              "      border-left-color: var(--fill-color);\n",
              "      border-top-color: var(--fill-color);\n",
              "      border-right-color: var(--fill-color);\n",
              "    }\n",
              "    40% {\n",
              "      border-color: transparent;\n",
              "      border-right-color: var(--fill-color);\n",
              "      border-top-color: var(--fill-color);\n",
              "    }\n",
              "    60% {\n",
              "      border-color: transparent;\n",
              "      border-right-color: var(--fill-color);\n",
              "    }\n",
              "    80% {\n",
              "      border-color: transparent;\n",
              "      border-right-color: var(--fill-color);\n",
              "      border-bottom-color: var(--fill-color);\n",
              "    }\n",
              "    90% {\n",
              "      border-color: transparent;\n",
              "      border-bottom-color: var(--fill-color);\n",
              "    }\n",
              "  }\n",
              "</style>\n",
              "\n",
              "  <script>\n",
              "    async function quickchart(key) {\n",
              "      const quickchartButtonEl =\n",
              "        document.querySelector('#' + key + ' button');\n",
              "      quickchartButtonEl.disabled = true;  // To prevent multiple clicks.\n",
              "      quickchartButtonEl.classList.add('colab-df-spinner');\n",
              "      try {\n",
              "        const charts = await google.colab.kernel.invokeFunction(\n",
              "            'suggestCharts', [key], {});\n",
              "      } catch (error) {\n",
              "        console.error('Error during call to suggestCharts:', error);\n",
              "      }\n",
              "      quickchartButtonEl.classList.remove('colab-df-spinner');\n",
              "      quickchartButtonEl.classList.add('colab-df-quickchart-complete');\n",
              "    }\n",
              "    (() => {\n",
              "      let quickchartButtonEl =\n",
              "        document.querySelector('#df-458cfcb3-2af8-4535-ae39-b29c9f351fb1 button');\n",
              "      quickchartButtonEl.style.display =\n",
              "        google.colab.kernel.accessAllowed ? 'block' : 'none';\n",
              "    })();\n",
              "  </script>\n",
              "</div>\n",
              "    </div>\n",
              "  </div>\n"
            ],
            "application/vnd.google.colaboratory.intrinsic+json": {
              "type": "dataframe",
              "summary": "{\n  \"name\": \"df\",\n  \"rows\": 2,\n  \"fields\": [\n    {\n      \"column\": \"count\",\n      \"properties\": {\n        \"dtype\": \"number\",\n        \"std\": 170189.288523103,\n        \"min\": 77673.0,\n        \"max\": 318357.0,\n        \"samples\": [\n          318357.0,\n          77673.0\n        ],\n        \"num_unique_values\": 2,\n        \"semantic_type\": \"\",\n        \"description\": \"\"\n      }\n    },\n    {\n      \"column\": \"mean\",\n      \"properties\": {\n        \"dtype\": \"number\",\n        \"std\": 890.5459748555348,\n        \"min\": 13866.878771316478,\n        \"max\": 15126.300966873945,\n        \"samples\": [\n          13866.878771316478,\n          15126.300966873945\n        ],\n        \"num_unique_values\": 2,\n        \"semantic_type\": \"\",\n        \"description\": \"\"\n      }\n    },\n    {\n      \"column\": \"std\",\n      \"properties\": {\n        \"dtype\": \"number\",\n        \"std\": 143.38064827557537,\n        \"min\": 8302.319699344323,\n        \"max\": 8505.090556717489,\n        \"samples\": [\n          8302.319699344323,\n          8505.090556717489\n        ],\n        \"num_unique_values\": 2,\n        \"semantic_type\": \"\",\n        \"description\": \"\"\n      }\n    },\n    {\n      \"column\": \"min\",\n      \"properties\": {\n        \"dtype\": \"number\",\n        \"std\": 353.5533905932738,\n        \"min\": 500.0,\n        \"max\": 1000.0,\n        \"samples\": [\n          500.0,\n          1000.0\n        ],\n        \"num_unique_values\": 2,\n        \"semantic_type\": \"\",\n        \"description\": \"\"\n      }\n    },\n    {\n      \"column\": \"25%\",\n      \"properties\": {\n        \"dtype\": \"number\",\n        \"std\": 724.7844507162113,\n        \"min\": 7500.0,\n        \"max\": 8525.0,\n        \"samples\": [\n          7500.0,\n          8525.0\n        ],\n        \"num_unique_values\": 2,\n        \"semantic_type\": \"\",\n        \"description\": \"\"\n      }\n    },\n    {\n      \"column\": \"50%\",\n      \"properties\": {\n        \"dtype\": \"number\",\n        \"std\": 1414.213562373095,\n        \"min\": 12000.0,\n        \"max\": 14000.0,\n        \"samples\": [\n          12000.0,\n          14000.0\n        ],\n        \"num_unique_values\": 2,\n        \"semantic_type\": \"\",\n        \"description\": \"\"\n      }\n    },\n    {\n      \"column\": \"75%\",\n      \"properties\": {\n        \"dtype\": \"number\",\n        \"std\": 548.0077554195743,\n        \"min\": 19225.0,\n        \"max\": 20000.0,\n        \"samples\": [\n          19225.0,\n          20000.0\n        ],\n        \"num_unique_values\": 2,\n        \"semantic_type\": \"\",\n        \"description\": \"\"\n      }\n    },\n    {\n      \"column\": \"max\",\n      \"properties\": {\n        \"dtype\": \"number\",\n        \"std\": 0.0,\n        \"min\": 40000.0,\n        \"max\": 40000.0,\n        \"samples\": [\n          40000.0\n        ],\n        \"num_unique_values\": 1,\n        \"semantic_type\": \"\",\n        \"description\": \"\"\n      }\n    }\n  ]\n}"
            }
          },
          "metadata": {},
          "execution_count": 103
        }
      ]
    },
    {
      "cell_type": "markdown",
      "source": [
        "# Part 2: Data Preprocessing\n",
        "Now let us focus on feature engineering"
      ],
      "metadata": {
        "id": "wcTlKlg-My9K"
      }
    },
    {
      "cell_type": "code",
      "source": [
        "df.info()"
      ],
      "metadata": {
        "colab": {
          "base_uri": "https://localhost:8080/"
        },
        "id": "evCOuPSiput8",
        "outputId": "458352d5-8291-4648-8169-1cbdb10f84c3"
      },
      "execution_count": 104,
      "outputs": [
        {
          "output_type": "stream",
          "name": "stdout",
          "text": [
            "<class 'pandas.core.frame.DataFrame'>\n",
            "RangeIndex: 396030 entries, 0 to 396029\n",
            "Data columns (total 27 columns):\n",
            " #   Column                Non-Null Count   Dtype  \n",
            "---  ------                --------------   -----  \n",
            " 0   loan_amnt             396030 non-null  float64\n",
            " 1   term                  396030 non-null  object \n",
            " 2   int_rate              396030 non-null  float64\n",
            " 3   installment           396030 non-null  float64\n",
            " 4   grade                 396030 non-null  object \n",
            " 5   sub_grade             396030 non-null  object \n",
            " 6   emp_title             373103 non-null  object \n",
            " 7   emp_length            377729 non-null  object \n",
            " 8   home_ownership        396030 non-null  object \n",
            " 9   annual_inc            396030 non-null  float64\n",
            " 10  verification_status   396030 non-null  object \n",
            " 11  issue_d               396030 non-null  object \n",
            " 12  loan_status           396030 non-null  object \n",
            " 13  purpose               396030 non-null  object \n",
            " 14  title                 394275 non-null  object \n",
            " 15  dti                   396030 non-null  float64\n",
            " 16  earliest_cr_line      396030 non-null  object \n",
            " 17  open_acc              396030 non-null  float64\n",
            " 18  pub_rec               396030 non-null  float64\n",
            " 19  revol_bal             396030 non-null  float64\n",
            " 20  revol_util            395754 non-null  float64\n",
            " 21  total_acc             396030 non-null  float64\n",
            " 22  initial_list_status   396030 non-null  object \n",
            " 23  application_type      396030 non-null  object \n",
            " 24  mort_acc              358235 non-null  float64\n",
            " 25  pub_rec_bankruptcies  395495 non-null  float64\n",
            " 26  address               396030 non-null  object \n",
            "dtypes: float64(12), object(15)\n",
            "memory usage: 81.6+ MB\n"
          ]
        }
      ]
    },
    {
      "cell_type": "code",
      "source": [
        "# Let us dig into object data types"
      ],
      "metadata": {
        "id": "qT8dU-rgpxfl"
      },
      "execution_count": 105,
      "outputs": []
    },
    {
      "cell_type": "code",
      "source": [
        "sns.countplot(x=df['grade'].sort_values(),hue=df['loan_status'])\n",
        "# it looks like the class F and G has not paid off loan often"
      ],
      "metadata": {
        "colab": {
          "base_uri": "https://localhost:8080/",
          "height": 467
        },
        "id": "Nn93MX75v_GA",
        "outputId": "5df03fb9-c3e7-43bd-def3-7dabbc272c58"
      },
      "execution_count": 106,
      "outputs": [
        {
          "output_type": "execute_result",
          "data": {
            "text/plain": [
              "<Axes: xlabel='grade', ylabel='count'>"
            ]
          },
          "metadata": {},
          "execution_count": 106
        },
        {
          "output_type": "display_data",
          "data": {
            "text/plain": [
              "<Figure size 640x480 with 1 Axes>"
            ],
            "image/png": "[encoded data removed]"
          },
          "metadata": {}
        }
      ]
    },
    {
      "cell_type": "code",
      "source": [
        "plt.figure(figsize = (10,8))\n",
        "sns.countplot(x=df['sub_grade'].sort_values(),hue=df['loan_status'])"
      ],
      "metadata": {
        "colab": {
          "base_uri": "https://localhost:8080/",
          "height": 714
        },
        "id": "QbiiNyS2xlui",
        "outputId": "61295e1f-622d-4337-f351-0b57880e75b3"
      },
      "execution_count": 107,
      "outputs": [
        {
          "output_type": "execute_result",
          "data": {
            "text/plain": [
              "<Axes: xlabel='sub_grade', ylabel='count'>"
            ]
          },
          "metadata": {},
          "execution_count": 107
        },
        {
          "output_type": "display_data",
          "data": {
            "text/plain": [
              "<Figure size 1000x800 with 1 Axes>"
            ],
            "image/png": "[encoded data removed]"
          },
          "metadata": {}
        }
      ]
    },
    {
      "cell_type": "markdown",
      "source": [
        "Grade is incorporated in subgrade in great detail, so let us remove grade and convert subgrade using one hot encoding"
      ],
      "metadata": {
        "id": "kdkjTPEyy7aK"
      }
    },
    {
      "cell_type": "code",
      "source": [
        "df.drop('grade',axis=1,inplace=True)"
      ],
      "metadata": {
        "id": "9cQY0Vgzy_mk"
      },
      "execution_count": 108,
      "outputs": []
    },
    {
      "cell_type": "code",
      "source": [
        "# one hot encoding\n",
        "sub_grade = pd.get_dummies(df['sub_grade' ], drop_first=True)"
      ],
      "metadata": {
        "id": "r4DhNOOkzYXg"
      },
      "execution_count": 109,
      "outputs": []
    },
    {
      "cell_type": "code",
      "source": [
        "df = pd.concat([df, sub_grade], axis=1)"
      ],
      "metadata": {
        "id": "TFMKuAQTzzVo"
      },
      "execution_count": 110,
      "outputs": []
    },
    {
      "cell_type": "code",
      "source": [
        "df.drop('sub_grade',axis=1,inplace=True)"
      ],
      "metadata": {
        "id": "fCx-U7pt1Nbt"
      },
      "execution_count": 111,
      "outputs": []
    },
    {
      "cell_type": "code",
      "source": [
        "df.info()"
      ],
      "metadata": {
        "colab": {
          "base_uri": "https://localhost:8080/"
        },
        "id": "WLvUpm-00ui2",
        "outputId": "3a068781-3756-4399-c1dd-7272703069df"
      },
      "execution_count": 112,
      "outputs": [
        {
          "output_type": "stream",
          "name": "stdout",
          "text": [
            "<class 'pandas.core.frame.DataFrame'>\n",
            "RangeIndex: 396030 entries, 0 to 396029\n",
            "Data columns (total 59 columns):\n",
            " #   Column                Non-Null Count   Dtype  \n",
            "---  ------                --------------   -----  \n",
            " 0   loan_amnt             396030 non-null  float64\n",
            " 1   term                  396030 non-null  object \n",
            " 2   int_rate              396030 non-null  float64\n",
            " 3   installment           396030 non-null  float64\n",
            " 4   emp_title             373103 non-null  object \n",
            " 5   emp_length            377729 non-null  object \n",
            " 6   home_ownership        396030 non-null  object \n",
            " 7   annual_inc            396030 non-null  float64\n",
            " 8   verification_status   396030 non-null  object \n",
            " 9   issue_d               396030 non-null  object \n",
            " 10  loan_status           396030 non-null  object \n",
            " 11  purpose               396030 non-null  object \n",
            " 12  title                 394275 non-null  object \n",
            " 13  dti                   396030 non-null  float64\n",
            " 14  earliest_cr_line      396030 non-null  object \n",
            " 15  open_acc              396030 non-null  float64\n",
            " 16  pub_rec               396030 non-null  float64\n",
            " 17  revol_bal             396030 non-null  float64\n",
            " 18  revol_util            395754 non-null  float64\n",
            " 19  total_acc             396030 non-null  float64\n",
            " 20  initial_list_status   396030 non-null  object \n",
            " 21  application_type      396030 non-null  object \n",
            " 22  mort_acc              358235 non-null  float64\n",
            " 23  pub_rec_bankruptcies  395495 non-null  float64\n",
            " 24  address               396030 non-null  object \n",
            " 25  A2                    396030 non-null  uint8  \n",
            " 26  A3                    396030 non-null  uint8  \n",
            " 27  A4                    396030 non-null  uint8  \n",
            " 28  A5                    396030 non-null  uint8  \n",
            " 29  B1                    396030 non-null  uint8  \n",
            " 30  B2                    396030 non-null  uint8  \n",
            " 31  B3                    396030 non-null  uint8  \n",
            " 32  B4                    396030 non-null  uint8  \n",
            " 33  B5                    396030 non-null  uint8  \n",
            " 34  C1                    396030 non-null  uint8  \n",
            " 35  C2                    396030 non-null  uint8  \n",
            " 36  C3                    396030 non-null  uint8  \n",
            " 37  C4                    396030 non-null  uint8  \n",
            " 38  C5                    396030 non-null  uint8  \n",
            " 39  D1                    396030 non-null  uint8  \n",
            " 40  D2                    396030 non-null  uint8  \n",
            " 41  D3                    396030 non-null  uint8  \n",
            " 42  D4                    396030 non-null  uint8  \n",
            " 43  D5                    396030 non-null  uint8  \n",
            " 44  E1                    396030 non-null  uint8  \n",
            " 45  E2                    396030 non-null  uint8  \n",
            " 46  E3                    396030 non-null  uint8  \n",
            " 47  E4                    396030 non-null  uint8  \n",
            " 48  E5                    396030 non-null  uint8  \n",
            " 49  F1                    396030 non-null  uint8  \n",
            " 50  F2                    396030 non-null  uint8  \n",
            " 51  F3                    396030 non-null  uint8  \n",
            " 52  F4                    396030 non-null  uint8  \n",
            " 53  F5                    396030 non-null  uint8  \n",
            " 54  G1                    396030 non-null  uint8  \n",
            " 55  G2                    396030 non-null  uint8  \n",
            " 56  G3                    396030 non-null  uint8  \n",
            " 57  G4                    396030 non-null  uint8  \n",
            " 58  G5                    396030 non-null  uint8  \n",
            "dtypes: float64(12), object(13), uint8(34)\n",
            "memory usage: 88.4+ MB\n"
          ]
        }
      ]
    },
    {
      "cell_type": "markdown",
      "source": [
        "# Deal with null values and other object types"
      ],
      "metadata": {
        "id": "4ooQv_f8NLNM"
      }
    },
    {
      "cell_type": "code",
      "source": [
        "df.isnull().sum()"
      ],
      "metadata": {
        "id": "2Vvne2AqvVWg",
        "colab": {
          "base_uri": "https://localhost:8080/"
        },
        "outputId": "abee6f5e-d561-48fa-bc82-4d390b961057"
      },
      "execution_count": 113,
      "outputs": [
        {
          "output_type": "execute_result",
          "data": {
            "text/plain": [
              "loan_amnt                   0\n",
              "term                        0\n",
              "int_rate                    0\n",
              "installment                 0\n",
              "emp_title               22927\n",
              "emp_length              18301\n",
              "home_ownership              0\n",
              "annual_inc                  0\n",
              "verification_status         0\n",
              "issue_d                     0\n",
              "loan_status                 0\n",
              "purpose                     0\n",
              "title                    1755\n",
              "dti                         0\n",
              "earliest_cr_line            0\n",
              "open_acc                    0\n",
              "pub_rec                     0\n",
              "revol_bal                   0\n",
              "revol_util                276\n",
              "total_acc                   0\n",
              "initial_list_status         0\n",
              "application_type            0\n",
              "mort_acc                37795\n",
              "pub_rec_bankruptcies      535\n",
              "address                     0\n",
              "A2                          0\n",
              "A3                          0\n",
              "A4                          0\n",
              "A5                          0\n",
              "B1                          0\n",
              "B2                          0\n",
              "B3                          0\n",
              "B4                          0\n",
              "B5                          0\n",
              "C1                          0\n",
              "C2                          0\n",
              "C3                          0\n",
              "C4                          0\n",
              "C5                          0\n",
              "D1                          0\n",
              "D2                          0\n",
              "D3                          0\n",
              "D4                          0\n",
              "D5                          0\n",
              "E1                          0\n",
              "E2                          0\n",
              "E3                          0\n",
              "E4                          0\n",
              "E5                          0\n",
              "F1                          0\n",
              "F2                          0\n",
              "F3                          0\n",
              "F4                          0\n",
              "F5                          0\n",
              "G1                          0\n",
              "G2                          0\n",
              "G3                          0\n",
              "G4                          0\n",
              "G5                          0\n",
              "dtype: int64"
            ]
          },
          "metadata": {},
          "execution_count": 113
        }
      ]
    },
    {
      "cell_type": "code",
      "source": [
        "  df['emp_title'].value_counts()\n",
        "  # Looks like there are too many titles and we cannot fill it for null values + we assume they dont play a role in determining loan status we drop it"
      ],
      "metadata": {
        "id": "U8iR_DfTvDWi",
        "colab": {
          "base_uri": "https://localhost:8080/"
        },
        "outputId": "10353770-ea2b-49f4-c676-ae87cd3b82bc"
      },
      "execution_count": 114,
      "outputs": [
        {
          "output_type": "execute_result",
          "data": {
            "text/plain": [
              "Teacher                    4389\n",
              "Manager                    4250\n",
              "Registered Nurse           1856\n",
              "RN                         1846\n",
              "Supervisor                 1830\n",
              "                           ... \n",
              "Postman                       1\n",
              "McCarthy & Holthus, LLC       1\n",
              "jp flooring                   1\n",
              "Histology Technologist        1\n",
              "Gracon Services, Inc          1\n",
              "Name: emp_title, Length: 173105, dtype: int64"
            ]
          },
          "metadata": {},
          "execution_count": 114
        }
      ]
    },
    {
      "cell_type": "code",
      "source": [
        "df.drop('emp_title',axis=1, inplace=True)"
      ],
      "metadata": {
        "id": "8sTL9otENtsn"
      },
      "execution_count": 115,
      "outputs": []
    },
    {
      "cell_type": "code",
      "source": [
        "plt.figure(figsize=(10,6))\n",
        "sns.countplot(x=df['emp_length'],hue=df['loan_status'])"
      ],
      "metadata": {
        "id": "0vuaNpFEr_Z4",
        "colab": {
          "base_uri": "https://localhost:8080/",
          "height": 560
        },
        "outputId": "6f515bbd-95ae-4238-839c-ccc1ab9b423d"
      },
      "execution_count": 116,
      "outputs": [
        {
          "output_type": "execute_result",
          "data": {
            "text/plain": [
              "<Axes: xlabel='emp_length', ylabel='count'>"
            ]
          },
          "metadata": {},
          "execution_count": 116
        },
        {
          "output_type": "display_data",
          "data": {
            "text/plain": [
              "<Figure size 1000x600 with 1 Axes>"
            ],
            "image/png": "[encoded data removed]"
          },
          "metadata": {}
        }
      ]
    },
    {
      "cell_type": "markdown",
      "source": [
        "CHALLENGE: This still gives us insufficient information as to whether there is a strong relationship between length of employment and repayment, we need the percentage of repayment per category. This means we know what percentage of borrowers per job category have not repaid their loan. There are a variety of ways to create this series. After you have created it, display it as a barplot. This might be difficult, take a look at the solution notebook for problems with creating the series."
      ],
      "metadata": {
        "id": "8e7uta410p6-"
      }
    },
    {
      "cell_type": "code",
      "source": [
        "#(df.groupby('emp_length')['loan_repaid'].count()) / len(df[df['loan_repaid']==1 ])\n",
        "emp_fp = df[df['loan_status']=='Fully Paid'].groupby(\"emp_length\").count()['loan_status']"
      ],
      "metadata": {
        "id": "XTt_HE8mkw0R"
      },
      "execution_count": 117,
      "outputs": []
    },
    {
      "cell_type": "code",
      "source": [
        "emp_co = df[df['loan_status']=='Charged Off'].groupby(\"emp_length\").count()['loan_status']"
      ],
      "metadata": {
        "id": "xNKtf_a6yYlN"
      },
      "execution_count": 118,
      "outputs": []
    },
    {
      "cell_type": "code",
      "source": [
        "emp_len = emp_co / emp_fp"
      ],
      "metadata": {
        "id": "9i-tKk1qzc-2"
      },
      "execution_count": 119,
      "outputs": []
    },
    {
      "cell_type": "code",
      "source": [
        "emp_len.plot(kind = 'bar')"
      ],
      "metadata": {
        "id": "jHC9xWBs1BmP",
        "outputId": "86c9fcdb-a002-4929-f243-edd735a064c8",
        "colab": {
          "base_uri": "https://localhost:8080/",
          "height": 525
        }
      },
      "execution_count": 120,
      "outputs": [
        {
          "output_type": "execute_result",
          "data": {
            "text/plain": [
              "<Axes: xlabel='emp_length'>"
            ]
          },
          "metadata": {},
          "execution_count": 120
        },
        {
          "output_type": "display_data",
          "data": {
            "text/plain": [
              "<Figure size 640x480 with 1 Axes>"
            ],
            "image/png": "[encoded data removed]"
          },
          "metadata": {}
        }
      ]
    },
    {
      "cell_type": "markdown",
      "source": [
        "Conclusion : The repayment rates across all categories are extremely similar. Discard the emp_length column as it does not bring any value"
      ],
      "metadata": {
        "id": "nHhQAUx01WfE"
      }
    },
    {
      "cell_type": "code",
      "source": [
        "df.drop('emp_length',axis=1, inplace = True)"
      ],
      "metadata": {
        "id": "8O48EXZ41ZKc"
      },
      "execution_count": 121,
      "outputs": []
    },
    {
      "cell_type": "code",
      "source": [
        "df.isnull().sum()"
      ],
      "metadata": {
        "id": "5m6pI5jm1fNb",
        "outputId": "ea76ce63-2a81-4bd7-e261-52819fcb1cbd",
        "colab": {
          "base_uri": "https://localhost:8080/"
        }
      },
      "execution_count": 122,
      "outputs": [
        {
          "output_type": "execute_result",
          "data": {
            "text/plain": [
              "loan_amnt                   0\n",
              "term                        0\n",
              "int_rate                    0\n",
              "installment                 0\n",
              "home_ownership              0\n",
              "annual_inc                  0\n",
              "verification_status         0\n",
              "issue_d                     0\n",
              "loan_status                 0\n",
              "purpose                     0\n",
              "title                    1755\n",
              "dti                         0\n",
              "earliest_cr_line            0\n",
              "open_acc                    0\n",
              "pub_rec                     0\n",
              "revol_bal                   0\n",
              "revol_util                276\n",
              "total_acc                   0\n",
              "initial_list_status         0\n",
              "application_type            0\n",
              "mort_acc                37795\n",
              "pub_rec_bankruptcies      535\n",
              "address                     0\n",
              "A2                          0\n",
              "A3                          0\n",
              "A4                          0\n",
              "A5                          0\n",
              "B1                          0\n",
              "B2                          0\n",
              "B3                          0\n",
              "B4                          0\n",
              "B5                          0\n",
              "C1                          0\n",
              "C2                          0\n",
              "C3                          0\n",
              "C4                          0\n",
              "C5                          0\n",
              "D1                          0\n",
              "D2                          0\n",
              "D3                          0\n",
              "D4                          0\n",
              "D5                          0\n",
              "E1                          0\n",
              "E2                          0\n",
              "E3                          0\n",
              "E4                          0\n",
              "E5                          0\n",
              "F1                          0\n",
              "F2                          0\n",
              "F3                          0\n",
              "F4                          0\n",
              "F5                          0\n",
              "G1                          0\n",
              "G2                          0\n",
              "G3                          0\n",
              "G4                          0\n",
              "G5                          0\n",
              "dtype: int64"
            ]
          },
          "metadata": {},
          "execution_count": 122
        }
      ]
    },
    {
      "cell_type": "markdown",
      "source": [
        "Let us now check the columns title and purpose"
      ],
      "metadata": {
        "id": "OLJ3u8vl2h41"
      }
    },
    {
      "cell_type": "code",
      "source": [
        "df['title' ].value_counts()"
      ],
      "metadata": {
        "id": "T5Wv6XR91tG7",
        "outputId": "8b7e5629-6998-408d-c7fc-e40b4821c989",
        "colab": {
          "base_uri": "https://localhost:8080/"
        }
      },
      "execution_count": 123,
      "outputs": [
        {
          "output_type": "execute_result",
          "data": {
            "text/plain": [
              "Debt consolidation            152472\n",
              "Credit card refinancing        51487\n",
              "Home improvement               15264\n",
              "Other                          12930\n",
              "Debt Consolidation             11608\n",
              "                               ...  \n",
              "Graduation/Travel Expenses         1\n",
              "Daughter's Wedding Bill            1\n",
              "gotta move                         1\n",
              "creditcardrefi                     1\n",
              "Toxic Debt Payoff                  1\n",
              "Name: title, Length: 48817, dtype: int64"
            ]
          },
          "metadata": {},
          "execution_count": 123
        }
      ]
    },
    {
      "cell_type": "code",
      "source": [
        "df['purpose' ].value_counts()"
      ],
      "metadata": {
        "id": "8WXRDapU12rn",
        "outputId": "9c7a0d6a-adfa-4fb0-cf0e-eb8b099be3de",
        "colab": {
          "base_uri": "https://localhost:8080/"
        }
      },
      "execution_count": 124,
      "outputs": [
        {
          "output_type": "execute_result",
          "data": {
            "text/plain": [
              "debt_consolidation    234507\n",
              "credit_card            83019\n",
              "home_improvement       24030\n",
              "other                  21185\n",
              "major_purchase          8790\n",
              "small_business          5701\n",
              "car                     4697\n",
              "medical                 4196\n",
              "moving                  2854\n",
              "vacation                2452\n",
              "house                   2201\n",
              "wedding                 1812\n",
              "renewable_energy         329\n",
              "educational              257\n",
              "Name: purpose, dtype: int64"
            ]
          },
          "metadata": {},
          "execution_count": 124
        }
      ]
    },
    {
      "cell_type": "markdown",
      "source": [
        "Conclusion : Title and purpose are similar, so discard title and we will deal with purpose later"
      ],
      "metadata": {
        "id": "5WbWATfl2nr5"
      }
    },
    {
      "cell_type": "code",
      "source": [
        "df.drop('title',axis=1,inplace=True)"
      ],
      "metadata": {
        "id": "SgNAlLtn2zpN"
      },
      "execution_count": 125,
      "outputs": []
    },
    {
      "cell_type": "markdown",
      "source": [
        "Let us focus on mort_acc missing values. Let us check which which column is mort_acc highly coorelated"
      ],
      "metadata": {
        "id": "xuEeZGd5JhrL"
      }
    },
    {
      "cell_type": "code",
      "source": [
        "df.corr()['mort_acc'].sort_values(ascending=False)"
      ],
      "metadata": {
        "id": "ARQaxPb51n4-",
        "outputId": "890a1111-58c6-4329-8ead-db2e74eb26e3",
        "colab": {
          "base_uri": "https://localhost:8080/"
        }
      },
      "execution_count": 126,
      "outputs": [
        {
          "output_type": "stream",
          "name": "stderr",
          "text": [
            "<ipython-input-126-c591a4eea948>:1: FutureWarning: The default value of numeric_only in DataFrame.corr is deprecated. In a future version, it will default to False. Select only valid columns or specify the value of numeric_only to silence this warning.\n",
            "  df.corr()['mort_acc'].sort_values(ascending=False)\n"
          ]
        },
        {
          "output_type": "execute_result",
          "data": {
            "text/plain": [
              "mort_acc                1.000000\n",
              "total_acc               0.381072\n",
              "annual_inc              0.236320\n",
              "loan_amnt               0.222315\n",
              "revol_bal               0.194925\n",
              "installment             0.193694\n",
              "open_acc                0.109205\n",
              "A3                      0.037614\n",
              "A5                      0.034348\n",
              "A2                      0.033989\n",
              "A4                      0.030061\n",
              "pub_rec_bankruptcies    0.027239\n",
              "B1                      0.021905\n",
              "B2                      0.016405\n",
              "pub_rec                 0.011552\n",
              "revol_util              0.007514\n",
              "G4                      0.000573\n",
              "G3                     -0.001184\n",
              "B3                     -0.001862\n",
              "G1                     -0.002122\n",
              "B4                     -0.002867\n",
              "G5                     -0.003116\n",
              "F1                     -0.003825\n",
              "F2                     -0.004588\n",
              "F5                     -0.004676\n",
              "G2                     -0.005108\n",
              "C5                     -0.005682\n",
              "F4                     -0.006316\n",
              "E2                     -0.006473\n",
              "E4                     -0.006782\n",
              "F3                     -0.006886\n",
              "E1                     -0.007771\n",
              "E5                     -0.008251\n",
              "E3                     -0.008454\n",
              "C3                     -0.008596\n",
              "C4                     -0.010115\n",
              "C2                     -0.012216\n",
              "D5                     -0.012269\n",
              "C1                     -0.014007\n",
              "D4                     -0.014016\n",
              "B5                     -0.015348\n",
              "D3                     -0.020282\n",
              "D1                     -0.021053\n",
              "D2                     -0.022943\n",
              "dti                    -0.025439\n",
              "int_rate               -0.082583\n",
              "Name: mort_acc, dtype: float64"
            ]
          },
          "metadata": {},
          "execution_count": 126
        }
      ]
    },
    {
      "cell_type": "code",
      "source": [
        "df[['total_acc','mort_acc']]"
      ],
      "metadata": {
        "id": "lw_k4KDATVAq",
        "outputId": "16b70627-516d-4acf-a21d-fb4a023d9c5a",
        "colab": {
          "base_uri": "https://localhost:8080/",
          "height": 424
        }
      },
      "execution_count": 127,
      "outputs": [
        {
          "output_type": "execute_result",
          "data": {
            "text/plain": [
              "        total_acc  mort_acc\n",
              "0            25.0       0.0\n",
              "1            27.0       3.0\n",
              "2            26.0       0.0\n",
              "3            13.0       0.0\n",
              "4            43.0       1.0\n",
              "...           ...       ...\n",
              "396025       23.0       0.0\n",
              "396026        8.0       1.0\n",
              "396027       23.0       0.0\n",
              "396028       20.0       5.0\n",
              "396029       19.0       NaN\n",
              "\n",
              "[396030 rows x 2 columns]"
            ],
            "text/html": [
              "\n",
              "  <div id=\"df-c84041c4-3277-425f-b635-d5e4efceb600\" class=\"colab-df-container\">\n",
              "    <div>\n",
              "<style scoped>\n",
              "    .dataframe tbody tr th:only-of-type {\n",
              "        vertical-align: middle;\n",
              "    }\n",
              "\n",
              "    .dataframe tbody tr th {\n",
              "        vertical-align: top;\n",
              "    }\n",
              "\n",
              "    .dataframe thead th {\n",
              "        text-align: right;\n",
              "    }\n",
              "</style>\n",
              "<table border=\"1\" class=\"dataframe\">\n",
              "  <thead>\n",
              "    <tr style=\"text-align: right;\">\n",
              "      <th></th>\n",
              "      <th>total_acc</th>\n",
              "      <th>mort_acc</th>\n",
              "    </tr>\n",
              "  </thead>\n",
              "  <tbody>\n",
              "    <tr>\n",
              "      <th>0</th>\n",
              "      <td>25.0</td>\n",
              "      <td>0.0</td>\n",
              "    </tr>\n",
              "    <tr>\n",
              "      <th>1</th>\n",
              "      <td>27.0</td>\n",
              "      <td>3.0</td>\n",
              "    </tr>\n",
              "    <tr>\n",
              "      <th>2</th>\n",
              "      <td>26.0</td>\n",
              "      <td>0.0</td>\n",
              "    </tr>\n",
              "    <tr>\n",
              "      <th>3</th>\n",
              "      <td>13.0</td>\n",
              "      <td>0.0</td>\n",
              "    </tr>\n",
              "    <tr>\n",
              "      <th>4</th>\n",
              "      <td>43.0</td>\n",
              "      <td>1.0</td>\n",
              "    </tr>\n",
              "    <tr>\n",
              "      <th>...</th>\n",
              "      <td>...</td>\n",
              "      <td>...</td>\n",
              "    </tr>\n",
              "    <tr>\n",
              "      <th>396025</th>\n",
              "      <td>23.0</td>\n",
              "      <td>0.0</td>\n",
              "    </tr>\n",
              "    <tr>\n",
              "      <th>396026</th>\n",
              "      <td>8.0</td>\n",
              "      <td>1.0</td>\n",
              "    </tr>\n",
              "    <tr>\n",
              "      <th>396027</th>\n",
              "      <td>23.0</td>\n",
              "      <td>0.0</td>\n",
              "    </tr>\n",
              "    <tr>\n",
              "      <th>396028</th>\n",
              "      <td>20.0</td>\n",
              "      <td>5.0</td>\n",
              "    </tr>\n",
              "    <tr>\n",
              "      <th>396029</th>\n",
              "      <td>19.0</td>\n",
              "      <td>NaN</td>\n",
              "    </tr>\n",
              "  </tbody>\n",
              "</table>\n",
              "<p>396030 rows × 2 columns</p>\n",
              "</div>\n",
              "    <div class=\"colab-df-buttons\">\n",
              "\n",
              "  <div class=\"colab-df-container\">\n",
              "    <button class=\"colab-df-convert\" onclick=\"convertToInteractive('df-c84041c4-3277-425f-b635-d5e4efceb600')\"\n",
              "            title=\"Convert this dataframe to an interactive table.\"\n",
              "            style=\"display:none;\">\n",
              "\n",
              "  <svg xmlns=\"http://www.w3.org/2000/svg\" height=\"24px\" viewBox=\"0 -960 960 960\">\n",
              "    <path d=\"M120-120v-720h720v720H120Zm60-500h600v-160H180v160Zm220 220h160v-160H400v160Zm0 220h160v-160H400v160ZM180-400h160v-160H180v160Zm440 0h160v-160H620v160ZM180-180h160v-160H180v160Zm440 0h160v-160H620v160Z\"/>\n",
              "  </svg>\n",
              "    </button>\n",
              "\n",
              "  <style>\n",
              "    .colab-df-container {\n",
              "      display:flex;\n",
              "      gap: 12px;\n",
              "    }\n",
              "\n",
              "    .colab-df-convert {\n",
              "      background-color: #E8F0FE;\n",
              "      border: none;\n",
              "      border-radius: 50%;\n",
              "      cursor: pointer;\n",
              "      display: none;\n",
              "      fill: #1967D2;\n",
              "      height: 32px;\n",
              "      padding: 0 0 0 0;\n",
              "      width: 32px;\n",
              "    }\n",
              "\n",
              "    .colab-df-convert:hover {\n",
              "      background-color: #E2EBFA;\n",
              "      box-shadow: 0px 1px 2px rgba(60, 64, 67, 0.3), 0px 1px 3px 1px rgba(60, 64, 67, 0.15);\n",
              "      fill: #174EA6;\n",
              "    }\n",
              "\n",
              "    .colab-df-buttons div {\n",
              "      margin-bottom: 4px;\n",
              "    }\n",
              "\n",
              "    [theme=dark] .colab-df-convert {\n",
              "      background-color: #3B4455;\n",
              "      fill: #D2E3FC;\n",
              "    }\n",
              "\n",
              "    [theme=dark] .colab-df-convert:hover {\n",
              "      background-color: #434B5C;\n",
              "      box-shadow: 0px 1px 3px 1px rgba(0, 0, 0, 0.15);\n",
              "      filter: drop-shadow(0px 1px 2px rgba(0, 0, 0, 0.3));\n",
              "      fill: #FFFFFF;\n",
              "    }\n",
              "  </style>\n",
              "\n",
              "    <script>\n",
              "      const buttonEl =\n",
              "        document.querySelector('#df-c84041c4-3277-425f-b635-d5e4efceb600 button.colab-df-convert');\n",
              "      buttonEl.style.display =\n",
              "        google.colab.kernel.accessAllowed ? 'block' : 'none';\n",
              "\n",
              "      async function convertToInteractive(key) {\n",
              "        const element = document.querySelector('#df-c84041c4-3277-425f-b635-d5e4efceb600');\n",
              "        const dataTable =\n",
              "          await google.colab.kernel.invokeFunction('convertToInteractive',\n",
              "                                                    [key], {});\n",
              "        if (!dataTable) return;\n",
              "\n",
              "        const docLinkHtml = 'Like what you see? Visit the ' +\n",
              "          '<a target=\"_blank\" href=https://colab.research.google.com/notebooks/data_table.ipynb>data table notebook</a>'\n",
              "          + ' to learn more about interactive tables.';\n",
              "        element.innerHTML = '';\n",
              "        dataTable['output_type'] = 'display_data';\n",
              "        await google.colab.output.renderOutput(dataTable, element);\n",
              "        const docLink = document.createElement('div');\n",
              "        docLink.innerHTML = docLinkHtml;\n",
              "        element.appendChild(docLink);\n",
              "      }\n",
              "    </script>\n",
              "  </div>\n",
              "\n",
              "\n",
              "<div id=\"df-29884d6f-949f-486c-b2b5-35054d8d4cd8\">\n",
              "  <button class=\"colab-df-quickchart\" onclick=\"quickchart('df-29884d6f-949f-486c-b2b5-35054d8d4cd8')\"\n",
              "            title=\"Suggest charts\"\n",
              "            style=\"display:none;\">\n",
              "\n",
              "<svg xmlns=\"http://www.w3.org/2000/svg\" height=\"24px\"viewBox=\"0 0 24 24\"\n",
              "     width=\"24px\">\n",
              "    <g>\n",
              "        <path d=\"M19 3H5c-1.1 0-2 .9-2 2v14c0 1.1.9 2 2 2h14c1.1 0 2-.9 2-2V5c0-1.1-.9-2-2-2zM9 17H7v-7h2v7zm4 0h-2V7h2v10zm4 0h-2v-4h2v4z\"/>\n",
              "    </g>\n",
              "</svg>\n",
              "  </button>\n",
              "\n",
              "<style>\n",
              "  .colab-df-quickchart {\n",
              "      --bg-color: #E8F0FE;\n",
              "      --fill-color: #1967D2;\n",
              "      --hover-bg-color: #E2EBFA;\n",
              "      --hover-fill-color: #174EA6;\n",
              "      --disabled-fill-color: #AAA;\n",
              "      --disabled-bg-color: #DDD;\n",
              "  }\n",
              "\n",
              "  [theme=dark] .colab-df-quickchart {\n",
              "      --bg-color: #3B4455;\n",
              "      --fill-color: #D2E3FC;\n",
              "      --hover-bg-color: #434B5C;\n",
              "      --hover-fill-color: #FFFFFF;\n",
              "      --disabled-bg-color: #3B4455;\n",
              "      --disabled-fill-color: #666;\n",
              "  }\n",
              "\n",
              "  .colab-df-quickchart {\n",
              "    background-color: var(--bg-color);\n",
              "    border: none;\n",
              "    border-radius: 50%;\n",
              "    cursor: pointer;\n",
              "    display: none;\n",
              "    fill: var(--fill-color);\n",
              "    height: 32px;\n",
              "    padding: 0;\n",
              "    width: 32px;\n",
              "  }\n",
              "\n",
              "  .colab-df-quickchart:hover {\n",
              "    background-color: var(--hover-bg-color);\n",
              "    box-shadow: 0 1px 2px rgba(60, 64, 67, 0.3), 0 1px 3px 1px rgba(60, 64, 67, 0.15);\n",
              "    fill: var(--button-hover-fill-color);\n",
              "  }\n",
              "\n",
              "  .colab-df-quickchart-complete:disabled,\n",
              "  .colab-df-quickchart-complete:disabled:hover {\n",
              "    background-color: var(--disabled-bg-color);\n",
              "    fill: var(--disabled-fill-color);\n",
              "    box-shadow: none;\n",
              "  }\n",
              "\n",
              "  .colab-df-spinner {\n",
              "    border: 2px solid var(--fill-color);\n",
              "    border-color: transparent;\n",
              "    border-bottom-color: var(--fill-color);\n",
              "    animation:\n",
              "      spin 1s steps(1) infinite;\n",
              "  }\n",
              "\n",
              "  @keyframes spin {\n",
              "    0% {\n",
              "      border-color: transparent;\n",
              "      border-bottom-color: var(--fill-color);\n",
              "      border-left-color: var(--fill-color);\n",
              "    }\n",
              "    20% {\n",
              "      border-color: transparent;\n",
              "      border-left-color: var(--fill-color);\n",
              "      border-top-color: var(--fill-color);\n",
              "    }\n",
              "    30% {\n",
              "      border-color: transparent;\n",
              "      border-left-color: var(--fill-color);\n",
              "      border-top-color: var(--fill-color);\n",
              "      border-right-color: var(--fill-color);\n",
              "    }\n",
              "    40% {\n",
              "      border-color: transparent;\n",
              "      border-right-color: var(--fill-color);\n",
              "      border-top-color: var(--fill-color);\n",
              "    }\n",
              "    60% {\n",
              "      border-color: transparent;\n",
              "      border-right-color: var(--fill-color);\n",
              "    }\n",
              "    80% {\n",
              "      border-color: transparent;\n",
              "      border-right-color: var(--fill-color);\n",
              "      border-bottom-color: var(--fill-color);\n",
              "    }\n",
              "    90% {\n",
              "      border-color: transparent;\n",
              "      border-bottom-color: var(--fill-color);\n",
              "    }\n",
              "  }\n",
              "</style>\n",
              "\n",
              "  <script>\n",
              "    async function quickchart(key) {\n",
              "      const quickchartButtonEl =\n",
              "        document.querySelector('#' + key + ' button');\n",
              "      quickchartButtonEl.disabled = true;  // To prevent multiple clicks.\n",
              "      quickchartButtonEl.classList.add('colab-df-spinner');\n",
              "      try {\n",
              "        const charts = await google.colab.kernel.invokeFunction(\n",
              "            'suggestCharts', [key], {});\n",
              "      } catch (error) {\n",
              "        console.error('Error during call to suggestCharts:', error);\n",
              "      }\n",
              "      quickchartButtonEl.classList.remove('colab-df-spinner');\n",
              "      quickchartButtonEl.classList.add('colab-df-quickchart-complete');\n",
              "    }\n",
              "    (() => {\n",
              "      let quickchartButtonEl =\n",
              "        document.querySelector('#df-29884d6f-949f-486c-b2b5-35054d8d4cd8 button');\n",
              "      quickchartButtonEl.style.display =\n",
              "        google.colab.kernel.accessAllowed ? 'block' : 'none';\n",
              "    })();\n",
              "  </script>\n",
              "</div>\n",
              "    </div>\n",
              "  </div>\n"
            ],
            "application/vnd.google.colaboratory.intrinsic+json": {
              "type": "dataframe"
            }
          },
          "metadata": {},
          "execution_count": 127
        }
      ]
    },
    {
      "cell_type": "markdown",
      "source": [
        "HERAUSFORDERUNG: Lasst uns die fehlenden Werte von mort_acc basierend auf deren total_acc-Werten ersetzen. Wenn mort_acc fehlt, ersetzen wir den fehlenden Wert mit dem Durchschnitt entsprechend des total_acc-Wertes aus der oben erzeugten Series. Dies beinhaltet die Anwendung der .apply()-Methode mit zwei Spalten. Beachte den folgenden Link für mehr Informationen, oder wirf einen Blick in das Video/Lösungsnotebook."
      ],
      "metadata": {
        "id": "pBZ6_oigWudv"
      }
    },
    {
      "cell_type": "code",
      "source": [
        "print(\"Mean of mort_acc column per total_acc\")\n",
        "total_acc_avg = df.groupby('total_acc')['mort_acc'].mean()"
      ],
      "metadata": {
        "id": "aquSxSu-3fqi",
        "outputId": "284e5dd3-5621-413d-cd93-71dc23e13775",
        "colab": {
          "base_uri": "https://localhost:8080/"
        }
      },
      "execution_count": 128,
      "outputs": [
        {
          "output_type": "stream",
          "name": "stdout",
          "text": [
            "Mean of mort_acc column per total_acc\n"
          ]
        }
      ]
    },
    {
      "cell_type": "code",
      "source": [
        "total_acc_avg[19.0]"
      ],
      "metadata": {
        "colab": {
          "base_uri": "https://localhost:8080/"
        },
        "id": "7_GqmnxynuO-",
        "outputId": "5aeb502d-7352-4e0e-a898-3e2b007550d7"
      },
      "execution_count": 129,
      "outputs": [
        {
          "output_type": "execute_result",
          "data": {
            "text/plain": [
              "1.3580128970623357"
            ]
          },
          "metadata": {},
          "execution_count": 129
        }
      ]
    },
    {
      "cell_type": "code",
      "source": [
        "def fill_mort_acc(total_acc,mort_acc):\n",
        "    '''\n",
        "    Accepts the total_acc and mort_acc values for the row.\n",
        "    Checks if the mort_acc is NaN , if so, it returns the avg mort_acc value\n",
        "    for the corresponding total_acc value for that row.\n",
        "\n",
        "    total_acc_avg here should be a Series or dictionary containing the mapping of the\n",
        "    groupby averages of mort_acc per total_acc values.\n",
        "    '''\n",
        "    if np.isnan(mort_acc):\n",
        "        return total_acc_avg[total_acc]\n",
        "    else:\n",
        "        return mort_acc"
      ],
      "metadata": {
        "id": "1PMu0_QEQATr"
      },
      "execution_count": 130,
      "outputs": []
    },
    {
      "cell_type": "code",
      "source": [
        "#df['mort_acc' ] = df.apply(lambda x : fill_mort_acc(x['total_acc'], x['mort_acc' ]),axis=1 )\n",
        "df['mort_acc'] = df.apply(lambda x: fill_mort_acc(x['total_acc'], x['mort_acc']), axis=1)"
      ],
      "metadata": {
        "id": "Euo2zWM7wVeF"
      },
      "execution_count": 131,
      "outputs": []
    },
    {
      "cell_type": "code",
      "source": [
        "df.isnull().sum() / len(df)* 100"
      ],
      "metadata": {
        "id": "BWkqsdDcVMN7",
        "outputId": "279fb17f-37f8-4473-ea12-c53df39fcffc",
        "colab": {
          "base_uri": "https://localhost:8080/"
        }
      },
      "execution_count": 132,
      "outputs": [
        {
          "output_type": "execute_result",
          "data": {
            "text/plain": [
              "loan_amnt               0.000000\n",
              "term                    0.000000\n",
              "int_rate                0.000000\n",
              "installment             0.000000\n",
              "home_ownership          0.000000\n",
              "annual_inc              0.000000\n",
              "verification_status     0.000000\n",
              "issue_d                 0.000000\n",
              "loan_status             0.000000\n",
              "purpose                 0.000000\n",
              "dti                     0.000000\n",
              "earliest_cr_line        0.000000\n",
              "open_acc                0.000000\n",
              "pub_rec                 0.000000\n",
              "revol_bal               0.000000\n",
              "revol_util              0.069692\n",
              "total_acc               0.000000\n",
              "initial_list_status     0.000000\n",
              "application_type        0.000000\n",
              "mort_acc                0.000000\n",
              "pub_rec_bankruptcies    0.135091\n",
              "address                 0.000000\n",
              "A2                      0.000000\n",
              "A3                      0.000000\n",
              "A4                      0.000000\n",
              "A5                      0.000000\n",
              "B1                      0.000000\n",
              "B2                      0.000000\n",
              "B3                      0.000000\n",
              "B4                      0.000000\n",
              "B5                      0.000000\n",
              "C1                      0.000000\n",
              "C2                      0.000000\n",
              "C3                      0.000000\n",
              "C4                      0.000000\n",
              "C5                      0.000000\n",
              "D1                      0.000000\n",
              "D2                      0.000000\n",
              "D3                      0.000000\n",
              "D4                      0.000000\n",
              "D5                      0.000000\n",
              "E1                      0.000000\n",
              "E2                      0.000000\n",
              "E3                      0.000000\n",
              "E4                      0.000000\n",
              "E5                      0.000000\n",
              "F1                      0.000000\n",
              "F2                      0.000000\n",
              "F3                      0.000000\n",
              "F4                      0.000000\n",
              "F5                      0.000000\n",
              "G1                      0.000000\n",
              "G2                      0.000000\n",
              "G3                      0.000000\n",
              "G4                      0.000000\n",
              "G5                      0.000000\n",
              "dtype: float64"
            ]
          },
          "metadata": {},
          "execution_count": 132
        }
      ]
    },
    {
      "cell_type": "markdown",
      "source": [
        "revol_util              0.069692\n",
        "pub_rec_bankruptcies    0.135091\n",
        "The above two cols have null values but they are so less in perc we can just drop the null value rows"
      ],
      "metadata": {
        "id": "_GjL37X1XTOF"
      }
    },
    {
      "cell_type": "code",
      "source": [
        "df = df.dropna()"
      ],
      "metadata": {
        "id": "Vrbs3swgXiz2"
      },
      "execution_count": 133,
      "outputs": []
    },
    {
      "cell_type": "markdown",
      "source": [
        "# Kategorische Variablen und Dummyvariablen"
      ],
      "metadata": {
        "id": "mwalalKeY-9y"
      }
    },
    {
      "cell_type": "code",
      "source": [
        "df['home_ownership'].value_counts()"
      ],
      "metadata": {
        "id": "_04KXCkAYgcL",
        "colab": {
          "base_uri": "https://localhost:8080/"
        },
        "outputId": "2402d437-4cb3-48f9-a87f-9598abf872f5"
      },
      "execution_count": 134,
      "outputs": [
        {
          "output_type": "execute_result",
          "data": {
            "text/plain": [
              "MORTGAGE    198022\n",
              "RENT        159395\n",
              "OWN          37660\n",
              "OTHER          110\n",
              "NONE            29\n",
              "ANY              3\n",
              "Name: home_ownership, dtype: int64"
            ]
          },
          "metadata": {},
          "execution_count": 134
        }
      ]
    },
    {
      "cell_type": "markdown",
      "source": [
        "AUFGABE: Konvertiere diese Dummyvariablen, aber ersetze NONE und ANY mit OTHER, so dass wir nur 4 Kategorien erhalten, MORTGAGE, RENT, OWN, OTHER. Füge sie dann dem originalen DataFrame hinzu. Verwende drop_first=True und verwirf die ursprünglichen Spalten."
      ],
      "metadata": {
        "id": "E68cgB3zZqYI"
      }
    },
    {
      "cell_type": "code",
      "source": [
        "df['home_ownership'] = df['home_ownership'].apply(lambda x: 'OTHER' if x =='ANY' else x )"
      ],
      "metadata": {
        "id": "etcbApguZbJh"
      },
      "execution_count": 135,
      "outputs": []
    },
    {
      "cell_type": "code",
      "source": [
        "df['home_ownership'] = df['home_ownership'].apply(lambda x: 'OTHER' if x == 'NONE' else x )"
      ],
      "metadata": {
        "id": "fLOPlWd2bLg5"
      },
      "execution_count": 136,
      "outputs": []
    },
    {
      "cell_type": "code",
      "source": [
        "df['home_ownership'].value_counts()"
      ],
      "metadata": {
        "id": "1u3v-xo_bENf",
        "colab": {
          "base_uri": "https://localhost:8080/"
        },
        "outputId": "d54b46a2-27ca-49d1-f553-9481f6a8af3f"
      },
      "execution_count": 137,
      "outputs": [
        {
          "output_type": "execute_result",
          "data": {
            "text/plain": [
              "MORTGAGE    198022\n",
              "RENT        159395\n",
              "OWN          37660\n",
              "OTHER          142\n",
              "Name: home_ownership, dtype: int64"
            ]
          },
          "metadata": {},
          "execution_count": 137
        }
      ]
    },
    {
      "cell_type": "code",
      "source": [
        "home_ownership = pd.get_dummies(df['home_ownership'],drop_first=True)"
      ],
      "metadata": {
        "id": "tn6GDwnGbIJG"
      },
      "execution_count": 138,
      "outputs": []
    },
    {
      "cell_type": "code",
      "source": [
        "df = pd.concat([ df,home_ownership ],axis=1)"
      ],
      "metadata": {
        "id": "easuOmx_bisO"
      },
      "execution_count": 139,
      "outputs": []
    },
    {
      "cell_type": "code",
      "source": [
        "# convert term into int by extracting first 2 digits 36 or 60\n",
        "df['term'] = df['term'].apply(lambda s: int(s[:3]))\n"
      ],
      "metadata": {
        "id": "GeuxM-gbOLCs"
      },
      "execution_count": 140,
      "outputs": []
    },
    {
      "cell_type": "code",
      "source": [
        "df.info()"
      ],
      "metadata": {
        "id": "cchh4lPhbzvL",
        "colab": {
          "base_uri": "https://localhost:8080/"
        },
        "outputId": "5974d12c-cf25-49b3-9d85-36581109ead2"
      },
      "execution_count": 141,
      "outputs": [
        {
          "output_type": "stream",
          "name": "stdout",
          "text": [
            "<class 'pandas.core.frame.DataFrame'>\n",
            "Int64Index: 395219 entries, 0 to 396029\n",
            "Data columns (total 59 columns):\n",
            " #   Column                Non-Null Count   Dtype  \n",
            "---  ------                --------------   -----  \n",
            " 0   loan_amnt             395219 non-null  float64\n",
            " 1   term                  395219 non-null  int64  \n",
            " 2   int_rate              395219 non-null  float64\n",
            " 3   installment           395219 non-null  float64\n",
            " 4   home_ownership        395219 non-null  object \n",
            " 5   annual_inc            395219 non-null  float64\n",
            " 6   verification_status   395219 non-null  object \n",
            " 7   issue_d               395219 non-null  object \n",
            " 8   loan_status           395219 non-null  object \n",
            " 9   purpose               395219 non-null  object \n",
            " 10  dti                   395219 non-null  float64\n",
            " 11  earliest_cr_line      395219 non-null  object \n",
            " 12  open_acc              395219 non-null  float64\n",
            " 13  pub_rec               395219 non-null  float64\n",
            " 14  revol_bal             395219 non-null  float64\n",
            " 15  revol_util            395219 non-null  float64\n",
            " 16  total_acc             395219 non-null  float64\n",
            " 17  initial_list_status   395219 non-null  object \n",
            " 18  application_type      395219 non-null  object \n",
            " 19  mort_acc              395219 non-null  float64\n",
            " 20  pub_rec_bankruptcies  395219 non-null  float64\n",
            " 21  address               395219 non-null  object \n",
            " 22  A2                    395219 non-null  uint8  \n",
            " 23  A3                    395219 non-null  uint8  \n",
            " 24  A4                    395219 non-null  uint8  \n",
            " 25  A5                    395219 non-null  uint8  \n",
            " 26  B1                    395219 non-null  uint8  \n",
            " 27  B2                    395219 non-null  uint8  \n",
            " 28  B3                    395219 non-null  uint8  \n",
            " 29  B4                    395219 non-null  uint8  \n",
            " 30  B5                    395219 non-null  uint8  \n",
            " 31  C1                    395219 non-null  uint8  \n",
            " 32  C2                    395219 non-null  uint8  \n",
            " 33  C3                    395219 non-null  uint8  \n",
            " 34  C4                    395219 non-null  uint8  \n",
            " 35  C5                    395219 non-null  uint8  \n",
            " 36  D1                    395219 non-null  uint8  \n",
            " 37  D2                    395219 non-null  uint8  \n",
            " 38  D3                    395219 non-null  uint8  \n",
            " 39  D4                    395219 non-null  uint8  \n",
            " 40  D5                    395219 non-null  uint8  \n",
            " 41  E1                    395219 non-null  uint8  \n",
            " 42  E2                    395219 non-null  uint8  \n",
            " 43  E3                    395219 non-null  uint8  \n",
            " 44  E4                    395219 non-null  uint8  \n",
            " 45  E5                    395219 non-null  uint8  \n",
            " 46  F1                    395219 non-null  uint8  \n",
            " 47  F2                    395219 non-null  uint8  \n",
            " 48  F3                    395219 non-null  uint8  \n",
            " 49  F4                    395219 non-null  uint8  \n",
            " 50  F5                    395219 non-null  uint8  \n",
            " 51  G1                    395219 non-null  uint8  \n",
            " 52  G2                    395219 non-null  uint8  \n",
            " 53  G3                    395219 non-null  uint8  \n",
            " 54  G4                    395219 non-null  uint8  \n",
            " 55  G5                    395219 non-null  uint8  \n",
            " 56  OTHER                 395219 non-null  uint8  \n",
            " 57  OWN                   395219 non-null  uint8  \n",
            " 58  RENT                  395219 non-null  uint8  \n",
            "dtypes: float64(12), int64(1), object(9), uint8(37)\n",
            "memory usage: 83.3+ MB\n"
          ]
        }
      ]
    },
    {
      "cell_type": "code",
      "source": [
        "df.drop('home_ownership',axis=1,inplace=True)"
      ],
      "metadata": {
        "id": "XimuyJ3HbiNP"
      },
      "execution_count": 142,
      "outputs": []
    },
    {
      "cell_type": "markdown",
      "source": [
        "AUFGABE: Konvertiere die Spalten ['verification_status', 'application_type','initial_list_status','purpose'] in Dummyvariablen und füge sie dem originalen DataFrame hinzu. Setze drop_first=True und verwirf die ursprünglichen Spalten."
      ],
      "metadata": {
        "id": "xEsZIGIlhkrD"
      }
    },
    {
      "cell_type": "code",
      "source": [
        "dummies = pd.get_dummies(df[['verification_status','application_type','initial_list_status','purpose']],drop_first=True)"
      ],
      "metadata": {
        "id": "gOpI6J3ehl63"
      },
      "execution_count": 143,
      "outputs": []
    },
    {
      "cell_type": "code",
      "source": [
        "df = pd.concat([df,dummies],axis=1)\n"
      ],
      "metadata": {
        "id": "YmTNbZlIizbC"
      },
      "execution_count": 144,
      "outputs": []
    },
    {
      "cell_type": "code",
      "source": [
        "df.drop(['verification_status','application_type','initial_list_status','purpose'],axis=1,inplace=True)"
      ],
      "metadata": {
        "id": "YeG01UXAjSNu"
      },
      "execution_count": 145,
      "outputs": []
    },
    {
      "cell_type": "code",
      "source": [
        "df['issue_d'].value_counts()"
      ],
      "metadata": {
        "id": "ME992e4TeSYf",
        "colab": {
          "base_uri": "https://localhost:8080/"
        },
        "outputId": "c0002576-242a-4a04-d46b-bd0f68158564"
      },
      "execution_count": 146,
      "outputs": [
        {
          "output_type": "execute_result",
          "data": {
            "text/plain": [
              "Oct-2014    14838\n",
              "Jul-2014    12597\n",
              "Jan-2015    11701\n",
              "Dec-2013    10609\n",
              "Nov-2013    10492\n",
              "            ...  \n",
              "Jan-2008        3\n",
              "Dec-2007        2\n",
              "Oct-2007        1\n",
              "Nov-2007        1\n",
              "Aug-2007        1\n",
              "Name: issue_d, Length: 112, dtype: int64"
            ]
          },
          "metadata": {},
          "execution_count": 146
        }
      ]
    },
    {
      "cell_type": "markdown",
      "source": [
        "TASK: This would be a data overflow because using our model we don't know in advance whether a loan will be given or not. So theoretically we wouldn't have an issue_date. Delete this column.\n"
      ],
      "metadata": {
        "id": "mItdzJDzkCfG"
      }
    },
    {
      "cell_type": "code",
      "source": [
        "df.drop('issue_d',axis=1,inplace=True)"
      ],
      "metadata": {
        "id": "0S3cncgPkBVJ"
      },
      "execution_count": 147,
      "outputs": []
    },
    {
      "cell_type": "markdown",
      "source": [
        "extract zipcode from address and covert it into dummy variables"
      ],
      "metadata": {
        "id": "tl0BKUfSgJtJ"
      }
    },
    {
      "cell_type": "code",
      "source": [
        "df['zip_code'] = df['address'].apply(lambda address:address[-5:])"
      ],
      "metadata": {
        "id": "ONV8pjvAek-b"
      },
      "execution_count": 148,
      "outputs": []
    },
    {
      "cell_type": "code",
      "source": [
        "zip_code = pd.get_dummies(df['zip_code'],drop_first=True)"
      ],
      "metadata": {
        "id": "0t58InjweHtW"
      },
      "execution_count": 149,
      "outputs": []
    },
    {
      "cell_type": "code",
      "source": [
        "df=pd.concat([df,zip_code],axis=1)"
      ],
      "metadata": {
        "id": "1KkyWAsegmMo"
      },
      "execution_count": 150,
      "outputs": []
    },
    {
      "cell_type": "code",
      "source": [
        "df.drop(['zip_code','address'],axis=1,inplace=True)"
      ],
      "metadata": {
        "id": "J4d6wBD3g0ND"
      },
      "execution_count": 151,
      "outputs": []
    },
    {
      "cell_type": "code",
      "source": [
        "df['earliest_cr_line']"
      ],
      "metadata": {
        "id": "CumpkeBnkaSC",
        "colab": {
          "base_uri": "https://localhost:8080/"
        },
        "outputId": "adbd6da4-cdc6-43dd-da8b-5661631dee97"
      },
      "execution_count": 152,
      "outputs": [
        {
          "output_type": "execute_result",
          "data": {
            "text/plain": [
              "0         Jun-1990\n",
              "1         Jul-2004\n",
              "2         Aug-2007\n",
              "3         Sep-2006\n",
              "4         Mar-1999\n",
              "            ...   \n",
              "396025    Nov-2004\n",
              "396026    Feb-2006\n",
              "396027    Mar-1997\n",
              "396028    Nov-1990\n",
              "396029    Sep-1998\n",
              "Name: earliest_cr_line, Length: 395219, dtype: object"
            ]
          },
          "metadata": {},
          "execution_count": 152
        }
      ]
    },
    {
      "cell_type": "code",
      "source": [
        "feature_info('earliest_cr_line')"
      ],
      "metadata": {
        "id": "-AG_aEigkfTq",
        "colab": {
          "base_uri": "https://localhost:8080/"
        },
        "outputId": "d7df5678-6ded-481e-92df-fcb3caf71759"
      },
      "execution_count": 153,
      "outputs": [
        {
          "output_type": "stream",
          "name": "stdout",
          "text": [
            "The month the borrower's earliest reported credit line was opened\n"
          ]
        }
      ]
    },
    {
      "cell_type": "markdown",
      "source": [
        "TASK: This appears to be a historical timestamp feature. Extract the year of this feature using the .apply() function and convert it to a numeric feature. Write this data into a feature column 'earliest_cr_year' and then discard the feature earliest_cr_line."
      ],
      "metadata": {
        "id": "MKSEUd71kukf"
      }
    },
    {
      "cell_type": "code",
      "source": [
        "df['earliest_cr_line'] = pd.to_datetime(df['earliest_cr_line'])"
      ],
      "metadata": {
        "id": "PqdGb9C1k1AV"
      },
      "execution_count": 154,
      "outputs": []
    },
    {
      "cell_type": "code",
      "source": [
        "df['earliest_cr_year']=df['earliest_cr_line'].apply(lambda x : int(x.year))"
      ],
      "metadata": {
        "id": "YlRVKCRalGKy"
      },
      "execution_count": 155,
      "outputs": []
    },
    {
      "cell_type": "code",
      "source": [
        "df.drop('earliest_cr_line',axis=1,inplace=True)"
      ],
      "metadata": {
        "id": "cyLhPr6MlbMN"
      },
      "execution_count": 156,
      "outputs": []
    },
    {
      "cell_type": "code",
      "source": [
        "# convert loan_status in numeric\n",
        "df['loan_repaid' ] = df['loan_status'].apply(lambda x : 0 if x==\"Fully Paid\" else 1)"
      ],
      "metadata": {
        "id": "IEzWWvciW8gx"
      },
      "execution_count": 157,
      "outputs": []
    },
    {
      "cell_type": "code",
      "source": [
        "# drop loan_status as we have created numeric col loan_repaid\n",
        "df.drop('loan_status',axis=1,inplace=True)"
      ],
      "metadata": {
        "id": "km2jgcafl2YT"
      },
      "execution_count": 158,
      "outputs": []
    },
    {
      "cell_type": "code",
      "source": [
        "df.info()"
      ],
      "metadata": {
        "id": "KHLMmz3LhLMJ",
        "colab": {
          "base_uri": "https://localhost:8080/"
        },
        "outputId": "3edf4d07-bf33-4c83-a43d-7fb03d9304a7"
      },
      "execution_count": 159,
      "outputs": [
        {
          "output_type": "stream",
          "name": "stdout",
          "text": [
            "<class 'pandas.core.frame.DataFrame'>\n",
            "Int64Index: 395219 entries, 0 to 396029\n",
            "Data columns (total 79 columns):\n",
            " #   Column                               Non-Null Count   Dtype  \n",
            "---  ------                               --------------   -----  \n",
            " 0   loan_amnt                            395219 non-null  float64\n",
            " 1   term                                 395219 non-null  int64  \n",
            " 2   int_rate                             395219 non-null  float64\n",
            " 3   installment                          395219 non-null  float64\n",
            " 4   annual_inc                           395219 non-null  float64\n",
            " 5   dti                                  395219 non-null  float64\n",
            " 6   open_acc                             395219 non-null  float64\n",
            " 7   pub_rec                              395219 non-null  float64\n",
            " 8   revol_bal                            395219 non-null  float64\n",
            " 9   revol_util                           395219 non-null  float64\n",
            " 10  total_acc                            395219 non-null  float64\n",
            " 11  mort_acc                             395219 non-null  float64\n",
            " 12  pub_rec_bankruptcies                 395219 non-null  float64\n",
            " 13  A2                                   395219 non-null  uint8  \n",
            " 14  A3                                   395219 non-null  uint8  \n",
            " 15  A4                                   395219 non-null  uint8  \n",
            " 16  A5                                   395219 non-null  uint8  \n",
            " 17  B1                                   395219 non-null  uint8  \n",
            " 18  B2                                   395219 non-null  uint8  \n",
            " 19  B3                                   395219 non-null  uint8  \n",
            " 20  B4                                   395219 non-null  uint8  \n",
            " 21  B5                                   395219 non-null  uint8  \n",
            " 22  C1                                   395219 non-null  uint8  \n",
            " 23  C2                                   395219 non-null  uint8  \n",
            " 24  C3                                   395219 non-null  uint8  \n",
            " 25  C4                                   395219 non-null  uint8  \n",
            " 26  C5                                   395219 non-null  uint8  \n",
            " 27  D1                                   395219 non-null  uint8  \n",
            " 28  D2                                   395219 non-null  uint8  \n",
            " 29  D3                                   395219 non-null  uint8  \n",
            " 30  D4                                   395219 non-null  uint8  \n",
            " 31  D5                                   395219 non-null  uint8  \n",
            " 32  E1                                   395219 non-null  uint8  \n",
            " 33  E2                                   395219 non-null  uint8  \n",
            " 34  E3                                   395219 non-null  uint8  \n",
            " 35  E4                                   395219 non-null  uint8  \n",
            " 36  E5                                   395219 non-null  uint8  \n",
            " 37  F1                                   395219 non-null  uint8  \n",
            " 38  F2                                   395219 non-null  uint8  \n",
            " 39  F3                                   395219 non-null  uint8  \n",
            " 40  F4                                   395219 non-null  uint8  \n",
            " 41  F5                                   395219 non-null  uint8  \n",
            " 42  G1                                   395219 non-null  uint8  \n",
            " 43  G2                                   395219 non-null  uint8  \n",
            " 44  G3                                   395219 non-null  uint8  \n",
            " 45  G4                                   395219 non-null  uint8  \n",
            " 46  G5                                   395219 non-null  uint8  \n",
            " 47  OTHER                                395219 non-null  uint8  \n",
            " 48  OWN                                  395219 non-null  uint8  \n",
            " 49  RENT                                 395219 non-null  uint8  \n",
            " 50  verification_status_Source Verified  395219 non-null  uint8  \n",
            " 51  verification_status_Verified         395219 non-null  uint8  \n",
            " 52  application_type_INDIVIDUAL          395219 non-null  uint8  \n",
            " 53  application_type_JOINT               395219 non-null  uint8  \n",
            " 54  initial_list_status_w                395219 non-null  uint8  \n",
            " 55  purpose_credit_card                  395219 non-null  uint8  \n",
            " 56  purpose_debt_consolidation           395219 non-null  uint8  \n",
            " 57  purpose_educational                  395219 non-null  uint8  \n",
            " 58  purpose_home_improvement             395219 non-null  uint8  \n",
            " 59  purpose_house                        395219 non-null  uint8  \n",
            " 60  purpose_major_purchase               395219 non-null  uint8  \n",
            " 61  purpose_medical                      395219 non-null  uint8  \n",
            " 62  purpose_moving                       395219 non-null  uint8  \n",
            " 63  purpose_other                        395219 non-null  uint8  \n",
            " 64  purpose_renewable_energy             395219 non-null  uint8  \n",
            " 65  purpose_small_business               395219 non-null  uint8  \n",
            " 66  purpose_vacation                     395219 non-null  uint8  \n",
            " 67  purpose_wedding                      395219 non-null  uint8  \n",
            " 68  05113                                395219 non-null  uint8  \n",
            " 69  11650                                395219 non-null  uint8  \n",
            " 70  22690                                395219 non-null  uint8  \n",
            " 71  29597                                395219 non-null  uint8  \n",
            " 72  30723                                395219 non-null  uint8  \n",
            " 73  48052                                395219 non-null  uint8  \n",
            " 74  70466                                395219 non-null  uint8  \n",
            " 75  86630                                395219 non-null  uint8  \n",
            " 76  93700                                395219 non-null  uint8  \n",
            " 77  earliest_cr_year                     395219 non-null  int64  \n",
            " 78  loan_repaid                          395219 non-null  int64  \n",
            "dtypes: float64(12), int64(3), uint8(64)\n",
            "memory usage: 72.4 MB\n"
          ]
        }
      ]
    },
    {
      "cell_type": "markdown",
      "source": [
        "# Train Test split\n",
        "OPTIONAL: Verwende .sample() um eine Stichprobe der 490k+ Einträge zu extrahieren zur Reduktion der Trainingszeit. Schwer zu empfehlen für Rechner mit wenig RAM oder für das Training ohne GPU."
      ],
      "metadata": {
        "id": "svitDcWwmXnY"
      }
    },
    {
      "cell_type": "code",
      "source": [
        "df = df.sample(frac=0.1,random_state=101)"
      ],
      "metadata": {
        "id": "tnqRaFNMmd28"
      },
      "execution_count": 160,
      "outputs": []
    },
    {
      "cell_type": "code",
      "source": [
        "from sklearn.model_selection import train_test_split"
      ],
      "metadata": {
        "id": "OvrFypLwmovA"
      },
      "execution_count": 161,
      "outputs": []
    },
    {
      "cell_type": "code",
      "source": [
        "X = df.drop('loan_repaid',axis=1).values\n",
        "y = df['loan_repaid'].values"
      ],
      "metadata": {
        "id": "2Z9Y-ArUuWjQ"
      },
      "execution_count": 162,
      "outputs": []
    },
    {
      "cell_type": "code",
      "source": [
        "X_train, X_test, y_train, y_test = train_test_split(X,y, test_size=0.2, random_state=101)"
      ],
      "metadata": {
        "id": "5AUmQQSymvMz"
      },
      "execution_count": 163,
      "outputs": []
    },
    {
      "cell_type": "markdown",
      "source": [
        "Normalise the data using MinmaxScaler"
      ],
      "metadata": {
        "id": "YnIloudQn46t"
      }
    },
    {
      "cell_type": "code",
      "source": [
        "from sklearn.preprocessing import MinMaxScaler"
      ],
      "metadata": {
        "id": "ZQs5M6Nan-g6"
      },
      "execution_count": 164,
      "outputs": []
    },
    {
      "cell_type": "code",
      "source": [
        "scaler = MinMaxScaler()"
      ],
      "metadata": {
        "id": "cBj3wM89oEG7"
      },
      "execution_count": 165,
      "outputs": []
    },
    {
      "cell_type": "code",
      "source": [
        "X_train = scaler.fit_transform(X_train)"
      ],
      "metadata": {
        "id": "_G241S4ko8Tb"
      },
      "execution_count": 166,
      "outputs": []
    },
    {
      "cell_type": "code",
      "source": [
        "X_test = scaler.transform(X_test)"
      ],
      "metadata": {
        "id": "8ZMLHEbbpJfG"
      },
      "execution_count": 167,
      "outputs": []
    },
    {
      "cell_type": "code",
      "source": [
        "import tensorflow as tf\n",
        "from tensorflow.keras.models import Sequential\n",
        "from tensorflow.keras.layers import Dense, Activation,Dropout\n",
        "from tensorflow.keras.optimizers import Adam"
      ],
      "metadata": {
        "id": "sbBfojj5p2pL"
      },
      "execution_count": 168,
      "outputs": []
    },
    {
      "cell_type": "code",
      "source": [
        "X_train.shape , y_train.shape"
      ],
      "metadata": {
        "id": "8w6KoldZqVrP",
        "colab": {
          "base_uri": "https://localhost:8080/"
        },
        "outputId": "1af5164d-d02f-4234-b82d-6d0f770e7abf"
      },
      "execution_count": 169,
      "outputs": [
        {
          "output_type": "execute_result",
          "data": {
            "text/plain": [
              "((31617, 78), (31617,))"
            ]
          },
          "metadata": {},
          "execution_count": 169
        }
      ]
    },
    {
      "cell_type": "code",
      "source": [
        "model = Sequential()\n",
        "model.add(Dense(78, activation='relu'))\n",
        "model.add(Dropout(0.2))\n",
        "model.add(Dense(39, activation='relu'))\n",
        "model.add(Dropout(0.2))\n",
        "model.add(Dense(19, activation='relu'))\n",
        "model.add(Dropout(0.2))\n",
        "model.add(Dense(units=1,activation='sigmoid')) # as we are dealing with binary problem so sigmoid\n",
        "model.compile(optimizer ='adam',loss='binary_crossentropy')"
      ],
      "metadata": {
        "id": "AEP1bsfbqZsU"
      },
      "execution_count": 170,
      "outputs": []
    },
    {
      "cell_type": "code",
      "source": [
        "model.fit(x=X_train,\n",
        "          y=y_train,\n",
        "          epochs=25,\n",
        "          batch_size=256,\n",
        "          validation_data=(X_test, y_test),\n",
        "          )"
      ],
      "metadata": {
        "id": "RDy5v7z_rlNo",
        "colab": {
          "base_uri": "https://localhost:8080/"
        },
        "outputId": "7c662314-2408-450e-e86a-b7ca4872dfd9"
      },
      "execution_count": 171,
      "outputs": [
        {
          "output_type": "stream",
          "name": "stdout",
          "text": [
            "Epoch 1/25\n",
            "124/124 [==============================] - 3s 13ms/step - loss: 0.4948 - val_loss: 0.3543\n",
            "Epoch 2/25\n",
            "124/124 [==============================] - 1s 8ms/step - loss: 0.3421 - val_loss: 0.2926\n",
            "Epoch 3/25\n",
            "124/124 [==============================] - 1s 8ms/step - loss: 0.2979 - val_loss: 0.2796\n",
            "Epoch 4/25\n",
            "124/124 [==============================] - 1s 5ms/step - loss: 0.2850 - val_loss: 0.2770\n",
            "Epoch 5/25\n",
            "124/124 [==============================] - 1s 4ms/step - loss: 0.2766 - val_loss: 0.2750\n",
            "Epoch 6/25\n",
            "124/124 [==============================] - 1s 4ms/step - loss: 0.2743 - val_loss: 0.2737\n",
            "Epoch 7/25\n",
            "124/124 [==============================] - 1s 4ms/step - loss: 0.2719 - val_loss: 0.2750\n",
            "Epoch 8/25\n",
            "124/124 [==============================] - 1s 6ms/step - loss: 0.2679 - val_loss: 0.2721\n",
            "Epoch 9/25\n",
            "124/124 [==============================] - 1s 6ms/step - loss: 0.2656 - val_loss: 0.2721\n",
            "Epoch 10/25\n",
            "124/124 [==============================] - 2s 12ms/step - loss: 0.2652 - val_loss: 0.2717\n",
            "Epoch 11/25\n",
            "124/124 [==============================] - 2s 13ms/step - loss: 0.2634 - val_loss: 0.2708\n",
            "Epoch 12/25\n",
            "124/124 [==============================] - 1s 6ms/step - loss: 0.2630 - val_loss: 0.2715\n",
            "Epoch 13/25\n",
            "124/124 [==============================] - 0s 4ms/step - loss: 0.2613 - val_loss: 0.2719\n",
            "Epoch 14/25\n",
            "124/124 [==============================] - 0s 3ms/step - loss: 0.2606 - val_loss: 0.2709\n",
            "Epoch 15/25\n",
            "124/124 [==============================] - 0s 4ms/step - loss: 0.2594 - val_loss: 0.2711\n",
            "Epoch 16/25\n",
            "124/124 [==============================] - 1s 6ms/step - loss: 0.2586 - val_loss: 0.2706\n",
            "Epoch 17/25\n",
            "124/124 [==============================] - 1s 6ms/step - loss: 0.2564 - val_loss: 0.2721\n",
            "Epoch 18/25\n",
            "124/124 [==============================] - 1s 6ms/step - loss: 0.2561 - val_loss: 0.2731\n",
            "Epoch 19/25\n",
            "124/124 [==============================] - 1s 8ms/step - loss: 0.2567 - val_loss: 0.2708\n",
            "Epoch 20/25\n",
            "124/124 [==============================] - 1s 5ms/step - loss: 0.2545 - val_loss: 0.2732\n",
            "Epoch 21/25\n",
            "124/124 [==============================] - 1s 7ms/step - loss: 0.2548 - val_loss: 0.2732\n",
            "Epoch 22/25\n",
            "124/124 [==============================] - 1s 6ms/step - loss: 0.2539 - val_loss: 0.2734\n",
            "Epoch 23/25\n",
            "124/124 [==============================] - 1s 5ms/step - loss: 0.2525 - val_loss: 0.2744\n",
            "Epoch 24/25\n",
            "124/124 [==============================] - 1s 5ms/step - loss: 0.2520 - val_loss: 0.2727\n",
            "Epoch 25/25\n",
            "124/124 [==============================] - 0s 4ms/step - loss: 0.2519 - val_loss: 0.2723\n"
          ]
        },
        {
          "output_type": "execute_result",
          "data": {
            "text/plain": [
              "<keras.src.callbacks.History at 0x7a9fa7c68b20>"
            ]
          },
          "metadata": {},
          "execution_count": 171
        }
      ]
    },
    {
      "cell_type": "code",
      "source": [
        "losses = pd.DataFrame(model.history.history)"
      ],
      "metadata": {
        "id": "PK-Lh3U9qrPu"
      },
      "execution_count": 172,
      "outputs": []
    },
    {
      "cell_type": "code",
      "source": [
        "losses[['loss','val_loss']].plot()"
      ],
      "metadata": {
        "id": "jIAokxtAunbA",
        "colab": {
          "base_uri": "https://localhost:8080/",
          "height": 448
        },
        "outputId": "3cca152f-8bfd-4998-cb7e-c412117bb881"
      },
      "execution_count": 173,
      "outputs": [
        {
          "output_type": "execute_result",
          "data": {
            "text/plain": [
              "<Axes: >"
            ]
          },
          "metadata": {},
          "execution_count": 173
        },
        {
          "output_type": "display_data",
          "data": {
            "text/plain": [
              "<Figure size 640x480 with 1 Axes>"
            ],
            "image/png": "[encoded data removed]"
          },
          "metadata": {}
        }
      ]
    },
    {
      "cell_type": "markdown",
      "source": [
        "Save Model and predict for new customer if you give credit or not"
      ],
      "metadata": {
        "id": "YhyScMaJrxyD"
      }
    },
    {
      "cell_type": "code",
      "source": [
        "from tensorflow.keras.models import load_model\n",
        "model.save('full_data_project_model.h5')"
      ],
      "metadata": {
        "colab": {
          "base_uri": "https://localhost:8080/"
        },
        "id": "GvBqnCnGrPBG",
        "outputId": "aa77e440-a6f6-448e-bf74-3f8a7a253106"
      },
      "execution_count": 177,
      "outputs": [
        {
          "output_type": "stream",
          "name": "stderr",
          "text": [
            "/usr/local/lib/python3.10/dist-packages/keras/src/engine/training.py:3103: UserWarning: You are saving your model as an HDF5 file via `model.save()`. This file format is considered legacy. We recommend using instead the native Keras format, e.g. `model.save('my_model.keras')`.\n",
            "  saving_api.save_model(\n"
          ]
        }
      ]
    },
    {
      "cell_type": "markdown",
      "source": [
        "# Abschnitt 3: Evaluation der Leistung des Modells\n",
        "\n",
        "**AUFGABE: Plotte den loss der Validierung gegen den loss des Trainings.**"
      ],
      "metadata": {
        "id": "_n1zSMquruPl"
      }
    },
    {
      "cell_type": "code",
      "source": [],
      "metadata": {
        "id": "XpRciP-xru2V"
      },
      "execution_count": null,
      "outputs": []
    },
    {
      "cell_type": "markdown",
      "source": [],
      "metadata": {
        "id": "rNvs5HDQvlYD"
      }
    },
    {
      "cell_type": "code",
      "source": [],
      "metadata": {
        "id": "tMBCDllrvEAm"
      },
      "execution_count": 173,
      "outputs": []
    },
    {
      "cell_type": "code",
      "source": [],
      "metadata": {
        "id": "EvoF2v6uu285"
      },
      "execution_count": 173,
      "outputs": []
    },
    {
      "cell_type": "code",
      "source": [],
      "metadata": {
        "id": "W24WEOlHuvjs"
      },
      "execution_count": 173,
      "outputs": []
    },
    {
      "cell_type": "code",
      "source": [],
      "metadata": {
        "id": "vYoJHP9Jus3O"
      },
      "execution_count": 173,
      "outputs": []
    },
    {
      "cell_type": "code",
      "source": [],
      "metadata": {
        "id": "5dooWol6upyj"
      },
      "execution_count": 173,
      "outputs": []
    },
    {
      "cell_type": "code",
      "source": [],
      "metadata": {
        "id": "in8K1RBlukCz"
      },
      "execution_count": 173,
      "outputs": []
    },
    {
      "cell_type": "code",
      "source": [],
      "metadata": {
        "id": "Su7s_OquqohD"
      },
      "execution_count": 173,
      "outputs": []
    },
    {
      "cell_type": "code",
      "source": [],
      "metadata": {
        "id": "nWIjWqfRqdKI"
      },
      "execution_count": 173,
      "outputs": []
    },
    {
      "cell_type": "code",
      "source": [],
      "metadata": {
        "id": "tTbo-0n9qD9m"
      },
      "execution_count": 173,
      "outputs": []
    },
    {
      "cell_type": "code",
      "source": [],
      "metadata": {
        "id": "qtygxuvvpgEI"
      },
      "execution_count": 173,
      "outputs": []
    },
    {
      "cell_type": "code",
      "source": [],
      "metadata": {
        "id": "CC7dtiN_pU3l"
      },
      "execution_count": 173,
      "outputs": []
    },
    {
      "cell_type": "code",
      "source": [],
      "metadata": {
        "id": "2sTA_R5qnk65"
      },
      "execution_count": 173,
      "outputs": []
    },
    {
      "cell_type": "code",
      "source": [],
      "metadata": {
        "id": "RP7mI2vQhGnP"
      },
      "execution_count": 173,
      "outputs": []
    },
    {
      "cell_type": "code",
      "source": [],
      "metadata": {
        "id": "f60Lr6FKe6N-"
      },
      "execution_count": 173,
      "outputs": []
    },
    {
      "cell_type": "code",
      "source": [],
      "metadata": {
        "id": "d4Ayvp70dsbD"
      },
      "execution_count": 173,
      "outputs": []
    },
    {
      "cell_type": "code",
      "source": [],
      "metadata": {
        "id": "ctkJc-QIdV2G"
      },
      "execution_count": 173,
      "outputs": []
    },
    {
      "cell_type": "code",
      "source": [],
      "metadata": {
        "id": "ku1yPuYEdRW6"
      },
      "execution_count": 173,
      "outputs": []
    },
    {
      "cell_type": "code",
      "source": [],
      "metadata": {
        "id": "ooO-raSKdPNC"
      },
      "execution_count": 173,
      "outputs": []
    },
    {
      "cell_type": "code",
      "source": [],
      "metadata": {
        "id": "isaM9_YCdJwJ"
      },
      "execution_count": 173,
      "outputs": []
    },
    {
      "cell_type": "code",
      "source": [],
      "metadata": {
        "id": "M-ohDpsMdH4f"
      },
      "execution_count": 173,
      "outputs": []
    },
    {
      "cell_type": "code",
      "source": [],
      "metadata": {
        "id": "miyA3ko2cxCq"
      },
      "execution_count": 173,
      "outputs": []
    },
    {
      "cell_type": "code",
      "source": [
        "df.drop('')"
      ],
      "metadata": {
        "id": "qVQ8RYVhbbMS",
        "colab": {
          "base_uri": "https://localhost:8080/",
          "height": 293
        },
        "outputId": "c79ad0b0-e773-4262-9bdb-91a2f07d5793"
      },
      "execution_count": 174,
      "outputs": [
        {
          "output_type": "error",
          "ename": "KeyError",
          "evalue": "\"[''] not found in axis\"",
          "traceback": [
            "\u001b[0;31m---------------------------------------------------------------------------\u001b[0m",
            "\u001b[0;31mKeyError\u001b[0m                                  Traceback (most recent call last)",
            "\u001b[0;32m<ipython-input-174-9500d7a06cc1>\u001b[0m in \u001b[0;36m<cell line: 1>\u001b[0;34m()\u001b[0m\n\u001b[0;32m----> 1\u001b[0;31m \u001b[0mdf\u001b[0m\u001b[0;34m.\u001b[0m\u001b[0mdrop\u001b[0m\u001b[0;34m(\u001b[0m\u001b[0;34m''\u001b[0m\u001b[0;34m)\u001b[0m\u001b[0;34m\u001b[0m\u001b[0;34m\u001b[0m\u001b[0m\n\u001b[0m",
            "\u001b[0;32m/usr/local/lib/python3.10/dist-packages/pandas/util/_decorators.py\u001b[0m in \u001b[0;36mwrapper\u001b[0;34m(*args, **kwargs)\u001b[0m\n\u001b[1;32m    329\u001b[0m                     \u001b[0mstacklevel\u001b[0m\u001b[0;34m=\u001b[0m\u001b[0mfind_stack_level\u001b[0m\u001b[0;34m(\u001b[0m\u001b[0;34m)\u001b[0m\u001b[0;34m,\u001b[0m\u001b[0;34m\u001b[0m\u001b[0;34m\u001b[0m\u001b[0m\n\u001b[1;32m    330\u001b[0m                 )\n\u001b[0;32m--> 331\u001b[0;31m             \u001b[0;32mreturn\u001b[0m \u001b[0mfunc\u001b[0m\u001b[0;34m(\u001b[0m\u001b[0;34m*\u001b[0m\u001b[0margs\u001b[0m\u001b[0;34m,\u001b[0m \u001b[0;34m**\u001b[0m\u001b[0mkwargs\u001b[0m\u001b[0;34m)\u001b[0m\u001b[0;34m\u001b[0m\u001b[0;34m\u001b[0m\u001b[0m\n\u001b[0m\u001b[1;32m    332\u001b[0m \u001b[0;34m\u001b[0m\u001b[0m\n\u001b[1;32m    333\u001b[0m         \u001b[0;31m# error: \"Callable[[VarArg(Any), KwArg(Any)], Any]\" has no\u001b[0m\u001b[0;34m\u001b[0m\u001b[0;34m\u001b[0m\u001b[0m\n",
            "\u001b[0;32m/usr/local/lib/python3.10/dist-packages/pandas/core/frame.py\u001b[0m in \u001b[0;36mdrop\u001b[0;34m(self, labels, axis, index, columns, level, inplace, errors)\u001b[0m\n\u001b[1;32m   5397\u001b[0m                 \u001b[0mweight\u001b[0m  \u001b[0;36m1.0\u001b[0m     \u001b[0;36m0.8\u001b[0m\u001b[0;34m\u001b[0m\u001b[0;34m\u001b[0m\u001b[0m\n\u001b[1;32m   5398\u001b[0m         \"\"\"\n\u001b[0;32m-> 5399\u001b[0;31m         return super().drop(\n\u001b[0m\u001b[1;32m   5400\u001b[0m             \u001b[0mlabels\u001b[0m\u001b[0;34m=\u001b[0m\u001b[0mlabels\u001b[0m\u001b[0;34m,\u001b[0m\u001b[0;34m\u001b[0m\u001b[0;34m\u001b[0m\u001b[0m\n\u001b[1;32m   5401\u001b[0m             \u001b[0maxis\u001b[0m\u001b[0;34m=\u001b[0m\u001b[0maxis\u001b[0m\u001b[0;34m,\u001b[0m\u001b[0;34m\u001b[0m\u001b[0;34m\u001b[0m\u001b[0m\n",
            "\u001b[0;32m/usr/local/lib/python3.10/dist-packages/pandas/util/_decorators.py\u001b[0m in \u001b[0;36mwrapper\u001b[0;34m(*args, **kwargs)\u001b[0m\n\u001b[1;32m    329\u001b[0m                     \u001b[0mstacklevel\u001b[0m\u001b[0;34m=\u001b[0m\u001b[0mfind_stack_level\u001b[0m\u001b[0;34m(\u001b[0m\u001b[0;34m)\u001b[0m\u001b[0;34m,\u001b[0m\u001b[0;34m\u001b[0m\u001b[0;34m\u001b[0m\u001b[0m\n\u001b[1;32m    330\u001b[0m                 )\n\u001b[0;32m--> 331\u001b[0;31m             \u001b[0;32mreturn\u001b[0m \u001b[0mfunc\u001b[0m\u001b[0;34m(\u001b[0m\u001b[0;34m*\u001b[0m\u001b[0margs\u001b[0m\u001b[0;34m,\u001b[0m \u001b[0;34m**\u001b[0m\u001b[0mkwargs\u001b[0m\u001b[0;34m)\u001b[0m\u001b[0;34m\u001b[0m\u001b[0;34m\u001b[0m\u001b[0m\n\u001b[0m\u001b[1;32m    332\u001b[0m \u001b[0;34m\u001b[0m\u001b[0m\n\u001b[1;32m    333\u001b[0m         \u001b[0;31m# error: \"Callable[[VarArg(Any), KwArg(Any)], Any]\" has no\u001b[0m\u001b[0;34m\u001b[0m\u001b[0;34m\u001b[0m\u001b[0m\n",
            "\u001b[0;32m/usr/local/lib/python3.10/dist-packages/pandas/core/generic.py\u001b[0m in \u001b[0;36mdrop\u001b[0;34m(self, labels, axis, index, columns, level, inplace, errors)\u001b[0m\n\u001b[1;32m   4503\u001b[0m         \u001b[0;32mfor\u001b[0m \u001b[0maxis\u001b[0m\u001b[0;34m,\u001b[0m \u001b[0mlabels\u001b[0m \u001b[0;32min\u001b[0m \u001b[0maxes\u001b[0m\u001b[0;34m.\u001b[0m\u001b[0mitems\u001b[0m\u001b[0;34m(\u001b[0m\u001b[0;34m)\u001b[0m\u001b[0;34m:\u001b[0m\u001b[0;34m\u001b[0m\u001b[0;34m\u001b[0m\u001b[0m\n\u001b[1;32m   4504\u001b[0m             \u001b[0;32mif\u001b[0m \u001b[0mlabels\u001b[0m \u001b[0;32mis\u001b[0m \u001b[0;32mnot\u001b[0m \u001b[0;32mNone\u001b[0m\u001b[0;34m:\u001b[0m\u001b[0;34m\u001b[0m\u001b[0;34m\u001b[0m\u001b[0m\n\u001b[0;32m-> 4505\u001b[0;31m                 \u001b[0mobj\u001b[0m \u001b[0;34m=\u001b[0m \u001b[0mobj\u001b[0m\u001b[0;34m.\u001b[0m\u001b[0m_drop_axis\u001b[0m\u001b[0;34m(\u001b[0m\u001b[0mlabels\u001b[0m\u001b[0;34m,\u001b[0m \u001b[0maxis\u001b[0m\u001b[0;34m,\u001b[0m \u001b[0mlevel\u001b[0m\u001b[0;34m=\u001b[0m\u001b[0mlevel\u001b[0m\u001b[0;34m,\u001b[0m \u001b[0merrors\u001b[0m\u001b[0;34m=\u001b[0m\u001b[0merrors\u001b[0m\u001b[0;34m)\u001b[0m\u001b[0;34m\u001b[0m\u001b[0;34m\u001b[0m\u001b[0m\n\u001b[0m\u001b[1;32m   4506\u001b[0m \u001b[0;34m\u001b[0m\u001b[0m\n\u001b[1;32m   4507\u001b[0m         \u001b[0;32mif\u001b[0m \u001b[0minplace\u001b[0m\u001b[0;34m:\u001b[0m\u001b[0;34m\u001b[0m\u001b[0;34m\u001b[0m\u001b[0m\n",
            "\u001b[0;32m/usr/local/lib/python3.10/dist-packages/pandas/core/generic.py\u001b[0m in \u001b[0;36m_drop_axis\u001b[0;34m(self, labels, axis, level, errors, only_slice)\u001b[0m\n\u001b[1;32m   4544\u001b[0m                 \u001b[0mnew_axis\u001b[0m \u001b[0;34m=\u001b[0m \u001b[0maxis\u001b[0m\u001b[0;34m.\u001b[0m\u001b[0mdrop\u001b[0m\u001b[0;34m(\u001b[0m\u001b[0mlabels\u001b[0m\u001b[0;34m,\u001b[0m \u001b[0mlevel\u001b[0m\u001b[0;34m=\u001b[0m\u001b[0mlevel\u001b[0m\u001b[0;34m,\u001b[0m \u001b[0merrors\u001b[0m\u001b[0;34m=\u001b[0m\u001b[0merrors\u001b[0m\u001b[0;34m)\u001b[0m\u001b[0;34m\u001b[0m\u001b[0;34m\u001b[0m\u001b[0m\n\u001b[1;32m   4545\u001b[0m             \u001b[0;32melse\u001b[0m\u001b[0;34m:\u001b[0m\u001b[0;34m\u001b[0m\u001b[0;34m\u001b[0m\u001b[0m\n\u001b[0;32m-> 4546\u001b[0;31m                 \u001b[0mnew_axis\u001b[0m \u001b[0;34m=\u001b[0m \u001b[0maxis\u001b[0m\u001b[0;34m.\u001b[0m\u001b[0mdrop\u001b[0m\u001b[0;34m(\u001b[0m\u001b[0mlabels\u001b[0m\u001b[0;34m,\u001b[0m \u001b[0merrors\u001b[0m\u001b[0;34m=\u001b[0m\u001b[0merrors\u001b[0m\u001b[0;34m)\u001b[0m\u001b[0;34m\u001b[0m\u001b[0;34m\u001b[0m\u001b[0m\n\u001b[0m\u001b[1;32m   4547\u001b[0m             \u001b[0mindexer\u001b[0m \u001b[0;34m=\u001b[0m \u001b[0maxis\u001b[0m\u001b[0;34m.\u001b[0m\u001b[0mget_indexer\u001b[0m\u001b[0;34m(\u001b[0m\u001b[0mnew_axis\u001b[0m\u001b[0;34m)\u001b[0m\u001b[0;34m\u001b[0m\u001b[0;34m\u001b[0m\u001b[0m\n\u001b[1;32m   4548\u001b[0m \u001b[0;34m\u001b[0m\u001b[0m\n",
            "\u001b[0;32m/usr/local/lib/python3.10/dist-packages/pandas/core/indexes/base.py\u001b[0m in \u001b[0;36mdrop\u001b[0;34m(self, labels, errors)\u001b[0m\n\u001b[1;32m   6932\u001b[0m         \u001b[0;32mif\u001b[0m \u001b[0mmask\u001b[0m\u001b[0;34m.\u001b[0m\u001b[0many\u001b[0m\u001b[0;34m(\u001b[0m\u001b[0;34m)\u001b[0m\u001b[0;34m:\u001b[0m\u001b[0;34m\u001b[0m\u001b[0;34m\u001b[0m\u001b[0m\n\u001b[1;32m   6933\u001b[0m             \u001b[0;32mif\u001b[0m \u001b[0merrors\u001b[0m \u001b[0;34m!=\u001b[0m \u001b[0;34m\"ignore\"\u001b[0m\u001b[0;34m:\u001b[0m\u001b[0;34m\u001b[0m\u001b[0;34m\u001b[0m\u001b[0m\n\u001b[0;32m-> 6934\u001b[0;31m                 \u001b[0;32mraise\u001b[0m \u001b[0mKeyError\u001b[0m\u001b[0;34m(\u001b[0m\u001b[0;34mf\"{list(labels[mask])} not found in axis\"\u001b[0m\u001b[0;34m)\u001b[0m\u001b[0;34m\u001b[0m\u001b[0;34m\u001b[0m\u001b[0m\n\u001b[0m\u001b[1;32m   6935\u001b[0m             \u001b[0mindexer\u001b[0m \u001b[0;34m=\u001b[0m \u001b[0mindexer\u001b[0m\u001b[0;34m[\u001b[0m\u001b[0;34m~\u001b[0m\u001b[0mmask\u001b[0m\u001b[0;34m]\u001b[0m\u001b[0;34m\u001b[0m\u001b[0;34m\u001b[0m\u001b[0m\n\u001b[1;32m   6936\u001b[0m         \u001b[0;32mreturn\u001b[0m \u001b[0mself\u001b[0m\u001b[0;34m.\u001b[0m\u001b[0mdelete\u001b[0m\u001b[0;34m(\u001b[0m\u001b[0mindexer\u001b[0m\u001b[0;34m)\u001b[0m\u001b[0;34m\u001b[0m\u001b[0;34m\u001b[0m\u001b[0m\n",
            "\u001b[0;31mKeyError\u001b[0m: \"[''] not found in axis\""
          ]
        }
      ]
    },
    {
      "cell_type": "code",
      "source": [],
      "metadata": {
        "id": "7-2K3M3vaztt"
      },
      "execution_count": null,
      "outputs": []
    },
    {
      "cell_type": "code",
      "source": [],
      "metadata": {
        "id": "ZlVXt9RCawfm"
      },
      "execution_count": null,
      "outputs": []
    },
    {
      "cell_type": "code",
      "source": [],
      "metadata": {
        "id": "ytayTIvIaP7V"
      },
      "execution_count": null,
      "outputs": []
    },
    {
      "cell_type": "code",
      "source": [],
      "metadata": {
        "id": "S_3o5IkpaJ6K"
      },
      "execution_count": null,
      "outputs": []
    },
    {
      "cell_type": "code",
      "source": [],
      "metadata": {
        "id": "fl9sELlBaHdv"
      },
      "execution_count": null,
      "outputs": []
    },
    {
      "cell_type": "code",
      "source": [],
      "metadata": {
        "id": "V8szfTuXZ7ch"
      },
      "execution_count": null,
      "outputs": []
    },
    {
      "cell_type": "code",
      "source": [],
      "metadata": {
        "id": "3SGpTHOWZY9m"
      },
      "execution_count": null,
      "outputs": []
    },
    {
      "cell_type": "code",
      "source": [],
      "metadata": {
        "id": "Bp7-clM5YTrq"
      },
      "execution_count": null,
      "outputs": []
    },
    {
      "cell_type": "code",
      "source": [],
      "metadata": {
        "id": "frr6B9jUYR65"
      },
      "execution_count": null,
      "outputs": []
    },
    {
      "cell_type": "code",
      "source": [],
      "metadata": {
        "id": "kysfJEH6X7t3"
      },
      "execution_count": null,
      "outputs": []
    },
    {
      "cell_type": "code",
      "source": [],
      "metadata": {
        "id": "EYBSbsW-X6Vd"
      },
      "execution_count": null,
      "outputs": []
    },
    {
      "cell_type": "code",
      "source": [],
      "metadata": {
        "id": "p4-3vEHcXnzk"
      },
      "execution_count": null,
      "outputs": []
    },
    {
      "cell_type": "code",
      "source": [],
      "metadata": {
        "id": "3FtCwoSPXfQq"
      },
      "execution_count": null,
      "outputs": []
    },
    {
      "cell_type": "code",
      "source": [],
      "metadata": {
        "id": "R-GC6Q7HXNg2"
      },
      "execution_count": null,
      "outputs": []
    },
    {
      "cell_type": "code",
      "source": [],
      "metadata": {
        "id": "WBd1wiBtXI1n"
      },
      "execution_count": null,
      "outputs": []
    },
    {
      "cell_type": "code",
      "source": [],
      "metadata": {
        "id": "iz5irVG-WJxh"
      },
      "execution_count": null,
      "outputs": []
    },
    {
      "cell_type": "code",
      "source": [],
      "metadata": {
        "id": "ydgrJZWHWIUX"
      },
      "execution_count": null,
      "outputs": []
    },
    {
      "cell_type": "code",
      "source": [],
      "metadata": {
        "id": "SzPlcWGqUYE9"
      },
      "execution_count": null,
      "outputs": []
    },
    {
      "cell_type": "code",
      "source": [],
      "metadata": {
        "id": "32TmPw0DTNMN"
      },
      "execution_count": null,
      "outputs": []
    },
    {
      "cell_type": "code",
      "source": [],
      "metadata": {
        "id": "n95RxuN6S6XE"
      },
      "execution_count": null,
      "outputs": []
    },
    {
      "cell_type": "code",
      "source": [],
      "metadata": {
        "id": "xvuHPpgRwT8z"
      },
      "execution_count": null,
      "outputs": []
    },
    {
      "cell_type": "code",
      "source": [],
      "metadata": {
        "id": "_YQu9gIuv-V5"
      },
      "execution_count": null,
      "outputs": []
    },
    {
      "cell_type": "code",
      "source": [],
      "metadata": {
        "id": "mQ0mkwSfvvLV"
      },
      "execution_count": null,
      "outputs": []
    },
    {
      "cell_type": "code",
      "source": [],
      "metadata": {
        "id": "pfPFrigevdOg"
      },
      "execution_count": null,
      "outputs": []
    },
    {
      "cell_type": "code",
      "source": [],
      "metadata": {
        "id": "TLvSdqgRvYAe"
      },
      "execution_count": null,
      "outputs": []
    },
    {
      "cell_type": "code",
      "source": [],
      "metadata": {
        "id": "enLNjUM2vTXZ"
      },
      "execution_count": null,
      "outputs": []
    },
    {
      "cell_type": "code",
      "source": [],
      "metadata": {
        "id": "bGVultIfvPw2"
      },
      "execution_count": null,
      "outputs": []
    },
    {
      "cell_type": "code",
      "source": [],
      "metadata": {
        "id": "NyxlhnbgvF7z"
      },
      "execution_count": null,
      "outputs": []
    },
    {
      "cell_type": "code",
      "source": [],
      "metadata": {
        "id": "hbTtuNiCu9yK"
      },
      "execution_count": null,
      "outputs": []
    },
    {
      "cell_type": "code",
      "source": [],
      "metadata": {
        "id": "BxI7VXN1pSY7"
      },
      "execution_count": null,
      "outputs": []
    },
    {
      "cell_type": "code",
      "source": [],
      "metadata": {
        "id": "7XvKtwRVpLJE"
      },
      "execution_count": null,
      "outputs": []
    },
    {
      "cell_type": "code",
      "source": [],
      "metadata": {
        "id": "EAqLFnCLpBxk"
      },
      "execution_count": null,
      "outputs": []
    },
    {
      "cell_type": "code",
      "source": [],
      "metadata": {
        "id": "9bHqCju_o3qK"
      },
      "execution_count": null,
      "outputs": []
    },
    {
      "cell_type": "code",
      "source": [],
      "metadata": {
        "id": "tkvAu-DXo0HE"
      },
      "execution_count": null,
      "outputs": []
    },
    {
      "cell_type": "code",
      "source": [],
      "metadata": {
        "id": "_y9zWELam5cD"
      },
      "execution_count": null,
      "outputs": []
    },
    {
      "cell_type": "code",
      "source": [],
      "metadata": {
        "id": "htrELmTSm04V"
      },
      "execution_count": null,
      "outputs": []
    },
    {
      "cell_type": "code",
      "source": [],
      "metadata": {
        "id": "MCm7kOU3mm5e"
      },
      "execution_count": null,
      "outputs": []
    },
    {
      "cell_type": "code",
      "source": [],
      "metadata": {
        "id": "eIdys7a1mgPv"
      },
      "execution_count": null,
      "outputs": []
    },
    {
      "cell_type": "code",
      "source": [],
      "metadata": {
        "id": "Ub66960mmc4S"
      },
      "execution_count": null,
      "outputs": []
    },
    {
      "cell_type": "code",
      "source": [],
      "metadata": {
        "id": "JPqBbDkAmYHI"
      },
      "execution_count": null,
      "outputs": []
    },
    {
      "cell_type": "code",
      "source": [],
      "metadata": {
        "id": "TATLikIhmRod"
      },
      "execution_count": null,
      "outputs": []
    },
    {
      "cell_type": "code",
      "source": [],
      "metadata": {
        "id": "SvaUqxHDmMVn"
      },
      "execution_count": null,
      "outputs": []
    },
    {
      "cell_type": "code",
      "source": [],
      "metadata": {
        "id": "aahDBey3mKs2"
      },
      "execution_count": null,
      "outputs": []
    },
    {
      "cell_type": "code",
      "source": [],
      "metadata": {
        "id": "NZawS9aul-Tu"
      },
      "execution_count": null,
      "outputs": []
    },
    {
      "cell_type": "code",
      "source": [],
      "metadata": {
        "id": "Cn9oO1CIlxMh"
      },
      "execution_count": null,
      "outputs": []
    },
    {
      "cell_type": "code",
      "source": [],
      "metadata": {
        "id": "Go_HaVaElnYs"
      },
      "execution_count": null,
      "outputs": []
    },
    {
      "cell_type": "code",
      "source": [],
      "metadata": {
        "id": "qYtK2Y3AllDz"
      },
      "execution_count": null,
      "outputs": []
    },
    {
      "cell_type": "code",
      "source": [],
      "metadata": {
        "id": "IhB5Hbd3ldfm"
      },
      "execution_count": null,
      "outputs": []
    },
    {
      "cell_type": "code",
      "source": [],
      "metadata": {
        "id": "ZrT-zwG7lWy6"
      },
      "execution_count": null,
      "outputs": []
    },
    {
      "cell_type": "code",
      "source": [
        "df['loan_repaid']"
      ],
      "metadata": {
        "id": "7EkSDX_jlETW"
      },
      "execution_count": null,
      "outputs": []
    },
    {
      "cell_type": "code",
      "source": [],
      "metadata": {
        "id": "zhY-8ZxDlMgX"
      },
      "execution_count": null,
      "outputs": []
    },
    {
      "cell_type": "code",
      "source": [],
      "metadata": {
        "id": "hwBn5-X1lATe"
      },
      "execution_count": null,
      "outputs": []
    },
    {
      "cell_type": "code",
      "source": [
        "df.isnull().sum() / len(df) *100"
      ],
      "metadata": {
        "id": "6kwVUbdLj7Yk"
      },
      "execution_count": null,
      "outputs": []
    },
    {
      "cell_type": "code",
      "source": [
        "'10+ years'[:3]\n"
      ],
      "metadata": {
        "id": "3T6yhk28QSyz"
      },
      "execution_count": null,
      "outputs": []
    },
    {
      "cell_type": "code",
      "source": [
        "'1 year'[:3]"
      ],
      "metadata": {
        "id": "XWLsIQI0ifn4"
      },
      "execution_count": null,
      "outputs": []
    },
    {
      "cell_type": "code",
      "source": [],
      "metadata": {
        "id": "cLz93ERiip5L"
      },
      "execution_count": null,
      "outputs": []
    },
    {
      "cell_type": "code",
      "source": [],
      "metadata": {
        "id": "G1UnIDFMieJj"
      },
      "execution_count": null,
      "outputs": []
    },
    {
      "cell_type": "code",
      "source": [],
      "metadata": {
        "id": "abREAXiKiTq_"
      },
      "execution_count": null,
      "outputs": []
    },
    {
      "cell_type": "code",
      "source": [],
      "metadata": {
        "id": "XVokTaoRiMYX"
      },
      "execution_count": null,
      "outputs": []
    },
    {
      "cell_type": "code",
      "source": [],
      "metadata": {
        "id": "NjneRGMXiJsM"
      },
      "execution_count": null,
      "outputs": []
    },
    {
      "cell_type": "code",
      "source": [],
      "metadata": {
        "id": "uDC1jKPcQQFP"
      },
      "execution_count": null,
      "outputs": []
    },
    {
      "cell_type": "code",
      "source": [],
      "metadata": {
        "id": "j3YFbE6eQNpk"
      },
      "execution_count": null,
      "outputs": []
    },
    {
      "cell_type": "code",
      "source": [],
      "metadata": {
        "id": "YlJm4JbRr81r"
      },
      "execution_count": null,
      "outputs": []
    },
    {
      "cell_type": "code",
      "source": [],
      "metadata": {
        "id": "H2j08pGorxqK"
      },
      "execution_count": null,
      "outputs": []
    },
    {
      "cell_type": "code",
      "source": [],
      "metadata": {
        "id": "nPDKTZH-rvM3"
      },
      "execution_count": null,
      "outputs": []
    },
    {
      "cell_type": "code",
      "source": [],
      "metadata": {
        "id": "-BW9LmdArsv-"
      },
      "execution_count": null,
      "outputs": []
    },
    {
      "cell_type": "code",
      "source": [],
      "metadata": {
        "id": "Vc4o7wgDrl7h"
      },
      "execution_count": null,
      "outputs": []
    },
    {
      "cell_type": "code",
      "source": [],
      "metadata": {
        "id": "Vo7TqoKhrkCv"
      },
      "execution_count": null,
      "outputs": []
    },
    {
      "cell_type": "code",
      "source": [],
      "metadata": {
        "id": "Cbqw53J6qDZH"
      },
      "execution_count": null,
      "outputs": []
    },
    {
      "cell_type": "code",
      "source": [],
      "metadata": {
        "id": "blL66C64jtqC"
      },
      "execution_count": null,
      "outputs": []
    },
    {
      "cell_type": "code",
      "source": [],
      "metadata": {
        "id": "-xSrsQ7kjI8o"
      },
      "execution_count": null,
      "outputs": []
    },
    {
      "cell_type": "code",
      "source": [],
      "metadata": {
        "id": "aYAhDFS0dCkK"
      },
      "execution_count": null,
      "outputs": []
    },
    {
      "cell_type": "code",
      "source": [],
      "metadata": {
        "id": "r-MKRDkpc7mw"
      },
      "execution_count": null,
      "outputs": []
    },
    {
      "cell_type": "code",
      "source": [],
      "metadata": {
        "id": "PxI8cHvWc2-F"
      },
      "execution_count": null,
      "outputs": []
    },
    {
      "cell_type": "code",
      "source": [],
      "metadata": {
        "id": "xuUJ_oU6czOa"
      },
      "execution_count": null,
      "outputs": []
    },
    {
      "cell_type": "code",
      "source": [],
      "metadata": {
        "id": "uLstxMr4cuGg"
      },
      "execution_count": null,
      "outputs": []
    },
    {
      "cell_type": "code",
      "source": [],
      "metadata": {
        "id": "NkiGVQ-GcfTk"
      },
      "execution_count": null,
      "outputs": []
    },
    {
      "cell_type": "code",
      "source": [],
      "metadata": {
        "id": "30OfcnkGcdZG"
      },
      "execution_count": null,
      "outputs": []
    },
    {
      "cell_type": "code",
      "source": [],
      "metadata": {
        "id": "ICkHyEyscJbz"
      },
      "execution_count": null,
      "outputs": []
    },
    {
      "cell_type": "code",
      "source": [],
      "metadata": {
        "id": "dna9hrMOb_hM"
      },
      "execution_count": null,
      "outputs": []
    },
    {
      "cell_type": "code",
      "source": [],
      "metadata": {
        "id": "l1diF62Ib5jB"
      },
      "execution_count": null,
      "outputs": []
    },
    {
      "cell_type": "code",
      "source": [],
      "metadata": {
        "id": "TNWhtvE9baqc"
      },
      "execution_count": null,
      "outputs": []
    },
    {
      "cell_type": "code",
      "source": [],
      "metadata": {
        "id": "-ULiYpN2azHv"
      },
      "execution_count": null,
      "outputs": []
    },
    {
      "cell_type": "code",
      "source": [],
      "metadata": {
        "id": "dLKoamh9axx5"
      },
      "execution_count": null,
      "outputs": []
    },
    {
      "cell_type": "code",
      "source": [],
      "metadata": {
        "id": "2y7z-ub7alZ-"
      },
      "execution_count": null,
      "outputs": []
    },
    {
      "cell_type": "code",
      "source": [],
      "metadata": {
        "id": "RbYJJ7mXag1W"
      },
      "execution_count": null,
      "outputs": []
    },
    {
      "cell_type": "code",
      "source": [],
      "metadata": {
        "id": "D2VNsrKVaczM"
      },
      "execution_count": null,
      "outputs": []
    },
    {
      "cell_type": "code",
      "source": [],
      "metadata": {
        "id": "5jOH8gYMaWXO"
      },
      "execution_count": null,
      "outputs": []
    },
    {
      "cell_type": "code",
      "source": [],
      "metadata": {
        "id": "ea74kjOlaU-Q"
      },
      "execution_count": null,
      "outputs": []
    },
    {
      "cell_type": "code",
      "source": [],
      "metadata": {
        "id": "rOX9qWitaS5A"
      },
      "execution_count": null,
      "outputs": []
    },
    {
      "cell_type": "code",
      "source": [],
      "metadata": {
        "id": "LpDvyZooaAv8"
      },
      "execution_count": null,
      "outputs": []
    },
    {
      "cell_type": "code",
      "source": [],
      "metadata": {
        "id": "EpucdD59Z6fE"
      },
      "execution_count": null,
      "outputs": []
    },
    {
      "cell_type": "code",
      "source": [],
      "metadata": {
        "id": "BvTyOtuAZ14Z"
      },
      "execution_count": null,
      "outputs": []
    },
    {
      "cell_type": "code",
      "source": [],
      "metadata": {
        "id": "FPpTBegkZdSn"
      },
      "execution_count": null,
      "outputs": []
    },
    {
      "cell_type": "code",
      "source": [],
      "metadata": {
        "id": "a3TBu5k4ZECw"
      },
      "execution_count": null,
      "outputs": []
    },
    {
      "cell_type": "code",
      "source": [],
      "metadata": {
        "id": "DEFxrgXSX6_I"
      },
      "execution_count": null,
      "outputs": []
    },
    {
      "cell_type": "code",
      "source": [],
      "metadata": {
        "id": "xnlH8k7kX0qN"
      },
      "execution_count": null,
      "outputs": []
    },
    {
      "cell_type": "code",
      "source": [],
      "metadata": {
        "id": "RPfYurlqXrZT"
      },
      "execution_count": null,
      "outputs": []
    },
    {
      "cell_type": "code",
      "source": [],
      "metadata": {
        "id": "TH8hBr4vXo5N"
      },
      "execution_count": null,
      "outputs": []
    },
    {
      "cell_type": "code",
      "source": [],
      "metadata": {
        "id": "IA3_TvWMXeCt"
      },
      "execution_count": null,
      "outputs": []
    },
    {
      "cell_type": "code",
      "source": [],
      "metadata": {
        "id": "_Hz0qDXfW-kL"
      },
      "execution_count": null,
      "outputs": []
    },
    {
      "cell_type": "code",
      "source": [],
      "metadata": {
        "id": "LorB_pLjWgzg"
      },
      "execution_count": null,
      "outputs": []
    },
    {
      "cell_type": "code",
      "source": [],
      "metadata": {
        "id": "BEoOyEQ7WYxj"
      },
      "execution_count": null,
      "outputs": []
    },
    {
      "cell_type": "code",
      "source": [],
      "metadata": {
        "id": "EnCS9EzEWVi4"
      },
      "execution_count": null,
      "outputs": []
    },
    {
      "cell_type": "code",
      "source": [],
      "metadata": {
        "id": "p67S76ZmWSar"
      },
      "execution_count": null,
      "outputs": []
    },
    {
      "cell_type": "code",
      "source": [],
      "metadata": {
        "id": "ka-GPctTWPdL"
      },
      "execution_count": null,
      "outputs": []
    },
    {
      "cell_type": "code",
      "source": [],
      "metadata": {
        "id": "oXwsBDuGWJER"
      },
      "execution_count": null,
      "outputs": []
    },
    {
      "cell_type": "code",
      "source": [],
      "metadata": {
        "id": "dCGBD-c3WHDb"
      },
      "execution_count": null,
      "outputs": []
    },
    {
      "cell_type": "code",
      "source": [],
      "metadata": {
        "id": "n1vUpuahVxsy"
      },
      "execution_count": null,
      "outputs": []
    },
    {
      "cell_type": "code",
      "source": [],
      "metadata": {
        "id": "IjmtzXbDVwFH"
      },
      "execution_count": null,
      "outputs": []
    },
    {
      "cell_type": "code",
      "source": [],
      "metadata": {
        "id": "WsvqDAKCVuxI"
      },
      "execution_count": null,
      "outputs": []
    },
    {
      "cell_type": "code",
      "source": [
        "data_info.columns"
      ],
      "metadata": {
        "id": "AAptk0o6VhyN"
      },
      "execution_count": null,
      "outputs": []
    },
    {
      "cell_type": "code",
      "source": [],
      "metadata": {
        "id": "EUNI2NDlVlZt"
      },
      "execution_count": null,
      "outputs": []
    },
    {
      "cell_type": "code",
      "source": [],
      "metadata": {
        "id": "dVtDPsiGVg6U"
      },
      "execution_count": null,
      "outputs": []
    },
    {
      "cell_type": "code",
      "source": [],
      "metadata": {
        "id": "vbYhD32BVc8u"
      },
      "execution_count": null,
      "outputs": []
    },
    {
      "cell_type": "code",
      "source": [],
      "metadata": {
        "id": "yNNOZ_aUVXWx"
      },
      "execution_count": null,
      "outputs": []
    },
    {
      "cell_type": "code",
      "source": [],
      "metadata": {
        "id": "ywvEb4EDVRRp"
      },
      "execution_count": null,
      "outputs": []
    },
    {
      "cell_type": "code",
      "source": [],
      "metadata": {
        "id": "ytFFchCkVKoB"
      },
      "execution_count": null,
      "outputs": []
    },
    {
      "cell_type": "code",
      "source": [],
      "metadata": {
        "id": "M25WCqwQVIe4"
      },
      "execution_count": null,
      "outputs": []
    },
    {
      "cell_type": "code",
      "source": [],
      "metadata": {
        "id": "nNb6sQ5dVBtJ"
      },
      "execution_count": null,
      "outputs": []
    },
    {
      "cell_type": "code",
      "source": [],
      "metadata": {
        "id": "gPhtyXssUpgK"
      },
      "execution_count": null,
      "outputs": []
    },
    {
      "cell_type": "code",
      "source": [],
      "metadata": {
        "id": "3OuqpKYJUoDF"
      },
      "execution_count": null,
      "outputs": []
    },
    {
      "cell_type": "code",
      "source": [],
      "metadata": {
        "id": "b6wYZVEDUlxb"
      },
      "execution_count": null,
      "outputs": []
    },
    {
      "cell_type": "code",
      "source": [],
      "metadata": {
        "id": "xHmu08l5UibP"
      },
      "execution_count": null,
      "outputs": []
    }
  ]
}